{
  "nbformat": 4,
  "nbformat_minor": 0,
  "metadata": {
    "colab": {
      "name": "Pandas Tutorial.ipynb",
      "provenance": [],
      "collapsed_sections": [
        "hSWUjNWDgC_p",
        "P53DdaI7xivt",
        "7EX_x0i4b_aM",
        "EUk8YuO3dS7B",
        "AhUA4-jug0jU"
      ],
      "mount_file_id": "1uyxgP6RD5QDy7qJsx7Z9nYP5YzfHczUR",
      "authorship_tag": "ABX9TyN6q+H1CwobTS3Yy91gUMtR",
      "include_colab_link": true
    },
    "kernelspec": {
      "name": "python3",
      "display_name": "Python 3"
    },
    "language_info": {
      "name": "python"
    }
  },
  "cells": [
    {
      "cell_type": "markdown",
      "metadata": {
        "id": "view-in-github",
        "colab_type": "text"
      },
      "source": [
        "<a href=\"https://colab.research.google.com/github/koushikpr/Machine-Learning-Prerequisites/blob/Pandas/Pandas_Tutorial.ipynb\" target=\"_parent\"><img src=\"https://colab.research.google.com/assets/colab-badge.svg\" alt=\"Open In Colab\"/></a>"
      ]
    },
    {
      "cell_type": "code",
      "source": [
        "import pandas as pd"
      ],
      "metadata": {
        "id": "pRyiG0VDgV65"
      },
      "execution_count": 5,
      "outputs": []
    },
    {
      "cell_type": "markdown",
      "source": [
        "# **Reading Data**\n",
        "\n",
        "---\n",
        "\n"
      ],
      "metadata": {
        "id": "hSWUjNWDgC_p"
      }
    },
    {
      "cell_type": "markdown",
      "source": [
        "1. Creating Series"
      ],
      "metadata": {
        "id": "goReuaVPhQqF"
      }
    },
    {
      "cell_type": "code",
      "source": [
        "a = [1, 2, 3]\n",
        "\n",
        "myvar = pd.Series(a)\n",
        "\n",
        "print(myvar)"
      ],
      "metadata": {
        "colab": {
          "base_uri": "https://localhost:8080/"
        },
        "id": "d04slpaRhcBW",
        "outputId": "5f27d826-e2dd-47b7-8eac-4eb6a84b0b33"
      },
      "execution_count": 4,
      "outputs": [
        {
          "output_type": "stream",
          "name": "stdout",
          "text": [
            "0    1\n",
            "1    2\n",
            "2    3\n",
            "dtype: int64\n"
          ]
        }
      ]
    },
    {
      "cell_type": "markdown",
      "source": [
        "2. Adding labels to the series"
      ],
      "metadata": {
        "id": "z1Lk2yqShnxN"
      }
    },
    {
      "cell_type": "code",
      "source": [
        "a = [1,2,3]\n",
        "labelss = ['x','y','z']\n",
        "myvar = pd.Series(a,index = labelss)\n",
        "print(myvar)\n",
        "print(myvar['x'])"
      ],
      "metadata": {
        "colab": {
          "base_uri": "https://localhost:8080/"
        },
        "id": "PVEw-NUyhqRL",
        "outputId": "bf8b98a8-5616-4531-dd64-9c99fc79adcf"
      },
      "execution_count": 7,
      "outputs": [
        {
          "output_type": "stream",
          "name": "stdout",
          "text": [
            "x    1\n",
            "y    2\n",
            "z    3\n",
            "dtype: int64\n",
            "1\n"
          ]
        }
      ]
    },
    {
      "cell_type": "markdown",
      "source": [
        "note: By default labels of any series are their index values "
      ],
      "metadata": {
        "id": "4WKmlL3JiSeD"
      }
    },
    {
      "cell_type": "markdown",
      "source": [
        "3. Creating Series from a dictionary"
      ],
      "metadata": {
        "id": "QFD6w_NMihbl"
      }
    },
    {
      "cell_type": "code",
      "source": [
        "calories = {\"day1\": 420, \"day2\": 380, \"day3\": 390}\n",
        "\n",
        "myvar = pd.Series(calories)\n",
        "\n",
        "print(myvar)"
      ],
      "metadata": {
        "colab": {
          "base_uri": "https://localhost:8080/"
        },
        "id": "qL5cHGxji5TI",
        "outputId": "ffed72a6-0458-48dc-d04a-a55c15a75c55"
      },
      "execution_count": 8,
      "outputs": [
        {
          "output_type": "stream",
          "name": "stdout",
          "text": [
            "day1    420\n",
            "day2    380\n",
            "day3    390\n",
            "dtype: int64\n"
          ]
        }
      ]
    },
    {
      "cell_type": "markdown",
      "source": [
        "note: the keys of these values become the labels"
      ],
      "metadata": {
        "id": "MPnYn9EUjKK4"
      }
    },
    {
      "cell_type": "markdown",
      "source": [
        "4. Creating series from only gives labels"
      ],
      "metadata": {
        "id": "pzeuH8I9jxzw"
      }
    },
    {
      "cell_type": "code",
      "source": [
        "mynewvar = pd.Series(calories,index=['day1','day2'])\n",
        "print(mynewvar)"
      ],
      "metadata": {
        "colab": {
          "base_uri": "https://localhost:8080/"
        },
        "id": "ZIzS7jMxjQqS",
        "outputId": "9131df7c-357a-47b2-cc69-3c48749b9123"
      },
      "execution_count": 9,
      "outputs": [
        {
          "output_type": "stream",
          "name": "stdout",
          "text": [
            "day1    420\n",
            "day2    380\n",
            "dtype: int64\n"
          ]
        }
      ]
    },
    {
      "cell_type": "markdown",
      "source": [
        "5. Creating Dataframes"
      ],
      "metadata": {
        "id": "LUZTKToilzJ8"
      }
    },
    {
      "cell_type": "code",
      "execution_count": 3,
      "metadata": {
        "colab": {
          "base_uri": "https://localhost:8080/"
        },
        "id": "V9-Gxkx2e_Tc",
        "outputId": "c764531d-0d7b-4e8c-b337-84d057e26247"
      },
      "outputs": [
        {
          "output_type": "stream",
          "name": "stdout",
          "text": [
            "    cars  passings\n",
            "0    BMW         3\n",
            "1  Volvo         7\n",
            "2   Ford         2\n"
          ]
        }
      ],
      "source": [
        "mydataset = {\n",
        "  'cars': [\"BMW\", \"Volvo\", \"Ford\"],\n",
        "  'passings': [3, 7, 2]\n",
        "}\n",
        "varr = pd.DataFrame(mydataset)\n",
        "print(varr)"
      ]
    },
    {
      "cell_type": "markdown",
      "source": [
        "6. Selecting datasets"
      ],
      "metadata": {
        "id": "yLB-PTLll4Bq"
      }
    },
    {
      "cell_type": "code",
      "source": [
        "#selecting one row\n",
        "dd = varr.loc[0]\n",
        "#selecting many rows using array of labels\n",
        "md = varr.loc[[0,1,2]]\n",
        "print(dd)\n",
        "print(md)"
      ],
      "metadata": {
        "colab": {
          "base_uri": "https://localhost:8080/"
        },
        "id": "UXf4FlO1mvLX",
        "outputId": "1032e940-b523-43cc-e1ce-d9e60205249e"
      },
      "execution_count": 16,
      "outputs": [
        {
          "output_type": "stream",
          "name": "stdout",
          "text": [
            "cars        BMW\n",
            "passings      3\n",
            "Name: 0, dtype: object\n",
            "    cars  passings\n",
            "0    BMW         3\n",
            "1  Volvo         7\n",
            "2   Ford         2\n"
          ]
        }
      ]
    },
    {
      "cell_type": "markdown",
      "source": [
        "7.  Labelling dataframes"
      ],
      "metadata": {
        "id": "bOLRDZ66nji5"
      }
    },
    {
      "cell_type": "code",
      "source": [
        "newvar = pd.DataFrame(mydataset,index = ['x','x','z'])\n",
        "print(newvar)"
      ],
      "metadata": {
        "colab": {
          "base_uri": "https://localhost:8080/"
        },
        "id": "-Z8bv-8uo1EJ",
        "outputId": "786bb9dd-7ed5-4a85-934c-9f78f72c7485"
      },
      "execution_count": 32,
      "outputs": [
        {
          "output_type": "stream",
          "name": "stdout",
          "text": [
            "    cars  passings\n",
            "x    BMW         3\n",
            "x  Volvo         7\n",
            "z   Ford         2\n"
          ]
        }
      ]
    },
    {
      "cell_type": "markdown",
      "source": [
        "note: 2 or more rows can have the same label"
      ],
      "metadata": {
        "id": "C1iod1ItpnIt"
      }
    },
    {
      "cell_type": "markdown",
      "source": [
        "8. Accessing dataframe rows"
      ],
      "metadata": {
        "id": "F692xaPKptdw"
      }
    },
    {
      "cell_type": "code",
      "source": [
        "print(newvar.loc['x'])"
      ],
      "metadata": {
        "colab": {
          "base_uri": "https://localhost:8080/"
        },
        "id": "haVO96KOpxBI",
        "outputId": "0a72066d-6da3-4470-98c7-d8c077adfe09"
      },
      "execution_count": 33,
      "outputs": [
        {
          "output_type": "stream",
          "name": "stdout",
          "text": [
            "    cars  passings\n",
            "x    BMW         3\n",
            "x  Volvo         7\n"
          ]
        }
      ]
    },
    {
      "cell_type": "markdown",
      "source": [
        "9. Reading CSV files"
      ],
      "metadata": {
        "id": "d4soWAcrqKCR"
      }
    },
    {
      "cell_type": "code",
      "source": [
        "df = pd.read_csv('/content/sample_data/california_housing_test.csv')\n",
        "print(df)\n"
      ],
      "metadata": {
        "colab": {
          "base_uri": "https://localhost:8080/"
        },
        "id": "Y6j-ajmCrb0m",
        "outputId": "f754d0b0-e4cf-4acf-a47c-1c095264897d"
      },
      "execution_count": 36,
      "outputs": [
        {
          "output_type": "stream",
          "name": "stdout",
          "text": [
            "      longitude  latitude  housing_median_age  total_rooms  total_bedrooms  \\\n",
            "0       -122.05     37.37                27.0       3885.0           661.0   \n",
            "1       -118.30     34.26                43.0       1510.0           310.0   \n",
            "2       -117.81     33.78                27.0       3589.0           507.0   \n",
            "3       -118.36     33.82                28.0         67.0            15.0   \n",
            "4       -119.67     36.33                19.0       1241.0           244.0   \n",
            "...         ...       ...                 ...          ...             ...   \n",
            "2995    -119.86     34.42                23.0       1450.0           642.0   \n",
            "2996    -118.14     34.06                27.0       5257.0          1082.0   \n",
            "2997    -119.70     36.30                10.0        956.0           201.0   \n",
            "2998    -117.12     34.10                40.0         96.0            14.0   \n",
            "2999    -119.63     34.42                42.0       1765.0           263.0   \n",
            "\n",
            "      population  households  median_income  median_house_value  \n",
            "0         1537.0       606.0         6.6085            344700.0  \n",
            "1          809.0       277.0         3.5990            176500.0  \n",
            "2         1484.0       495.0         5.7934            270500.0  \n",
            "3           49.0        11.0         6.1359            330000.0  \n",
            "4          850.0       237.0         2.9375             81700.0  \n",
            "...          ...         ...            ...                 ...  \n",
            "2995      1258.0       607.0         1.1790            225000.0  \n",
            "2996      3496.0      1036.0         3.3906            237200.0  \n",
            "2997       693.0       220.0         2.2895             62000.0  \n",
            "2998        46.0        14.0         3.2708            162500.0  \n",
            "2999       753.0       260.0         8.5608            500001.0  \n",
            "\n",
            "[3000 rows x 9 columns]\n"
          ]
        }
      ]
    },
    {
      "cell_type": "markdown",
      "source": [
        "10. Printing entire DataFrame using to_string\n"
      ],
      "metadata": {
        "id": "MlKqPndbsdcX"
      }
    },
    {
      "cell_type": "code",
      "source": [
        "print(df.to_string())"
      ],
      "metadata": {
        "id": "z-7M-Qnws7nd"
      },
      "execution_count": null,
      "outputs": []
    },
    {
      "cell_type": "markdown",
      "source": [
        "11. Reading JSON files"
      ],
      "metadata": {
        "id": "7rQoOJvZs_zI"
      }
    },
    {
      "cell_type": "code",
      "source": [
        "dj = pd.read_json('/content/sample_data/anscombe.json')\n",
        "print(dj)"
      ],
      "metadata": {
        "colab": {
          "base_uri": "https://localhost:8080/"
        },
        "id": "3M4hecQAuLWn",
        "outputId": "bc72ad17-aee2-4b29-8f3d-43f2ddb030dc"
      },
      "execution_count": 40,
      "outputs": [
        {
          "output_type": "stream",
          "name": "stdout",
          "text": [
            "   Series   X      Y\n",
            "0       I  10   8.04\n",
            "1       I   8   6.95\n",
            "2       I  13   7.58\n",
            "3       I   9   8.81\n",
            "4       I  11   8.33\n",
            "5       I  14   9.96\n",
            "6       I   6   7.24\n",
            "7       I   4   4.26\n",
            "8       I  12  10.84\n",
            "9       I   7   4.81\n",
            "10      I   5   5.68\n",
            "11     II  10   9.14\n",
            "12     II   8   8.14\n",
            "13     II  13   8.74\n",
            "14     II   9   8.77\n",
            "15     II  11   9.26\n",
            "16     II  14   8.10\n",
            "17     II   6   6.13\n",
            "18     II   4   3.10\n",
            "19     II  12   9.13\n",
            "20     II   7   7.26\n",
            "21     II   5   4.74\n",
            "22    III  10   7.46\n",
            "23    III   8   6.77\n",
            "24    III  13  12.74\n",
            "25    III   9   7.11\n",
            "26    III  11   7.81\n",
            "27    III  14   8.84\n",
            "28    III   6   6.08\n",
            "29    III   4   5.39\n",
            "30    III  12   8.15\n",
            "31    III   7   6.42\n",
            "32    III   5   5.73\n",
            "33     IV   8   6.58\n",
            "34     IV   8   5.76\n",
            "35     IV   8   7.71\n",
            "36     IV   8   8.84\n",
            "37     IV   8   8.47\n",
            "38     IV   8   7.04\n",
            "39     IV   8   5.25\n",
            "40     IV  19  12.50\n",
            "41     IV   8   5.56\n",
            "42     IV   8   7.91\n",
            "43     IV   8   6.89\n"
          ]
        }
      ]
    },
    {
      "cell_type": "markdown",
      "source": [
        "note: JSON file = python Dictionary"
      ],
      "metadata": {
        "id": "BKDR_l5MurAQ"
      }
    },
    {
      "cell_type": "markdown",
      "source": [
        "12. Loading a python Dictionary with similar Keywords Directly"
      ],
      "metadata": {
        "id": "7GHDGNIcu9Nu"
      }
    },
    {
      "cell_type": "code",
      "source": [
        "data = {\n",
        "  \"Duration\":{\n",
        "    \"0\":60,\n",
        "    \"1\":60,\n",
        "    \"2\":60,\n",
        "    \"3\":45,\n",
        "    \"4\":45,\n",
        "    \"5\":60\n",
        "  },\n",
        "  \"Pulse\":{\n",
        "    \"0\":110,\n",
        "    \"1\":117,\n",
        "    \"2\":103,\n",
        "    \"3\":109,\n",
        "    \"4\":117,\n",
        "    \"5\":102\n",
        "  },\n",
        "  \"Maxpulse\":{\n",
        "    \"0\":130,\n",
        "    \"1\":145,\n",
        "    \"2\":135,\n",
        "    \"3\":175,\n",
        "    \"4\":148,\n",
        "    \"5\":127\n",
        "  },\n",
        "  \"Calories\":{\n",
        "    \"0\":409,\n",
        "    \"1\":479,\n",
        "    \"2\":340,\n",
        "    \"3\":282,\n",
        "    \"4\":406,\n",
        "    \"5\":300\n",
        "  }\n",
        "}\n",
        "dff = pd.DataFrame(data)\n",
        "print(dff)"
      ],
      "metadata": {
        "colab": {
          "base_uri": "https://localhost:8080/"
        },
        "id": "CYFhBGnBuu9D",
        "outputId": "6d396ae0-1b6a-433d-f82e-99745c35a4d1"
      },
      "execution_count": 46,
      "outputs": [
        {
          "output_type": "stream",
          "name": "stdout",
          "text": [
            "   Duration  Pulse  Maxpulse  Calories\n",
            "0        60    110       130       409\n",
            "1        60    117       145       479\n",
            "2        60    103       135       340\n",
            "3        45    109       175       282\n",
            "4        45    117       148       406\n",
            "5        60    102       127       300\n"
          ]
        }
      ]
    },
    {
      "cell_type": "markdown",
      "source": [
        "13. Reading the first n rows or last n rows"
      ],
      "metadata": {
        "id": "Vy37TbALv-cL"
      }
    },
    {
      "cell_type": "code",
      "source": [
        "n=3\n",
        "print(dff.head(n))\n",
        "print(dff.tail(n))"
      ],
      "metadata": {
        "colab": {
          "base_uri": "https://localhost:8080/"
        },
        "id": "b8OZdqRRwNGq",
        "outputId": "c971d359-111a-46ed-a010-568f82a94ea3"
      },
      "execution_count": 52,
      "outputs": [
        {
          "output_type": "stream",
          "name": "stdout",
          "text": [
            "   Duration  Pulse  Maxpulse  Calories\n",
            "0        60    110       130       409\n",
            "1        60    117       145       479\n",
            "2        60    103       135       340\n",
            "   Duration  Pulse  Maxpulse  Calories\n",
            "3        45    109       175       282\n",
            "4        45    117       148       406\n",
            "5        60    102       127       300\n"
          ]
        }
      ]
    },
    {
      "cell_type": "markdown",
      "source": [
        "note: by default head() or tail() will return first 5 rows"
      ],
      "metadata": {
        "id": "jYOub64Gwmhe"
      }
    },
    {
      "cell_type": "markdown",
      "source": [
        "# **Data Cleaning**\n",
        "\n",
        "---\n",
        "\n"
      ],
      "metadata": {
        "id": "P53DdaI7xivt"
      }
    },
    {
      "cell_type": "markdown",
      "source": [
        "1. Cleaning Empty Cells\n"
      ],
      "metadata": {
        "id": "Wp-TY_9Vxp1k"
      }
    },
    {
      "cell_type": "code",
      "source": [
        "df = pd.read_csv('/content/dirtydata.csv')\n",
        "#creating new dataframe with no empty rows\n",
        "newdf = df.dropna()\n",
        "print(newdf)\n",
        "#deleting dataframe with empty rows\n",
        "#df.dropna(inplace = True)\n",
        "print(df)\n"
      ],
      "metadata": {
        "colab": {
          "base_uri": "https://localhost:8080/"
        },
        "id": "y2Lu3-7fycme",
        "outputId": "c302f707-4b2a-4ea4-9870-bb94cb3b4c80"
      },
      "execution_count": 10,
      "outputs": [
        {
          "output_type": "stream",
          "name": "stdout",
          "text": [
            "    Duration          Date  Pulse  Maxpulse  Calories\n",
            "0         60  '2020/12/01'    110       130     409.1\n",
            "1         60  '2020/12/02'    117       145     479.0\n",
            "2         60  '2020/12/03'    103       135     340.0\n",
            "3         45  '2020/12/04'    109       175     282.4\n",
            "4         45  '2020/12/05'    117       148     406.0\n",
            "5         60  '2020/12/06'    102       127     300.0\n",
            "6         60  '2020/12/07'    110       136     374.0\n",
            "7        450  '2020/12/08'    104       134     253.3\n",
            "8         30  '2020/12/09'    109       133     195.1\n",
            "9         60  '2020/12/10'     98       124     269.0\n",
            "10        60  '2020/12/11'    103       147     329.3\n",
            "11        60  '2020/12/12'    100       120     250.7\n",
            "12        60  '2020/12/12'    100       120     250.7\n",
            "13        60  '2020/12/13'    106       128     345.3\n",
            "14        60  '2020/12/14'    104       132     379.3\n",
            "15        60  '2020/12/15'     98       123     275.0\n",
            "16        60  '2020/12/16'     98       120     215.2\n",
            "17        60  '2020/12/17'    100       120     300.0\n",
            "19        60  '2020/12/19'    103       123     323.0\n",
            "20        45  '2020/12/20'     97       125     243.0\n",
            "21        60  '2020/12/21'    108       131     364.2\n",
            "23        60  '2020/12/23'    130       101     300.0\n",
            "24        45  '2020/12/24'    105       132     246.0\n",
            "25        60  '2020/12/25'    102       126     334.5\n",
            "26        60      20201226    100       120     250.0\n",
            "27        60  '2020/12/27'     92       118     241.0\n",
            "29        60  '2020/12/29'    100       132     280.0\n",
            "30        60  '2020/12/30'    102       129     380.3\n",
            "31        60  '2020/12/31'     92       115     243.0\n",
            "    Duration          Date  Pulse  Maxpulse  Calories\n",
            "0         60  '2020/12/01'    110       130     409.1\n",
            "1         60  '2020/12/02'    117       145     479.0\n",
            "2         60  '2020/12/03'    103       135     340.0\n",
            "3         45  '2020/12/04'    109       175     282.4\n",
            "4         45  '2020/12/05'    117       148     406.0\n",
            "5         60  '2020/12/06'    102       127     300.0\n",
            "6         60  '2020/12/07'    110       136     374.0\n",
            "7        450  '2020/12/08'    104       134     253.3\n",
            "8         30  '2020/12/09'    109       133     195.1\n",
            "9         60  '2020/12/10'     98       124     269.0\n",
            "10        60  '2020/12/11'    103       147     329.3\n",
            "11        60  '2020/12/12'    100       120     250.7\n",
            "12        60  '2020/12/12'    100       120     250.7\n",
            "13        60  '2020/12/13'    106       128     345.3\n",
            "14        60  '2020/12/14'    104       132     379.3\n",
            "15        60  '2020/12/15'     98       123     275.0\n",
            "16        60  '2020/12/16'     98       120     215.2\n",
            "17        60  '2020/12/17'    100       120     300.0\n",
            "18        45  '2020/12/18'     90       112       NaN\n",
            "19        60  '2020/12/19'    103       123     323.0\n",
            "20        45  '2020/12/20'     97       125     243.0\n",
            "21        60  '2020/12/21'    108       131     364.2\n",
            "22        45           NaN    100       119     282.0\n",
            "23        60  '2020/12/23'    130       101     300.0\n",
            "24        45  '2020/12/24'    105       132     246.0\n",
            "25        60  '2020/12/25'    102       126     334.5\n",
            "26        60      20201226    100       120     250.0\n",
            "27        60  '2020/12/27'     92       118     241.0\n",
            "28        60  '2020/12/28'    103       132       NaN\n",
            "29        60  '2020/12/29'    100       132     280.0\n",
            "30        60  '2020/12/30'    102       129     380.3\n",
            "31        60  '2020/12/31'     92       115     243.0\n"
          ]
        }
      ]
    },
    {
      "cell_type": "markdown",
      "source": [
        "2. Replacing empty cells "
      ],
      "metadata": {
        "id": "Cps1vEg5zYP8"
      }
    },
    {
      "cell_type": "code",
      "source": [
        "#replacing all empty cells with certain values\n",
        "df.fillna(130,inplace =True)\n",
        "print(df)\n",
        "#replacing cells of a specific column \n",
        "\n",
        "#with a mean\n",
        "mean = df['Calories'].mean()\n",
        "df['Calories'].fillna(mean,inplace=True)\n",
        "#with a mode\n",
        "mode = df['Calories'].mode()\n",
        "df['Calories'].fillna(mode,inplace=True)\n",
        "#with a median\n",
        "median = df['Calories'].median()\n",
        "df['Calories'].fillna(median,inplace=True)\n"
      ],
      "metadata": {
        "colab": {
          "base_uri": "https://localhost:8080/"
        },
        "id": "4qKz7HWsVEj3",
        "outputId": "3bd2e0d7-15a2-4e58-93f6-1c2b559bf3ed"
      },
      "execution_count": 9,
      "outputs": [
        {
          "output_type": "stream",
          "name": "stdout",
          "text": [
            "    Duration          Date  Pulse  Maxpulse  Calories\n",
            "0         60  '2020/12/01'    110       130     409.1\n",
            "1         60  '2020/12/02'    117       145     479.0\n",
            "2         60  '2020/12/03'    103       135     340.0\n",
            "3         45  '2020/12/04'    109       175     282.4\n",
            "4         45  '2020/12/05'    117       148     406.0\n",
            "5         60  '2020/12/06'    102       127     300.0\n",
            "6         60  '2020/12/07'    110       136     374.0\n",
            "7        450  '2020/12/08'    104       134     253.3\n",
            "8         30  '2020/12/09'    109       133     195.1\n",
            "9         60  '2020/12/10'     98       124     269.0\n",
            "10        60  '2020/12/11'    103       147     329.3\n",
            "11        60  '2020/12/12'    100       120     250.7\n",
            "12        60  '2020/12/12'    100       120     250.7\n",
            "13        60  '2020/12/13'    106       128     345.3\n",
            "14        60  '2020/12/14'    104       132     379.3\n",
            "15        60  '2020/12/15'     98       123     275.0\n",
            "16        60  '2020/12/16'     98       120     215.2\n",
            "17        60  '2020/12/17'    100       120     300.0\n",
            "18        45  '2020/12/18'     90       112     130.0\n",
            "19        60  '2020/12/19'    103       123     323.0\n",
            "20        45  '2020/12/20'     97       125     243.0\n",
            "21        60  '2020/12/21'    108       131     364.2\n",
            "22        45           130    100       119     282.0\n",
            "23        60  '2020/12/23'    130       101     300.0\n",
            "24        45  '2020/12/24'    105       132     246.0\n",
            "25        60  '2020/12/25'    102       126     334.5\n",
            "26        60      20201226    100       120     250.0\n",
            "27        60  '2020/12/27'     92       118     241.0\n",
            "28        60  '2020/12/28'    103       132     130.0\n",
            "29        60  '2020/12/29'    100       132     280.0\n",
            "30        60  '2020/12/30'    102       129     380.3\n",
            "31        60  '2020/12/31'     92       115     243.0\n"
          ]
        }
      ]
    },
    {
      "cell_type": "markdown",
      "source": [
        "3. Cleaning data of wrong format"
      ],
      "metadata": {
        "id": "rSCrL6lXWylK"
      }
    },
    {
      "cell_type": "code",
      "source": [
        "df.dropna(subset=['Date'],inplace =True)\n",
        "print(df)"
      ],
      "metadata": {
        "colab": {
          "base_uri": "https://localhost:8080/"
        },
        "id": "dJ2dY0isXTRz",
        "outputId": "03ef5158-3208-4bf7-c475-92e87317ca3a"
      },
      "execution_count": 19,
      "outputs": [
        {
          "output_type": "stream",
          "name": "stdout",
          "text": [
            "    Duration       Date  Pulse  Maxpulse  Calories\n",
            "0         60 2020-12-01    110       130     409.1\n",
            "1         60 2020-12-02    117       145     479.0\n",
            "2         60 2020-12-03    103       135     340.0\n",
            "3         45 2020-12-04    109       175     282.4\n",
            "4         45 2020-12-05    117       148     406.0\n",
            "5         60 2020-12-06    102       127     300.0\n",
            "6         60 2020-12-07    110       136     374.0\n",
            "7         45 2020-12-08    104       134     253.3\n",
            "8         30 2020-12-09    109       133     195.1\n",
            "9         60 2020-12-10     98       124     269.0\n",
            "10        60 2020-12-11    103       147     329.3\n",
            "11        60 2020-12-12    100       120     250.7\n",
            "12        60 2020-12-12    100       120     250.7\n",
            "13        60 2020-12-13    106       128     345.3\n",
            "14        60 2020-12-14    104       132     379.3\n",
            "15        60 2020-12-15     98       123     275.0\n",
            "16        60 2020-12-16     98       120     215.2\n",
            "17        60 2020-12-17    100       120     300.0\n",
            "18        45 2020-12-18     90       112       NaN\n",
            "19        60 2020-12-19    103       123     323.0\n",
            "20        45 2020-12-20     97       125     243.0\n",
            "21        60 2020-12-21    108       131     364.2\n",
            "23        60 2020-12-23    130       101     300.0\n",
            "24        45 2020-12-24    105       132     246.0\n",
            "25        60 2020-12-25    102       126     334.5\n",
            "26        60 2020-12-26    100       120     250.0\n",
            "27        60 2020-12-27     92       118     241.0\n",
            "28        60 2020-12-28    103       132       NaN\n",
            "29        60 2020-12-29    100       132     280.0\n",
            "30        60 2020-12-30    102       129     380.3\n",
            "31        60 2020-12-31     92       115     243.0\n"
          ]
        }
      ]
    },
    {
      "cell_type": "markdown",
      "source": [
        "4. Converting data to right format"
      ],
      "metadata": {
        "id": "NQJEKaslYBjm"
      }
    },
    {
      "cell_type": "code",
      "source": [
        "df['Date'] = pd.to_datetime(df['Date'])\n",
        "print(df)"
      ],
      "metadata": {
        "colab": {
          "base_uri": "https://localhost:8080/"
        },
        "id": "Se8xOiywYBU0",
        "outputId": "8ead6d74-ec71-4864-fe10-839b39bf6076"
      },
      "execution_count": 17,
      "outputs": [
        {
          "output_type": "stream",
          "name": "stdout",
          "text": [
            "    Duration       Date  Pulse  Maxpulse  Calories\n",
            "0         60 2020-12-01    110       130     409.1\n",
            "1         60 2020-12-02    117       145     479.0\n",
            "2         60 2020-12-03    103       135     340.0\n",
            "3         45 2020-12-04    109       175     282.4\n",
            "4         45 2020-12-05    117       148     406.0\n",
            "5         60 2020-12-06    102       127     300.0\n",
            "6         60 2020-12-07    110       136     374.0\n",
            "7         45 2020-12-08    104       134     253.3\n",
            "8         30 2020-12-09    109       133     195.1\n",
            "9         60 2020-12-10     98       124     269.0\n",
            "10        60 2020-12-11    103       147     329.3\n",
            "11        60 2020-12-12    100       120     250.7\n",
            "12        60 2020-12-12    100       120     250.7\n",
            "13        60 2020-12-13    106       128     345.3\n",
            "14        60 2020-12-14    104       132     379.3\n",
            "15        60 2020-12-15     98       123     275.0\n",
            "16        60 2020-12-16     98       120     215.2\n",
            "17        60 2020-12-17    100       120     300.0\n",
            "18        45 2020-12-18     90       112       NaN\n",
            "19        60 2020-12-19    103       123     323.0\n",
            "20        45 2020-12-20     97       125     243.0\n",
            "21        60 2020-12-21    108       131     364.2\n",
            "23        60 2020-12-23    130       101     300.0\n",
            "24        45 2020-12-24    105       132     246.0\n",
            "25        60 2020-12-25    102       126     334.5\n",
            "26        60 2020-12-26    100       120     250.0\n",
            "27        60 2020-12-27     92       118     241.0\n",
            "28        60 2020-12-28    103       132       NaN\n",
            "29        60 2020-12-29    100       132     280.0\n",
            "30        60 2020-12-30    102       129     380.3\n",
            "31        60 2020-12-31     92       115     243.0\n"
          ]
        }
      ]
    },
    {
      "cell_type": "markdown",
      "source": [
        "5. Cleaning wrong data"
      ],
      "metadata": {
        "id": "mBqLLHEWYY1Z"
      }
    },
    {
      "cell_type": "code",
      "source": [
        "#replacing nth row on column m\n",
        "column ='Duration'\n",
        "row = 7\n",
        "df.loc[row,column]=45\n",
        "print(df)"
      ],
      "metadata": {
        "colab": {
          "base_uri": "https://localhost:8080/"
        },
        "id": "p6Ebh7bwYv7X",
        "outputId": "ebdbe02e-4944-450f-e62b-0fb1bd41897d"
      },
      "execution_count": 14,
      "outputs": [
        {
          "output_type": "stream",
          "name": "stdout",
          "text": [
            "    Duration       Date  Pulse  Maxpulse  Calories\n",
            "0         60 2020-12-01    110       130     409.1\n",
            "1         60 2020-12-02    117       145     479.0\n",
            "2         60 2020-12-03    103       135     340.0\n",
            "3         45 2020-12-04    109       175     282.4\n",
            "4         45 2020-12-05    117       148     406.0\n",
            "5         60 2020-12-06    102       127     300.0\n",
            "6         60 2020-12-07    110       136     374.0\n",
            "7         45 2020-12-08    104       134     253.3\n",
            "8         30 2020-12-09    109       133     195.1\n",
            "9         60 2020-12-10     98       124     269.0\n",
            "10        60 2020-12-11    103       147     329.3\n",
            "11        60 2020-12-12    100       120     250.7\n",
            "12        60 2020-12-12    100       120     250.7\n",
            "13        60 2020-12-13    106       128     345.3\n",
            "14        60 2020-12-14    104       132     379.3\n",
            "15        60 2020-12-15     98       123     275.0\n",
            "16        60 2020-12-16     98       120     215.2\n",
            "17        60 2020-12-17    100       120     300.0\n",
            "18        45 2020-12-18     90       112       NaN\n",
            "19        60 2020-12-19    103       123     323.0\n",
            "20        45 2020-12-20     97       125     243.0\n",
            "21        60 2020-12-21    108       131     364.2\n",
            "23        60 2020-12-23    130       101     300.0\n",
            "24        45 2020-12-24    105       132     246.0\n",
            "25        60 2020-12-25    102       126     334.5\n",
            "26        60 2020-12-26    100       120     250.0\n",
            "27        60 2020-12-27     92       118     241.0\n",
            "28        60 2020-12-28    103       132       NaN\n",
            "29        60 2020-12-29    100       132     280.0\n",
            "30        60 2020-12-30    102       129     380.3\n",
            "31        60 2020-12-31     92       115     243.0\n"
          ]
        }
      ]
    },
    {
      "cell_type": "markdown",
      "source": [
        "6. deleting row with wrong values"
      ],
      "metadata": {
        "id": "zcrueHh1Zag_"
      }
    },
    {
      "cell_type": "code",
      "source": [
        "for x in df.index:\n",
        "  if df.loc[x,'Duration']>120:\n",
        "    df.drop(x,inplace=True)\n",
        "print(df)"
      ],
      "metadata": {
        "colab": {
          "base_uri": "https://localhost:8080/"
        },
        "id": "_wE9z_4XZyg8",
        "outputId": "7f30dfec-7296-470d-ffff-fba6ba1f6a06"
      },
      "execution_count": 18,
      "outputs": [
        {
          "output_type": "stream",
          "name": "stdout",
          "text": [
            "    Duration       Date  Pulse  Maxpulse  Calories\n",
            "0         60 2020-12-01    110       130     409.1\n",
            "1         60 2020-12-02    117       145     479.0\n",
            "2         60 2020-12-03    103       135     340.0\n",
            "3         45 2020-12-04    109       175     282.4\n",
            "4         45 2020-12-05    117       148     406.0\n",
            "5         60 2020-12-06    102       127     300.0\n",
            "6         60 2020-12-07    110       136     374.0\n",
            "7         45 2020-12-08    104       134     253.3\n",
            "8         30 2020-12-09    109       133     195.1\n",
            "9         60 2020-12-10     98       124     269.0\n",
            "10        60 2020-12-11    103       147     329.3\n",
            "11        60 2020-12-12    100       120     250.7\n",
            "12        60 2020-12-12    100       120     250.7\n",
            "13        60 2020-12-13    106       128     345.3\n",
            "14        60 2020-12-14    104       132     379.3\n",
            "15        60 2020-12-15     98       123     275.0\n",
            "16        60 2020-12-16     98       120     215.2\n",
            "17        60 2020-12-17    100       120     300.0\n",
            "18        45 2020-12-18     90       112       NaN\n",
            "19        60 2020-12-19    103       123     323.0\n",
            "20        45 2020-12-20     97       125     243.0\n",
            "21        60 2020-12-21    108       131     364.2\n",
            "23        60 2020-12-23    130       101     300.0\n",
            "24        45 2020-12-24    105       132     246.0\n",
            "25        60 2020-12-25    102       126     334.5\n",
            "26        60 2020-12-26    100       120     250.0\n",
            "27        60 2020-12-27     92       118     241.0\n",
            "28        60 2020-12-28    103       132       NaN\n",
            "29        60 2020-12-29    100       132     280.0\n",
            "30        60 2020-12-30    102       129     380.3\n",
            "31        60 2020-12-31     92       115     243.0\n"
          ]
        }
      ]
    },
    {
      "cell_type": "markdown",
      "source": [
        "7. Identifying Duplicates"
      ],
      "metadata": {
        "id": "Hzudm4DVaem8"
      }
    },
    {
      "cell_type": "code",
      "source": [
        "print(df.duplicated())"
      ],
      "metadata": {
        "colab": {
          "base_uri": "https://localhost:8080/"
        },
        "id": "dqRrWWYnalgl",
        "outputId": "9ac0da7b-0844-413f-aa2f-290ff9997ee8"
      },
      "execution_count": 20,
      "outputs": [
        {
          "output_type": "stream",
          "name": "stdout",
          "text": [
            "0     False\n",
            "1     False\n",
            "2     False\n",
            "3     False\n",
            "4     False\n",
            "5     False\n",
            "6     False\n",
            "7     False\n",
            "8     False\n",
            "9     False\n",
            "10    False\n",
            "11    False\n",
            "12     True\n",
            "13    False\n",
            "14    False\n",
            "15    False\n",
            "16    False\n",
            "17    False\n",
            "18    False\n",
            "19    False\n",
            "20    False\n",
            "21    False\n",
            "23    False\n",
            "24    False\n",
            "25    False\n",
            "26    False\n",
            "27    False\n",
            "28    False\n",
            "29    False\n",
            "30    False\n",
            "31    False\n",
            "dtype: bool\n"
          ]
        }
      ]
    },
    {
      "cell_type": "markdown",
      "source": [
        "8. Removing duplicates"
      ],
      "metadata": {
        "id": "LezcbRMlbCjc"
      }
    },
    {
      "cell_type": "code",
      "source": [
        "df.drop_duplicates(inplace=True)\n",
        "print(df)"
      ],
      "metadata": {
        "colab": {
          "base_uri": "https://localhost:8080/"
        },
        "id": "CIJW4gFnbJac",
        "outputId": "cd1a3ddb-3d5c-4a8e-c03c-c7848f18bd76"
      },
      "execution_count": 21,
      "outputs": [
        {
          "output_type": "stream",
          "name": "stdout",
          "text": [
            "    Duration       Date  Pulse  Maxpulse  Calories\n",
            "0         60 2020-12-01    110       130     409.1\n",
            "1         60 2020-12-02    117       145     479.0\n",
            "2         60 2020-12-03    103       135     340.0\n",
            "3         45 2020-12-04    109       175     282.4\n",
            "4         45 2020-12-05    117       148     406.0\n",
            "5         60 2020-12-06    102       127     300.0\n",
            "6         60 2020-12-07    110       136     374.0\n",
            "7         45 2020-12-08    104       134     253.3\n",
            "8         30 2020-12-09    109       133     195.1\n",
            "9         60 2020-12-10     98       124     269.0\n",
            "10        60 2020-12-11    103       147     329.3\n",
            "11        60 2020-12-12    100       120     250.7\n",
            "13        60 2020-12-13    106       128     345.3\n",
            "14        60 2020-12-14    104       132     379.3\n",
            "15        60 2020-12-15     98       123     275.0\n",
            "16        60 2020-12-16     98       120     215.2\n",
            "17        60 2020-12-17    100       120     300.0\n",
            "18        45 2020-12-18     90       112       NaN\n",
            "19        60 2020-12-19    103       123     323.0\n",
            "20        45 2020-12-20     97       125     243.0\n",
            "21        60 2020-12-21    108       131     364.2\n",
            "23        60 2020-12-23    130       101     300.0\n",
            "24        45 2020-12-24    105       132     246.0\n",
            "25        60 2020-12-25    102       126     334.5\n",
            "26        60 2020-12-26    100       120     250.0\n",
            "27        60 2020-12-27     92       118     241.0\n",
            "28        60 2020-12-28    103       132       NaN\n",
            "29        60 2020-12-29    100       132     280.0\n",
            "30        60 2020-12-30    102       129     380.3\n",
            "31        60 2020-12-31     92       115     243.0\n"
          ]
        }
      ]
    },
    {
      "cell_type": "markdown",
      "source": [
        "# **Correlations**\n",
        "\n",
        "---\n",
        "\n"
      ],
      "metadata": {
        "id": "7EX_x0i4b_aM"
      }
    },
    {
      "cell_type": "markdown",
      "source": [
        "Shows the relationship btw any 2 columns\n",
        "Perfect Correlation: Value = 1.00000\n",
        "Good Correlation: Value = 0.9-0.1\n",
        "Bad Correlation: Value = 0.10-0.00"
      ],
      "metadata": {
        "id": "dh3djtowcnjI"
      }
    },
    {
      "cell_type": "code",
      "source": [
        "df.corr()"
      ],
      "metadata": {
        "colab": {
          "base_uri": "https://localhost:8080/",
          "height": 174
        },
        "id": "9qiFdcMscYl5",
        "outputId": "099c395b-05fb-4720-d7be-0aa2511ff43a"
      },
      "execution_count": 22,
      "outputs": [
        {
          "output_type": "execute_result",
          "data": {
            "text/html": [
              "\n",
              "  <div id=\"df-6fab4d9d-d387-481e-a2ba-52e71abd7914\">\n",
              "    <div class=\"colab-df-container\">\n",
              "      <div>\n",
              "<style scoped>\n",
              "    .dataframe tbody tr th:only-of-type {\n",
              "        vertical-align: middle;\n",
              "    }\n",
              "\n",
              "    .dataframe tbody tr th {\n",
              "        vertical-align: top;\n",
              "    }\n",
              "\n",
              "    .dataframe thead th {\n",
              "        text-align: right;\n",
              "    }\n",
              "</style>\n",
              "<table border=\"1\" class=\"dataframe\">\n",
              "  <thead>\n",
              "    <tr style=\"text-align: right;\">\n",
              "      <th></th>\n",
              "      <th>Duration</th>\n",
              "      <th>Pulse</th>\n",
              "      <th>Maxpulse</th>\n",
              "      <th>Calories</th>\n",
              "    </tr>\n",
              "  </thead>\n",
              "  <tbody>\n",
              "    <tr>\n",
              "      <th>Duration</th>\n",
              "      <td>1.000000</td>\n",
              "      <td>-0.083417</td>\n",
              "      <td>-0.296585</td>\n",
              "      <td>0.350969</td>\n",
              "    </tr>\n",
              "    <tr>\n",
              "      <th>Pulse</th>\n",
              "      <td>-0.083417</td>\n",
              "      <td>1.000000</td>\n",
              "      <td>0.261426</td>\n",
              "      <td>0.503243</td>\n",
              "    </tr>\n",
              "    <tr>\n",
              "      <th>Maxpulse</th>\n",
              "      <td>-0.296585</td>\n",
              "      <td>0.261426</td>\n",
              "      <td>1.000000</td>\n",
              "      <td>0.338515</td>\n",
              "    </tr>\n",
              "    <tr>\n",
              "      <th>Calories</th>\n",
              "      <td>0.350969</td>\n",
              "      <td>0.503243</td>\n",
              "      <td>0.338515</td>\n",
              "      <td>1.000000</td>\n",
              "    </tr>\n",
              "  </tbody>\n",
              "</table>\n",
              "</div>\n",
              "      <button class=\"colab-df-convert\" onclick=\"convertToInteractive('df-6fab4d9d-d387-481e-a2ba-52e71abd7914')\"\n",
              "              title=\"Convert this dataframe to an interactive table.\"\n",
              "              style=\"display:none;\">\n",
              "        \n",
              "  <svg xmlns=\"http://www.w3.org/2000/svg\" height=\"24px\"viewBox=\"0 0 24 24\"\n",
              "       width=\"24px\">\n",
              "    <path d=\"M0 0h24v24H0V0z\" fill=\"none\"/>\n",
              "    <path d=\"M18.56 5.44l.94 2.06.94-2.06 2.06-.94-2.06-.94-.94-2.06-.94 2.06-2.06.94zm-11 1L8.5 8.5l.94-2.06 2.06-.94-2.06-.94L8.5 2.5l-.94 2.06-2.06.94zm10 10l.94 2.06.94-2.06 2.06-.94-2.06-.94-.94-2.06-.94 2.06-2.06.94z\"/><path d=\"M17.41 7.96l-1.37-1.37c-.4-.4-.92-.59-1.43-.59-.52 0-1.04.2-1.43.59L10.3 9.45l-7.72 7.72c-.78.78-.78 2.05 0 2.83L4 21.41c.39.39.9.59 1.41.59.51 0 1.02-.2 1.41-.59l7.78-7.78 2.81-2.81c.8-.78.8-2.07 0-2.86zM5.41 20L4 18.59l7.72-7.72 1.47 1.35L5.41 20z\"/>\n",
              "  </svg>\n",
              "      </button>\n",
              "      \n",
              "  <style>\n",
              "    .colab-df-container {\n",
              "      display:flex;\n",
              "      flex-wrap:wrap;\n",
              "      gap: 12px;\n",
              "    }\n",
              "\n",
              "    .colab-df-convert {\n",
              "      background-color: #E8F0FE;\n",
              "      border: none;\n",
              "      border-radius: 50%;\n",
              "      cursor: pointer;\n",
              "      display: none;\n",
              "      fill: #1967D2;\n",
              "      height: 32px;\n",
              "      padding: 0 0 0 0;\n",
              "      width: 32px;\n",
              "    }\n",
              "\n",
              "    .colab-df-convert:hover {\n",
              "      background-color: #E2EBFA;\n",
              "      box-shadow: 0px 1px 2px rgba(60, 64, 67, 0.3), 0px 1px 3px 1px rgba(60, 64, 67, 0.15);\n",
              "      fill: #174EA6;\n",
              "    }\n",
              "\n",
              "    [theme=dark] .colab-df-convert {\n",
              "      background-color: #3B4455;\n",
              "      fill: #D2E3FC;\n",
              "    }\n",
              "\n",
              "    [theme=dark] .colab-df-convert:hover {\n",
              "      background-color: #434B5C;\n",
              "      box-shadow: 0px 1px 3px 1px rgba(0, 0, 0, 0.15);\n",
              "      filter: drop-shadow(0px 1px 2px rgba(0, 0, 0, 0.3));\n",
              "      fill: #FFFFFF;\n",
              "    }\n",
              "  </style>\n",
              "\n",
              "      <script>\n",
              "        const buttonEl =\n",
              "          document.querySelector('#df-6fab4d9d-d387-481e-a2ba-52e71abd7914 button.colab-df-convert');\n",
              "        buttonEl.style.display =\n",
              "          google.colab.kernel.accessAllowed ? 'block' : 'none';\n",
              "\n",
              "        async function convertToInteractive(key) {\n",
              "          const element = document.querySelector('#df-6fab4d9d-d387-481e-a2ba-52e71abd7914');\n",
              "          const dataTable =\n",
              "            await google.colab.kernel.invokeFunction('convertToInteractive',\n",
              "                                                     [key], {});\n",
              "          if (!dataTable) return;\n",
              "\n",
              "          const docLinkHtml = 'Like what you see? Visit the ' +\n",
              "            '<a target=\"_blank\" href=https://colab.research.google.com/notebooks/data_table.ipynb>data table notebook</a>'\n",
              "            + ' to learn more about interactive tables.';\n",
              "          element.innerHTML = '';\n",
              "          dataTable['output_type'] = 'display_data';\n",
              "          await google.colab.output.renderOutput(dataTable, element);\n",
              "          const docLink = document.createElement('div');\n",
              "          docLink.innerHTML = docLinkHtml;\n",
              "          element.appendChild(docLink);\n",
              "        }\n",
              "      </script>\n",
              "    </div>\n",
              "  </div>\n",
              "  "
            ],
            "text/plain": [
              "          Duration     Pulse  Maxpulse  Calories\n",
              "Duration  1.000000 -0.083417 -0.296585  0.350969\n",
              "Pulse    -0.083417  1.000000  0.261426  0.503243\n",
              "Maxpulse -0.296585  0.261426  1.000000  0.338515\n",
              "Calories  0.350969  0.503243  0.338515  1.000000"
            ]
          },
          "metadata": {},
          "execution_count": 22
        }
      ]
    },
    {
      "cell_type": "markdown",
      "source": [
        "# **Plotting**\n",
        "\n",
        "---\n",
        "\n"
      ],
      "metadata": {
        "id": "EUk8YuO3dS7B"
      }
    },
    {
      "cell_type": "markdown",
      "source": [
        "1. Basic Plot"
      ],
      "metadata": {
        "id": "6wT-KBbWde99"
      }
    },
    {
      "cell_type": "code",
      "source": [
        "import matplotlib.pyplot as plt\n",
        "\n",
        "df = pd.read_csv('/content/data.csv')\n",
        "df.plot()\n",
        "plt.show()\n"
      ],
      "metadata": {
        "colab": {
          "base_uri": "https://localhost:8080/",
          "height": 265
        },
        "id": "9fzeJ3Codg68",
        "outputId": "1fd20ad8-7367-49eb-edf8-b646a70b0d80"
      },
      "execution_count": 25,
      "outputs": [
        {
          "output_type": "display_data",
          "data": {
            "image/png": "[encoded data removed]",
            "text/plain": [
              "<Figure size 432x288 with 1 Axes>"
            ]
          },
          "metadata": {
            "needs_background": "light"
          }
        }
      ]
    },
    {
      "cell_type": "markdown",
      "source": [
        "2. Scatter Plot"
      ],
      "metadata": {
        "id": "MUd4cLzxepfG"
      }
    },
    {
      "cell_type": "code",
      "source": [
        "df.plot(kind='scatter',x='Duration',y='Calories')\n",
        "plt.show()"
      ],
      "metadata": {
        "colab": {
          "base_uri": "https://localhost:8080/",
          "height": 279
        },
        "id": "NKakvyKkernZ",
        "outputId": "58033585-dedf-412a-d6dc-d2baaef9b73b"
      },
      "execution_count": 26,
      "outputs": [
        {
          "output_type": "display_data",
          "data": {
            "image/png": "[encoded data removed]",
            "text/plain": [
              "<Figure size 432x288 with 1 Axes>"
            ]
          },
          "metadata": {
            "needs_background": "light"
          }
        }
      ]
    },
    {
      "cell_type": "markdown",
      "source": [
        "3. Histogram"
      ],
      "metadata": {
        "id": "eU-UsXQ9fZC9"
      }
    },
    {
      "cell_type": "code",
      "source": [
        "df['Duration'].plot(kind='hist')"
      ],
      "metadata": {
        "colab": {
          "base_uri": "https://localhost:8080/",
          "height": 548
        },
        "id": "v11cCIDjfeM5",
        "outputId": "5dc0ff37-424c-4143-b993-9154a7b49eca"
      },
      "execution_count": 28,
      "outputs": [
        {
          "output_type": "execute_result",
          "data": {
            "text/plain": [
              "<matplotlib.axes._subplots.AxesSubplot at 0x7fe5e8c71250>"
            ]
          },
          "metadata": {},
          "execution_count": 27
        },
        {
          "output_type": "display_data",
          "data": {
            "image/png": "[encoded data removed]",
            "text/plain": [
              "<Figure size 432x288 with 1 Axes>"
            ]
          },
          "metadata": {
            "needs_background": "light"
          }
        },
        {
          "output_type": "execute_result",
          "data": {
            "text/plain": [
              "<matplotlib.axes._subplots.AxesSubplot at 0x7fe5e8ba8b90>"
            ]
          },
          "metadata": {},
          "execution_count": 28
        },
        {
          "output_type": "display_data",
          "data": {
            "image/png": "[encoded data removed]",
            "text/plain": [
              "<Figure size 432x288 with 1 Axes>"
            ]
          },
          "metadata": {
            "needs_background": "light"
          }
        }
      ]
    },
    {
      "cell_type": "markdown",
      "source": [
        "# **Other Important Pandas inbuilt Functionalities**\n",
        "\n",
        "---\n",
        "\n"
      ],
      "metadata": {
        "id": "AhUA4-jug0jU"
      }
    },
    {
      "cell_type": "markdown",
      "source": [
        "abs()\tReturn a DataFrame with the absolute value of each value\n",
        "\n",
        "add()\tAdds the values of a DataFrame with the specified value(s)\n",
        "\n",
        "add_prefix()\tPrefix all labels\n",
        "\n",
        "add_suffix()\tSuffix all labels\n",
        "\n",
        "agg()\tApply a function or a function name to one of the axis of the DataFrame\n",
        "\n",
        "aggregate()\tApply a function or a function name to one of the axis of the DataFrame\n",
        "\n",
        "align()\tAligns two DataFrames with a specified join method\n",
        "\n",
        "all()\tReturn True if all values in the DataFrame are True, otherwise False\n",
        "\n",
        "any()\tReturns True if any of the values in the DataFrame are True, otherwise False\n",
        "\n",
        "append()\tAppend new columns\n",
        "\n",
        "applymap()\tExecute a function for each element in the DataFrame\n",
        "\n",
        "apply()\tApply a function to one of the axis of the DataFrame\n",
        "\n",
        "assign()\tAssign new columns\n",
        "\n",
        "astype()\tConvert the DataFrame into a specified dtype\n",
        "at\tGet or set the value of the item with the specified label\n",
        "axes\tReturns the labels of the rows and the columns of the DataFrame\n",
        "\n",
        "bfill()\tReplaces NULL values with the value from the next row\n",
        "\n",
        "bool()\tReturns the Boolean value of the DataFrame\n",
        "\n",
        "columns\tReturns the column labels of the DataFrame\n",
        "\n",
        "combine()\tCompare the values in two DataFrames, and let a function \n",
        "decide which values to keep\n",
        "\n",
        "combine_first()\tCompare two DataFrames, and if the first DataFrame has a NULL value, it will be filled with the respective value from the second DataFrame\n",
        "\n",
        "compare()\tCompare two DataFrames and return the differences\n",
        "\n",
        "convert_dtypes()\tConverts the columns in the DataFrame into new dtypes\n",
        "\n",
        "corr()\tFind the correlation (relationship) between each column\n",
        "\n",
        "count()\tReturns the number of not empty cells for each column/row\n",
        "\n",
        "cov()\tFind the covariance of the columns\n",
        "\n",
        "copy()\tReturns a copy of the DataFrame\n",
        "\n",
        "cummax()\tCalculate the cumulative maximum values of the DataFrame\n",
        "\n",
        "cummin()\tCalculate the cumulative minmum values of the DataFrame\n",
        "\n",
        "cumprod()\tCalculate the cumulative product over the DataFrame\n",
        "\n",
        "cumsum()\tCalculate the cumulative sum over the DataFrame\n",
        "\n",
        "describe()\tReturns a description summary for each column in the DataFrame\n",
        "\n",
        "diff()\tCalculate the difference between a value and the value of the same column in the previous row\n",
        "\n",
        "div()\tDivides the values of a DataFrame with the specified value(s)\n",
        "\n",
        "dot()\tMultiplies the values of a DataFrame with values from another array-like object, and add the result\n",
        "\n",
        "drop()\tDrops the specified rows/columns from the DataFrame\n",
        "\n",
        "drop_duplicates()\tDrops duplicate values from the DataFrame\n",
        "\n",
        "droplevel()\tDrops the specified index/column(s)\n",
        "\n",
        "dropna()\tDrops all rows that contains NULL values\n",
        "dtypes\tReturns the dtypes of the columns of the DataFrame\n",
        "\n",
        "duplicated()\tReturns True for duplicated rows, otherwise False\n",
        "empty\tReturns True if the DataFrame is empty, otherwise False\n",
        "\n",
        "eq()\tReturns True for values that are equal to the specified value(s), otherwise False\n",
        "equals()\tReturns True if two DataFrames are equal, otherwise False\n",
        "\n",
        "ßßeval\tEvaluate a specified string\n",
        "\n",
        "explode()\tConverts each element into a row\n",
        "\n",
        "ffill()\tReplaces NULL values with the value from the previous row\n",
        "\n",
        "fillna()\tReplaces NULL values with the specified value\n",
        "\n",
        "filter()\tFilter the DataFrame according to the specified filter\n",
        "\n",
        "first()\tReturns the first rows of a specified date selection\n",
        "\n",
        "floordiv()\tDivides the values of a DataFrame with the specified value(s), and floor the values\n",
        "\n",
        "ge()\tReturns True for values greater than, or equal to the specified \n",
        "\n",
        "value(s), otherwise False\n",
        "\n",
        "get()\tReturns the item of the specified key\n",
        "\n",
        "groupby()\tGroups the rows/columns into specified groups\n",
        "\n",
        "gt()\tReturns True for values greater than the specified value(s), otherwise False\n",
        "\n",
        "head()\tReturns the header row and the first 10 rows, or the specified number of rows\n",
        "iat\tGet or set the value of the item in the specified position\n",
        "\n",
        "idxmax()\tReturns the label of the max value in the specified axis\n",
        "\n",
        "idxmin()\tReturns the label of the min value in the specified axis\n",
        "iloc\tGet or set the values of a group of elements in the specified positions\n",
        "index\tReturns the row labels of the DataFrame\n",
        "\n",
        "infer_objects()\tChange the dtype of the columns in the DataFrame\n",
        "\n",
        "info()\tPrints information about the DataFrame\n",
        "\n",
        "insert()\tInsert a column in the DataFrame\n",
        "\n",
        "interpolate()\tReplaces not-a-number values with the interpolated method\n",
        "\n",
        "isin()\tReturns True if each elements in the DataFrame is in the specified value\n",
        "\n",
        "isna()\tFinds not-a-number values\n",
        "\n",
        "isnull()\tFinds NULL values\n",
        "\n",
        "items()\tIterate over the columns of the DataFrame\n",
        "\n",
        "iteritems()\tIterate over the columns of the DataFrame\n",
        "\n",
        "iterrows()\tIterate over the rows of the DataFrame\n",
        "\n",
        "itertuples()\tIterate over the rows as named tuples\n",
        "\n",
        "join()\tJoin columns of another DataFrame\n",
        "\n",
        "last()\tReturns the last rows of a specified date selection\n",
        "\n",
        "le()\tReturns True for values less than, or equal to the specified \n",
        "\n",
        "value(s), otherwise False\n",
        "loc\tGet or set the value of a group of elements specified using their labels\n",
        "\n",
        "lt()\tReturns True for values less than the specified value(s), otherwise False\n",
        "\n",
        "keys()\tReturns the keys of the info axis\n",
        "\n",
        "kurtosis()\tReturns the kurtosis of the values in the specified axis\n",
        "\n",
        "mask()\tReplace all values where the specified condition is True\n",
        "\n",
        "max()\tReturn the max of the values in the specified axis\n",
        "\n",
        "mean()\tReturn the mean of the values in the specified axis\n",
        "\n",
        "median()\tReturn the median of the values in the specified axis\n",
        "\n",
        "melt()\tReshape the DataFrame from a wide table to a long table\n",
        "\n",
        "memory_usage()\tReturns the memory usage of each column\n",
        "\n",
        "merge()\tMerge DataFrame objects\n",
        "\n",
        "min()\tReturns the min of the values in the specified axis\n",
        "\n",
        "mod()\tModules (find the remainder) of the values of a DataFrame\n",
        "\n",
        "mode()\tReturns the mode of the values in the specified axis\n",
        "\n",
        "mul()\tMultiplies the values of a DataFrame with the specified value(s)\n",
        "ndim\tReturns the number of dimensions of the DataFrame\n",
        "\n",
        "ne()\tReturns True for values that are not equal to the specified value(s), otherwise False\n",
        "\n",
        "nlargest()\tSort the DataFrame by the specified columns, descending, and return the specified number of rows\n",
        "\n",
        "notna()\tFinds values that are not not-a-number\n",
        "\n",
        "notnull()\tFinds values that are not NULL\n",
        "\n",
        "nsmallest()\tSort the DataFrame by the specified columns, ascending, and return the specified number of rows\n",
        "\n",
        "nunique()\tReturns the number of unique values in the specified axis\n",
        "\n",
        "pct_change()\tReturns the percentage change between the previous and the current value\n",
        "\n",
        "pipe()\tApply a function to the DataFrame\n",
        "\n",
        "pivot()\tRe-shape the DataFrame\n",
        "\n",
        "pivot_table()\tCreate a spreadsheet pivot table as a DataFrame\n",
        "\n",
        "pop()\tRemoves an element from the DataFrame\n",
        "\n",
        "pow()\tRaise the values of one DataFrame to the values of another DataFrame\n",
        "\n",
        "prod()\tReturns the product of all values in the specified axis\n",
        "\n",
        "product()\tReturns the product of the values in the specified axis\n",
        "\n",
        "quantile()\tReturns the values at the specified quantile of the specified axis\n",
        "\n",
        "query()\tQuery the DataFrame\n",
        "\n",
        "radd()\tReverse-adds the values of one DataFrame with the values of another DataFrame\n",
        "\n",
        "rdiv()\tReverse-divides the values of one DataFrame with the values of another DataFrame\n",
        "\n",
        "reindex()\tChange the labels of the DataFrame\n",
        "\n",
        "reindex_like()\t??\n",
        "\n",
        "rename()\tChange the labels of the axes\n",
        "\n",
        "rename_axis()\tChange the name of the axis\n",
        "\n",
        "reorder_levels()\tRe-order the index levels\n",
        "\n",
        "replace()\tReplace the specified values\n",
        "reset_index()\tReset the index\n",
        "\n",
        "rfloordiv()\tReverse-divides the values of one DataFrame with the values of another DataFrame\n",
        "\n",
        "rmod()\tReverse-modules the values of one DataFrame to the values of another DataFrame\n",
        "\n",
        "rmul()\tReverse-multiplies the values of one DataFrame with the values of another DataFrame\n",
        "\n",
        "round()\tReturns a DataFrame with all values rounded into the specified format\n",
        "\n",
        "rpow()\tReverse-raises the values of one DataFrame up to the values of another DataFrame\n",
        "\n",
        "rsub()\tReverse-subtracts the values of one DataFrame to the values of another DataFrame\n",
        "\n",
        "rtruediv()\tReverse-divides the values of one DataFrame with the values of another DataFrame\n",
        "\n",
        "sample()\tReturns a random selection elements\n",
        "\n",
        "sem()\tReturns the standard error of the mean in the specified axis\n",
        "\n",
        "select_dtypes()\tReturns a DataFrame with columns of selected data types\n",
        "\n",
        "shape\tReturns the number of rows and columns of the DataFrame\n",
        "\n",
        "set_axis()\tSets the index of the specified axis\n",
        "\n",
        "set_flags()\tReturns a new DataFrame with the specified flags\n",
        "\n",
        "set_index()\tSet the Index of the DataFrame\n",
        "size\tReturns the number of elements in the DataFrame\n",
        "\n",
        "skew()\tReturns the skew of the values in the specified axis\n",
        "\n",
        "sort_index()\tSorts the DataFrame according to the labels\n",
        "\n",
        "sort_values()\tSorts the DataFrame according to the values\n",
        "\n",
        "squeeze()\tConverts a single column DataFrame into a Series\n",
        "\n",
        "stack()\tReshape the DataFrame from a wide table to a long table\n",
        "\n",
        "std()\tReturns the standard deviation of the values in the specified axis\n",
        "\n",
        "sum()\tReturns the sum of the values in the specified axis\n",
        "\n",
        "sub()\tSubtracts the values of a DataFrame with the specified value(s)\n",
        "\n",
        "swaplevel()\tSwaps the two specified levels\n",
        "T\tTurns rows into columns and columns into rows\n",
        "\n",
        "tail()\tReturns the headers and the last rows\n",
        "\n",
        "take()\tReturns the specified elements\n",
        "\n",
        "to_xarray()\tReturns an xarray object\n",
        "\n",
        "transform()\tExecute a function for each value in the DataFrame\n",
        "\n",
        "transpose()\tTurns rows into columns and columns into rows\n",
        "\n",
        "truediv()\tDivides the values of a DataFrame with the specified value(s)\n",
        "\n",
        "truncate()\tRemoves elements outside of a specified set of values\n",
        "\n",
        "update()\tUpdate one DataFrame with the values from another DataFrame\n",
        "\n",
        "value_counts()\tReturns the number of unique rows\n",
        "values\tReturns the DataFrame as a NumPy array\n",
        "\n",
        "var()\tReturns the variance of the values in the specified axis\n",
        "\n",
        "where()\tReplace all values where the specified condition is False\n",
        "\n",
        "xs()\tReturns the cross-section of the DataFrame\n",
        "\n",
        "__iter__()\tReturns an iterator of the info axes"
      ],
      "metadata": {
        "id": "nTMDkubEg9FJ"
      }
    }
  ]
}