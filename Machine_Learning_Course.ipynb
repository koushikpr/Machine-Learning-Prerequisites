{
  "nbformat": 4,
  "nbformat_minor": 0,
  "metadata": {
    "colab": {
      "name": "Machine Learning Course.ipynb",
      "provenance": [],
      "collapsed_sections": [
        "_tWzSO4G-w3N",
        "phjxEXnE6Ur-",
        "drhw9Mo8Gwz9",
        "GmCVYlIJ-oL5"
      ],
      "authorship_tag": "ABX9TyMDvK/c3h5tX2nhsNayffCR",
      "include_colab_link": true
    },
    "kernelspec": {
      "name": "python3",
      "display_name": "Python 3"
    },
    "language_info": {
      "name": "python"
    }
  },
  "cells": [
    {
      "cell_type": "markdown",
      "metadata": {
        "id": "view-in-github",
        "colab_type": "text"
      },
      "source": [
        "<a href=\"https://colab.research.google.com/github/koushikpr/Machine-Learning-Prerequisites/blob/main/Machine_Learning_Course.ipynb\" target=\"_parent\"><img src=\"https://colab.research.google.com/assets/colab-badge.svg\" alt=\"Open In Colab\"/></a>"
      ]
    },
    {
      "cell_type": "markdown",
      "source": [
        "# **Setup**\n",
        "\n",
        "---\n",
        "\n"
      ],
      "metadata": {
        "id": "_tWzSO4G-w3N"
      }
    },
    {
      "cell_type": "markdown",
      "source": [
        "Step 1:Installing tensorflow onto any IDE\n"
      ],
      "metadata": {
        "id": "H-2VRmub4EVa"
      }
    },
    {
      "cell_type": "code",
      "execution_count": null,
      "metadata": {
        "colab": {
          "base_uri": "https://localhost:8080/"
        },
        "id": "nh1hphdJ38vz",
        "outputId": "b78a5184-3709-4751-b9e0-7225c97e2e55"
      },
      "outputs": [
        {
          "output_type": "stream",
          "name": "stdout",
          "text": [
            "Requirement already satisfied: tensorflow in /usr/local/lib/python3.7/dist-packages (2.8.0)\n",
            "Requirement already satisfied: numpy>=1.20 in /usr/local/lib/python3.7/dist-packages (from tensorflow) (1.21.5)\n",
            "Requirement already satisfied: keras-preprocessing>=1.1.1 in /usr/local/lib/python3.7/dist-packages (from tensorflow) (1.1.2)\n",
            "Requirement already satisfied: six>=1.12.0 in /usr/local/lib/python3.7/dist-packages (from tensorflow) (1.15.0)\n",
            "Requirement already satisfied: gast>=0.2.1 in /usr/local/lib/python3.7/dist-packages (from tensorflow) (0.5.3)\n",
            "Requirement already satisfied: wrapt>=1.11.0 in /usr/local/lib/python3.7/dist-packages (from tensorflow) (1.13.3)\n",
            "Requirement already satisfied: setuptools in /usr/local/lib/python3.7/dist-packages (from tensorflow) (57.4.0)\n",
            "Requirement already satisfied: astunparse>=1.6.0 in /usr/local/lib/python3.7/dist-packages (from tensorflow) (1.6.3)\n",
            "Requirement already satisfied: flatbuffers>=1.12 in /usr/local/lib/python3.7/dist-packages (from tensorflow) (2.0)\n",
            "Requirement already satisfied: absl-py>=0.4.0 in /usr/local/lib/python3.7/dist-packages (from tensorflow) (1.0.0)\n",
            "Requirement already satisfied: keras<2.9,>=2.8.0rc0 in /usr/local/lib/python3.7/dist-packages (from tensorflow) (2.8.0)\n",
            "Requirement already satisfied: tensorflow-io-gcs-filesystem>=0.23.1 in /usr/local/lib/python3.7/dist-packages (from tensorflow) (0.24.0)\n",
            "Requirement already satisfied: tensorboard<2.9,>=2.8 in /usr/local/lib/python3.7/dist-packages (from tensorflow) (2.8.0)\n",
            "Requirement already satisfied: typing-extensions>=3.6.6 in /usr/local/lib/python3.7/dist-packages (from tensorflow) (3.10.0.2)\n",
            "Requirement already satisfied: libclang>=9.0.1 in /usr/local/lib/python3.7/dist-packages (from tensorflow) (13.0.0)\n",
            "Collecting tf-estimator-nightly==2.8.0.dev2021122109\n",
            "  Downloading tf_estimator_nightly-2.8.0.dev2021122109-py2.py3-none-any.whl (462 kB)\n",
            "\u001b[K     |████████████████████████████████| 462 kB 4.7 MB/s \n",
            "\u001b[?25hRequirement already satisfied: protobuf>=3.9.2 in /usr/local/lib/python3.7/dist-packages (from tensorflow) (3.17.3)\n",
            "Requirement already satisfied: grpcio<2.0,>=1.24.3 in /usr/local/lib/python3.7/dist-packages (from tensorflow) (1.44.0)\n",
            "Requirement already satisfied: h5py>=2.9.0 in /usr/local/lib/python3.7/dist-packages (from tensorflow) (3.1.0)\n",
            "Requirement already satisfied: google-pasta>=0.1.1 in /usr/local/lib/python3.7/dist-packages (from tensorflow) (0.2.0)\n",
            "Requirement already satisfied: termcolor>=1.1.0 in /usr/local/lib/python3.7/dist-packages (from tensorflow) (1.1.0)\n",
            "Requirement already satisfied: opt-einsum>=2.3.2 in /usr/local/lib/python3.7/dist-packages (from tensorflow) (3.3.0)\n",
            "Requirement already satisfied: wheel<1.0,>=0.23.0 in /usr/local/lib/python3.7/dist-packages (from astunparse>=1.6.0->tensorflow) (0.37.1)\n",
            "Requirement already satisfied: cached-property in /usr/local/lib/python3.7/dist-packages (from h5py>=2.9.0->tensorflow) (1.5.2)\n",
            "Requirement already satisfied: tensorboard-plugin-wit>=1.6.0 in /usr/local/lib/python3.7/dist-packages (from tensorboard<2.9,>=2.8->tensorflow) (1.8.1)\n",
            "Requirement already satisfied: google-auth<3,>=1.6.3 in /usr/local/lib/python3.7/dist-packages (from tensorboard<2.9,>=2.8->tensorflow) (1.35.0)\n",
            "Requirement already satisfied: tensorboard-data-server<0.7.0,>=0.6.0 in /usr/local/lib/python3.7/dist-packages (from tensorboard<2.9,>=2.8->tensorflow) (0.6.1)\n",
            "Requirement already satisfied: werkzeug>=0.11.15 in /usr/local/lib/python3.7/dist-packages (from tensorboard<2.9,>=2.8->tensorflow) (1.0.1)\n",
            "Requirement already satisfied: markdown>=2.6.8 in /usr/local/lib/python3.7/dist-packages (from tensorboard<2.9,>=2.8->tensorflow) (3.3.6)\n",
            "Requirement already satisfied: requests<3,>=2.21.0 in /usr/local/lib/python3.7/dist-packages (from tensorboard<2.9,>=2.8->tensorflow) (2.23.0)\n",
            "Requirement already satisfied: google-auth-oauthlib<0.5,>=0.4.1 in /usr/local/lib/python3.7/dist-packages (from tensorboard<2.9,>=2.8->tensorflow) (0.4.6)\n",
            "Requirement already satisfied: cachetools<5.0,>=2.0.0 in /usr/local/lib/python3.7/dist-packages (from google-auth<3,>=1.6.3->tensorboard<2.9,>=2.8->tensorflow) (4.2.4)\n",
            "Requirement already satisfied: rsa<5,>=3.1.4 in /usr/local/lib/python3.7/dist-packages (from google-auth<3,>=1.6.3->tensorboard<2.9,>=2.8->tensorflow) (4.8)\n",
            "Requirement already satisfied: pyasn1-modules>=0.2.1 in /usr/local/lib/python3.7/dist-packages (from google-auth<3,>=1.6.3->tensorboard<2.9,>=2.8->tensorflow) (0.2.8)\n",
            "Requirement already satisfied: requests-oauthlib>=0.7.0 in /usr/local/lib/python3.7/dist-packages (from google-auth-oauthlib<0.5,>=0.4.1->tensorboard<2.9,>=2.8->tensorflow) (1.3.1)\n",
            "Requirement already satisfied: importlib-metadata>=4.4 in /usr/local/lib/python3.7/dist-packages (from markdown>=2.6.8->tensorboard<2.9,>=2.8->tensorflow) (4.11.2)\n",
            "Requirement already satisfied: zipp>=0.5 in /usr/local/lib/python3.7/dist-packages (from importlib-metadata>=4.4->markdown>=2.6.8->tensorboard<2.9,>=2.8->tensorflow) (3.7.0)\n",
            "Requirement already satisfied: pyasn1<0.5.0,>=0.4.6 in /usr/local/lib/python3.7/dist-packages (from pyasn1-modules>=0.2.1->google-auth<3,>=1.6.3->tensorboard<2.9,>=2.8->tensorflow) (0.4.8)\n",
            "Requirement already satisfied: chardet<4,>=3.0.2 in /usr/local/lib/python3.7/dist-packages (from requests<3,>=2.21.0->tensorboard<2.9,>=2.8->tensorflow) (3.0.4)\n",
            "Requirement already satisfied: urllib3!=1.25.0,!=1.25.1,<1.26,>=1.21.1 in /usr/local/lib/python3.7/dist-packages (from requests<3,>=2.21.0->tensorboard<2.9,>=2.8->tensorflow) (1.24.3)\n",
            "Requirement already satisfied: idna<3,>=2.5 in /usr/local/lib/python3.7/dist-packages (from requests<3,>=2.21.0->tensorboard<2.9,>=2.8->tensorflow) (2.10)\n",
            "Requirement already satisfied: certifi>=2017.4.17 in /usr/local/lib/python3.7/dist-packages (from requests<3,>=2.21.0->tensorboard<2.9,>=2.8->tensorflow) (2021.10.8)\n",
            "Requirement already satisfied: oauthlib>=3.0.0 in /usr/local/lib/python3.7/dist-packages (from requests-oauthlib>=0.7.0->google-auth-oauthlib<0.5,>=0.4.1->tensorboard<2.9,>=2.8->tensorflow) (3.2.0)\n",
            "Installing collected packages: tf-estimator-nightly\n",
            "Successfully installed tf-estimator-nightly-2.8.0.dev2021122109\n"
          ]
        },
        {
          "output_type": "display_data",
          "data": {
            "application/vnd.colab-display-data+json": {
              "pip_warning": {
                "packages": [
                  "tensorflow_estimator"
                ]
              }
            }
          },
          "metadata": {}
        }
      ],
      "source": [
        "pip install tensorflow\n"
      ]
    },
    {
      "cell_type": "markdown",
      "source": [
        "Step 2:Switching to Version 2X"
      ],
      "metadata": {
        "id": "y8OQ83JG4nYN"
      }
    },
    {
      "cell_type": "code",
      "source": [
        "%tensorflow_version 2.x"
      ],
      "metadata": {
        "id": "cpwPcO1H4wFx"
      },
      "execution_count": null,
      "outputs": []
    },
    {
      "cell_type": "markdown",
      "source": [
        "Step 3:Importing tensorflow "
      ],
      "metadata": {
        "id": "V6brO9-36Lp2"
      }
    },
    {
      "cell_type": "code",
      "source": [
        "import tensorflow as tf"
      ],
      "metadata": {
        "id": "727jOwsL6SE5"
      },
      "execution_count": null,
      "outputs": []
    },
    {
      "cell_type": "markdown",
      "source": [
        "# **Running Basics of Tensors on Python**\n",
        "\n",
        "---\n",
        "\n"
      ],
      "metadata": {
        "id": "phjxEXnE6Ur-"
      }
    },
    {
      "cell_type": "markdown",
      "source": [
        "1. Creating Variables"
      ],
      "metadata": {
        "id": "-iBU_PKL_Mxd"
      }
    },
    {
      "cell_type": "code",
      "source": [
        "string = tf.Variable('Koushik',tf.string)\n",
        "integer = tf.Variable(1234,tf.int16)\n",
        "floating = tf.Variable(12.34,tf.float64)\n",
        "ranktensor = tf.Variable([[\"test\", \"ok\"], [\"test\", \"yes\"]], tf.string)"
      ],
      "metadata": {
        "id": "-bo48Gbq_P5Q"
      },
      "execution_count": null,
      "outputs": []
    },
    {
      "cell_type": "markdown",
      "source": [
        "2. Finding rank"
      ],
      "metadata": {
        "id": "3QId_ZexAlI8"
      }
    },
    {
      "cell_type": "code",
      "source": [
        "ranking = tf.rank(ranktensor)\n",
        "print(ranking)"
      ],
      "metadata": {
        "colab": {
          "base_uri": "https://localhost:8080/"
        },
        "id": "ZrZYn6-sAaBR",
        "outputId": "6ca659f9-b886-41cd-c695-f0677965df93"
      },
      "execution_count": null,
      "outputs": [
        {
          "output_type": "stream",
          "name": "stdout",
          "text": [
            "tf.Tensor(2, shape=(), dtype=int32)\n"
          ]
        }
      ]
    },
    {
      "cell_type": "markdown",
      "source": [
        "3. Shaping of Tensors"
      ],
      "metadata": {
        "id": "WLrBM8EPBziv"
      }
    },
    {
      "cell_type": "code",
      "source": [
        "#creating a tensors of ones\n",
        "oness = tf.ones([1,3,5])\n",
        "check = tf.reshape(oness,[3,1,5])\n",
        "sizing = tf.reshape(oness,[3,-1])\n",
        "print(oness)\n",
        "print(check)\n",
        "print(sizing)"
      ],
      "metadata": {
        "colab": {
          "base_uri": "https://localhost:8080/"
        },
        "id": "r0vwcFv1B3Fs",
        "outputId": "61bc4806-ea03-4b64-c812-a2ef9efaa3fe"
      },
      "execution_count": null,
      "outputs": [
        {
          "output_type": "stream",
          "name": "stdout",
          "text": [
            "tf.Tensor(\n",
            "[[[1. 1. 1. 1. 1.]\n",
            "  [1. 1. 1. 1. 1.]\n",
            "  [1. 1. 1. 1. 1.]]], shape=(1, 3, 5), dtype=float32)\n",
            "tf.Tensor(\n",
            "[[[1. 1. 1. 1. 1.]]\n",
            "\n",
            " [[1. 1. 1. 1. 1.]]\n",
            "\n",
            " [[1. 1. 1. 1. 1.]]], shape=(3, 1, 5), dtype=float32)\n",
            "tf.Tensor(\n",
            "[[1. 1. 1. 1. 1.]\n",
            " [1. 1. 1. 1. 1.]\n",
            " [1. 1. 1. 1. 1.]], shape=(3, 5), dtype=float32)\n"
          ]
        }
      ]
    },
    {
      "cell_type": "markdown",
      "source": [
        "4. Converting into 2D tensor"
      ],
      "metadata": {
        "id": "Lbfj1-aMBSPT"
      }
    },
    {
      "cell_type": "code",
      "source": [
        "matrix = [[1,2,3,4,5],\n",
        "          [6,7,8,9,10],\n",
        "          [11,12,13,14,15],\n",
        "          [16,17,18,19,20]]\n",
        "\n",
        "tens = tf.Variable(matrix, dtype=tf.int32) \n",
        "print(tens)\n",
        "print(tf.rank(tens))\n",
        "print(tens.shape)"
      ],
      "metadata": {
        "colab": {
          "base_uri": "https://localhost:8080/"
        },
        "id": "8iYFBxLUBXwQ",
        "outputId": "ce99832f-de78-4b62-8f32-bd1f0511007a"
      },
      "execution_count": null,
      "outputs": [
        {
          "output_type": "stream",
          "name": "stdout",
          "text": [
            "<tf.Variable 'Variable:0' shape=(4, 5) dtype=int32, numpy=\n",
            "array([[ 1,  2,  3,  4,  5],\n",
            "       [ 6,  7,  8,  9, 10],\n",
            "       [11, 12, 13, 14, 15],\n",
            "       [16, 17, 18, 19, 20]], dtype=int32)>\n",
            "tf.Tensor(2, shape=(), dtype=int32)\n",
            "(4, 5)\n"
          ]
        }
      ]
    },
    {
      "cell_type": "markdown",
      "source": [
        "5. Slicing and its Techniques"
      ],
      "metadata": {
        "id": "QaF_TmcCCGBk"
      }
    },
    {
      "cell_type": "markdown",
      "source": [
        "a. Selecting nth element of mth row\n"
      ],
      "metadata": {
        "id": "pUZ9pxbVCsEM"
      }
    },
    {
      "cell_type": "code",
      "source": [
        "row = 2\n",
        "element = 3\n",
        "mn = tens[row,element]\n",
        "print(mn)\n"
      ],
      "metadata": {
        "colab": {
          "base_uri": "https://localhost:8080/"
        },
        "id": "6abRPC32CFte",
        "outputId": "2813b123-a389-4dbf-bfca-846cbd369f23"
      },
      "execution_count": null,
      "outputs": [
        {
          "output_type": "stream",
          "name": "stdout",
          "text": [
            "tf.Tensor(14, shape=(), dtype=int32)\n"
          ]
        }
      ]
    },
    {
      "cell_type": "markdown",
      "source": [
        "b. Selecting an entire row"
      ],
      "metadata": {
        "id": "kCd9_O-3DAbT"
      }
    },
    {
      "cell_type": "code",
      "source": [
        "row = 1\n",
        "rs = tens[row]\n",
        "print(rs)"
      ],
      "metadata": {
        "colab": {
          "base_uri": "https://localhost:8080/"
        },
        "id": "fj4FMLYXDTH1",
        "outputId": "bd536c71-8c54-496d-c67a-accd6e560b29"
      },
      "execution_count": null,
      "outputs": [
        {
          "output_type": "stream",
          "name": "stdout",
          "text": [
            "tf.Tensor([ 6  7  8  9 10], shape=(5,), dtype=int32)\n"
          ]
        }
      ]
    },
    {
      "cell_type": "markdown",
      "source": [
        "c. Selecting entire column"
      ],
      "metadata": {
        "id": "CdQlAfC5Dfgl"
      }
    },
    {
      "cell_type": "code",
      "source": [
        "column = -1\n",
        "cs = tens[:,column]\n",
        "print(cs)"
      ],
      "metadata": {
        "colab": {
          "base_uri": "https://localhost:8080/"
        },
        "id": "wQKPU2UADiAz",
        "outputId": "08f4cb92-bb39-4471-de69-bb486eb02c9d"
      },
      "execution_count": null,
      "outputs": [
        {
          "output_type": "stream",
          "name": "stdout",
          "text": [
            "tf.Tensor([ 5 10 15 20], shape=(4,), dtype=int32)\n"
          ]
        }
      ]
    },
    {
      "cell_type": "markdown",
      "source": [
        "d. Selecting multiple rows"
      ],
      "metadata": {
        "id": "F41YDyKqEorN"
      }
    },
    {
      "cell_type": "code",
      "source": [
        "row1 = 0\n",
        "row2 = 2\n",
        "mr = tens[row1::row2]\n",
        "print(mr)"
      ],
      "metadata": {
        "colab": {
          "base_uri": "https://localhost:8080/"
        },
        "id": "a8mNs_-dEuii",
        "outputId": "a2f057a7-9683-44bf-afd2-298b04bad50a"
      },
      "execution_count": null,
      "outputs": [
        {
          "output_type": "stream",
          "name": "stdout",
          "text": [
            "tf.Tensor(\n",
            "[[ 1  2  3  4  5]\n",
            " [11 12 13 14 15]], shape=(2, 5), dtype=int32)\n"
          ]
        }
      ]
    },
    {
      "cell_type": "markdown",
      "source": [
        "e. Selecting column in multiple rows"
      ],
      "metadata": {
        "id": "wZQfCW8HFQHH"
      }
    },
    {
      "cell_type": "code",
      "source": [
        "column = 0\n",
        "row1 = 0\n",
        "row2 =1\n",
        "cmr = tens[column:row1,row2]\n",
        "print(cmr)"
      ],
      "metadata": {
        "colab": {
          "base_uri": "https://localhost:8080/"
        },
        "id": "FMywUboRFdbD",
        "outputId": "39c36117-0b23-446d-a81f-88a762506747"
      },
      "execution_count": null,
      "outputs": [
        {
          "output_type": "stream",
          "name": "stdout",
          "text": [
            "tf.Tensor([], shape=(0,), dtype=int32)\n"
          ]
        }
      ]
    },
    {
      "cell_type": "markdown",
      "source": [
        "### **TensorFLow Core Algorithms**\n",
        "\n",
        "---\n",
        "\n"
      ],
      "metadata": {
        "id": "Yq83seztA48G"
      }
    },
    {
      "cell_type": "markdown",
      "source": [
        "# **Core Learning Algorthims 1:Linear Regression**\n",
        "\n",
        "---\n",
        "\n"
      ],
      "metadata": {
        "id": "drhw9Mo8Gwz9"
      }
    },
    {
      "cell_type": "markdown",
      "source": [
        "1. Linear Regression:\n",
        "\n",
        "\n",
        "*Predicting the output of data that are linearly related and can be generated by a line of best fit*\n",
        "\n"
      ],
      "metadata": {
        "id": "Quuucl9THljV"
      }
    },
    {
      "cell_type": "markdown",
      "source": [
        "Ex: Program to create a line of best fit"
      ],
      "metadata": {
        "id": "fPJ7ZQClOc-N"
      }
    },
    {
      "cell_type": "code",
      "source": [
        "import matplotlib.pyplot as plt\n",
        "import numpy as np\n",
        "\n",
        "x = [1, 2, 2.5, 3, 4]\n",
        "y = [1, 4, 7, 9, 15]\n",
        "plt.plot(x, y, 'ro')\n",
        "plt.axis([0, 6, 0, 20])"
      ],
      "metadata": {
        "colab": {
          "base_uri": "https://localhost:8080/"
        },
        "id": "8xT5UbPfOjkH",
        "outputId": "15973c53-e6b7-4d8e-bd80-995b842c05bb"
      },
      "execution_count": null,
      "outputs": [
        {
          "output_type": "execute_result",
          "data": {
            "text/plain": [
              "(0.0, 6.0, 0.0, 20.0)"
            ]
          },
          "metadata": {},
          "execution_count": 108
        },
        {
          "output_type": "display_data",
          "data": {
            "text/plain": [
              "<Figure size 432x288 with 1 Axes>"
            ],
            "image/png": "[encoded data removed]"
          },
          "metadata": {
            "needs_background": "light"
          }
        }
      ]
    },
    {
      "cell_type": "code",
      "source": [
        "plt.plot(x, y, 'ro')\n",
        "plt.axis([0, 6, 0, 20])\n",
        "plt.plot(np.unique(x), np.poly1d(np.polyfit(x, y, 1))(np.unique(x)))\n",
        "plt.show()"
      ],
      "metadata": {
        "colab": {
          "base_uri": "https://localhost:8080/"
        },
        "id": "Yw4ttK_dOw8m",
        "outputId": "486fe4de-d413-416e-edd7-55f45429713d"
      },
      "execution_count": null,
      "outputs": [
        {
          "output_type": "display_data",
          "data": {
            "text/plain": [
              "<Figure size 432x288 with 1 Axes>"
            ],
            "image/png": "[encoded data removed]"
          },
          "metadata": {
            "needs_background": "light"
          }
        }
      ]
    },
    {
      "cell_type": "markdown",
      "source": [
        "**Predicting Who survived the titanic by Linear Regression**"
      ],
      "metadata": {
        "id": "x6vwTf8YXTOf"
      }
    },
    {
      "cell_type": "markdown",
      "source": [
        "Step 1. Installing sklearn"
      ],
      "metadata": {
        "id": "cht6HK_YPxie"
      }
    },
    {
      "cell_type": "code",
      "source": [
        "!pip install -q sklearn"
      ],
      "metadata": {
        "id": "7QsPOMmLQAAa"
      },
      "execution_count": null,
      "outputs": []
    },
    {
      "cell_type": "markdown",
      "source": [
        "Step 2. Importing required libraries"
      ],
      "metadata": {
        "id": "V4UsfMUhQYC6"
      }
    },
    {
      "cell_type": "code",
      "source": [
        "from __future__ import absolute_import, division, print_function, unicode_literals\n",
        "\n",
        "import numpy as np\n",
        "import pandas as pd\n",
        "import matplotlib.pyplot as plt\n",
        "from IPython.display import clear_output\n",
        "from six.moves import urllib\n",
        "\n",
        "import tensorflow.compat.v2.feature_column as fc\n",
        "import tensorflow as tf"
      ],
      "metadata": {
        "id": "-oi-JNvoQbvO"
      },
      "execution_count": null,
      "outputs": []
    },
    {
      "cell_type": "markdown",
      "source": [
        "Step 3. Reading csv files using panda"
      ],
      "metadata": {
        "id": "kKxZRONqdBa8"
      }
    },
    {
      "cell_type": "code",
      "source": [
        "reading = pd.read_csv('/content/train.csv')\n",
        "evaluation = pd.read_csv('/content/eval.csv')\n",
        "#removing the survived column which we will be predicting\n",
        "reading_survivors=reading.pop('survived')\n",
        "eval_survivors=evaluation.pop('survived')\n",
        "reading.head()"
      ],
      "metadata": {
        "id": "5XkTjjD4dKnk",
        "colab": {
          "base_uri": "https://localhost:8080/"
        },
        "outputId": "92a6d0c7-3e2f-4d55-c031-9adf72f51098"
      },
      "execution_count": null,
      "outputs": [
        {
          "output_type": "execute_result",
          "data": {
            "text/plain": [
              "      sex   age  n_siblings_spouses  parch     fare  class     deck  \\\n",
              "0    male  22.0                   1      0   7.2500  Third  unknown   \n",
              "1  female  38.0                   1      0  71.2833  First        C   \n",
              "2  female  26.0                   0      0   7.9250  Third  unknown   \n",
              "3  female  35.0                   1      0  53.1000  First        C   \n",
              "4    male  28.0                   0      0   8.4583  Third  unknown   \n",
              "\n",
              "   embark_town alone  \n",
              "0  Southampton     n  \n",
              "1    Cherbourg     n  \n",
              "2  Southampton     y  \n",
              "3  Southampton     n  \n",
              "4   Queenstown     y  "
            ],
            "text/html": [
              "\n",
              "  <div id=\"df-3ddc8e4c-15e5-4d8f-b60c-5aadb82fd6ef\">\n",
              "    <div class=\"colab-df-container\">\n",
              "      <div>\n",
              "<style scoped>\n",
              "    .dataframe tbody tr th:only-of-type {\n",
              "        vertical-align: middle;\n",
              "    }\n",
              "\n",
              "    .dataframe tbody tr th {\n",
              "        vertical-align: top;\n",
              "    }\n",
              "\n",
              "    .dataframe thead th {\n",
              "        text-align: right;\n",
              "    }\n",
              "</style>\n",
              "<table border=\"1\" class=\"dataframe\">\n",
              "  <thead>\n",
              "    <tr style=\"text-align: right;\">\n",
              "      <th></th>\n",
              "      <th>sex</th>\n",
              "      <th>age</th>\n",
              "      <th>n_siblings_spouses</th>\n",
              "      <th>parch</th>\n",
              "      <th>fare</th>\n",
              "      <th>class</th>\n",
              "      <th>deck</th>\n",
              "      <th>embark_town</th>\n",
              "      <th>alone</th>\n",
              "    </tr>\n",
              "  </thead>\n",
              "  <tbody>\n",
              "    <tr>\n",
              "      <th>0</th>\n",
              "      <td>male</td>\n",
              "      <td>22.0</td>\n",
              "      <td>1</td>\n",
              "      <td>0</td>\n",
              "      <td>7.2500</td>\n",
              "      <td>Third</td>\n",
              "      <td>unknown</td>\n",
              "      <td>Southampton</td>\n",
              "      <td>n</td>\n",
              "    </tr>\n",
              "    <tr>\n",
              "      <th>1</th>\n",
              "      <td>female</td>\n",
              "      <td>38.0</td>\n",
              "      <td>1</td>\n",
              "      <td>0</td>\n",
              "      <td>71.2833</td>\n",
              "      <td>First</td>\n",
              "      <td>C</td>\n",
              "      <td>Cherbourg</td>\n",
              "      <td>n</td>\n",
              "    </tr>\n",
              "    <tr>\n",
              "      <th>2</th>\n",
              "      <td>female</td>\n",
              "      <td>26.0</td>\n",
              "      <td>0</td>\n",
              "      <td>0</td>\n",
              "      <td>7.9250</td>\n",
              "      <td>Third</td>\n",
              "      <td>unknown</td>\n",
              "      <td>Southampton</td>\n",
              "      <td>y</td>\n",
              "    </tr>\n",
              "    <tr>\n",
              "      <th>3</th>\n",
              "      <td>female</td>\n",
              "      <td>35.0</td>\n",
              "      <td>1</td>\n",
              "      <td>0</td>\n",
              "      <td>53.1000</td>\n",
              "      <td>First</td>\n",
              "      <td>C</td>\n",
              "      <td>Southampton</td>\n",
              "      <td>n</td>\n",
              "    </tr>\n",
              "    <tr>\n",
              "      <th>4</th>\n",
              "      <td>male</td>\n",
              "      <td>28.0</td>\n",
              "      <td>0</td>\n",
              "      <td>0</td>\n",
              "      <td>8.4583</td>\n",
              "      <td>Third</td>\n",
              "      <td>unknown</td>\n",
              "      <td>Queenstown</td>\n",
              "      <td>y</td>\n",
              "    </tr>\n",
              "  </tbody>\n",
              "</table>\n",
              "</div>\n",
              "      <button class=\"colab-df-convert\" onclick=\"convertToInteractive('df-3ddc8e4c-15e5-4d8f-b60c-5aadb82fd6ef')\"\n",
              "              title=\"Convert this dataframe to an interactive table.\"\n",
              "              style=\"display:none;\">\n",
              "        \n",
              "  <svg xmlns=\"http://www.w3.org/2000/svg\" height=\"24px\"viewBox=\"0 0 24 24\"\n",
              "       width=\"24px\">\n",
              "    <path d=\"M0 0h24v24H0V0z\" fill=\"none\"/>\n",
              "    <path d=\"M18.56 5.44l.94 2.06.94-2.06 2.06-.94-2.06-.94-.94-2.06-.94 2.06-2.06.94zm-11 1L8.5 8.5l.94-2.06 2.06-.94-2.06-.94L8.5 2.5l-.94 2.06-2.06.94zm10 10l.94 2.06.94-2.06 2.06-.94-2.06-.94-.94-2.06-.94 2.06-2.06.94z\"/><path d=\"M17.41 7.96l-1.37-1.37c-.4-.4-.92-.59-1.43-.59-.52 0-1.04.2-1.43.59L10.3 9.45l-7.72 7.72c-.78.78-.78 2.05 0 2.83L4 21.41c.39.39.9.59 1.41.59.51 0 1.02-.2 1.41-.59l7.78-7.78 2.81-2.81c.8-.78.8-2.07 0-2.86zM5.41 20L4 18.59l7.72-7.72 1.47 1.35L5.41 20z\"/>\n",
              "  </svg>\n",
              "      </button>\n",
              "      \n",
              "  <style>\n",
              "    .colab-df-container {\n",
              "      display:flex;\n",
              "      flex-wrap:wrap;\n",
              "      gap: 12px;\n",
              "    }\n",
              "\n",
              "    .colab-df-convert {\n",
              "      background-color: #E8F0FE;\n",
              "      border: none;\n",
              "      border-radius: 50%;\n",
              "      cursor: pointer;\n",
              "      display: none;\n",
              "      fill: #1967D2;\n",
              "      height: 32px;\n",
              "      padding: 0 0 0 0;\n",
              "      width: 32px;\n",
              "    }\n",
              "\n",
              "    .colab-df-convert:hover {\n",
              "      background-color: #E2EBFA;\n",
              "      box-shadow: 0px 1px 2px rgba(60, 64, 67, 0.3), 0px 1px 3px 1px rgba(60, 64, 67, 0.15);\n",
              "      fill: #174EA6;\n",
              "    }\n",
              "\n",
              "    [theme=dark] .colab-df-convert {\n",
              "      background-color: #3B4455;\n",
              "      fill: #D2E3FC;\n",
              "    }\n",
              "\n",
              "    [theme=dark] .colab-df-convert:hover {\n",
              "      background-color: #434B5C;\n",
              "      box-shadow: 0px 1px 3px 1px rgba(0, 0, 0, 0.15);\n",
              "      filter: drop-shadow(0px 1px 2px rgba(0, 0, 0, 0.3));\n",
              "      fill: #FFFFFF;\n",
              "    }\n",
              "  </style>\n",
              "\n",
              "      <script>\n",
              "        const buttonEl =\n",
              "          document.querySelector('#df-3ddc8e4c-15e5-4d8f-b60c-5aadb82fd6ef button.colab-df-convert');\n",
              "        buttonEl.style.display =\n",
              "          google.colab.kernel.accessAllowed ? 'block' : 'none';\n",
              "\n",
              "        async function convertToInteractive(key) {\n",
              "          const element = document.querySelector('#df-3ddc8e4c-15e5-4d8f-b60c-5aadb82fd6ef');\n",
              "          const dataTable =\n",
              "            await google.colab.kernel.invokeFunction('convertToInteractive',\n",
              "                                                     [key], {});\n",
              "          if (!dataTable) return;\n",
              "\n",
              "          const docLinkHtml = 'Like what you see? Visit the ' +\n",
              "            '<a target=\"_blank\" href=https://colab.research.google.com/notebooks/data_table.ipynb>data table notebook</a>'\n",
              "            + ' to learn more about interactive tables.';\n",
              "          element.innerHTML = '';\n",
              "          dataTable['output_type'] = 'display_data';\n",
              "          await google.colab.output.renderOutput(dataTable, element);\n",
              "          const docLink = document.createElement('div');\n",
              "          docLink.innerHTML = docLinkHtml;\n",
              "          element.appendChild(docLink);\n",
              "        }\n",
              "      </script>\n",
              "    </div>\n",
              "  </div>\n",
              "  "
            ]
          },
          "metadata": {},
          "execution_count": 112
        }
      ]
    },
    {
      "cell_type": "markdown",
      "source": [
        "Step 4. Analysing the data"
      ],
      "metadata": {
        "id": "P7mQxniVdJZg"
      }
    },
    {
      "cell_type": "markdown",
      "source": [
        "From the given Data we can infer that we will be working  Age,Sex,class  as the majority factor of survivability rate"
      ],
      "metadata": {
        "id": "6ei2H4JKdUGc"
      }
    },
    {
      "cell_type": "code",
      "source": [
        "reading.describe()"
      ],
      "metadata": {
        "colab": {
          "base_uri": "https://localhost:8080/"
        },
        "id": "K_QdrLgLZR5D",
        "outputId": "7344c0ba-0a90-4770-f5dd-1ce672d0ccd5"
      },
      "execution_count": null,
      "outputs": [
        {
          "output_type": "execute_result",
          "data": {
            "text/plain": [
              "              age  n_siblings_spouses       parch        fare\n",
              "count  627.000000          627.000000  627.000000  627.000000\n",
              "mean    29.631308            0.545455    0.379585   34.385399\n",
              "std     12.511818            1.151090    0.792999   54.597730\n",
              "min      0.750000            0.000000    0.000000    0.000000\n",
              "25%     23.000000            0.000000    0.000000    7.895800\n",
              "50%     28.000000            0.000000    0.000000   15.045800\n",
              "75%     35.000000            1.000000    0.000000   31.387500\n",
              "max     80.000000            8.000000    5.000000  512.329200"
            ],
            "text/html": [
              "\n",
              "  <div id=\"df-75e16a17-5282-4e09-ab0e-342fcda1e72d\">\n",
              "    <div class=\"colab-df-container\">\n",
              "      <div>\n",
              "<style scoped>\n",
              "    .dataframe tbody tr th:only-of-type {\n",
              "        vertical-align: middle;\n",
              "    }\n",
              "\n",
              "    .dataframe tbody tr th {\n",
              "        vertical-align: top;\n",
              "    }\n",
              "\n",
              "    .dataframe thead th {\n",
              "        text-align: right;\n",
              "    }\n",
              "</style>\n",
              "<table border=\"1\" class=\"dataframe\">\n",
              "  <thead>\n",
              "    <tr style=\"text-align: right;\">\n",
              "      <th></th>\n",
              "      <th>age</th>\n",
              "      <th>n_siblings_spouses</th>\n",
              "      <th>parch</th>\n",
              "      <th>fare</th>\n",
              "    </tr>\n",
              "  </thead>\n",
              "  <tbody>\n",
              "    <tr>\n",
              "      <th>count</th>\n",
              "      <td>627.000000</td>\n",
              "      <td>627.000000</td>\n",
              "      <td>627.000000</td>\n",
              "      <td>627.000000</td>\n",
              "    </tr>\n",
              "    <tr>\n",
              "      <th>mean</th>\n",
              "      <td>29.631308</td>\n",
              "      <td>0.545455</td>\n",
              "      <td>0.379585</td>\n",
              "      <td>34.385399</td>\n",
              "    </tr>\n",
              "    <tr>\n",
              "      <th>std</th>\n",
              "      <td>12.511818</td>\n",
              "      <td>1.151090</td>\n",
              "      <td>0.792999</td>\n",
              "      <td>54.597730</td>\n",
              "    </tr>\n",
              "    <tr>\n",
              "      <th>min</th>\n",
              "      <td>0.750000</td>\n",
              "      <td>0.000000</td>\n",
              "      <td>0.000000</td>\n",
              "      <td>0.000000</td>\n",
              "    </tr>\n",
              "    <tr>\n",
              "      <th>25%</th>\n",
              "      <td>23.000000</td>\n",
              "      <td>0.000000</td>\n",
              "      <td>0.000000</td>\n",
              "      <td>7.895800</td>\n",
              "    </tr>\n",
              "    <tr>\n",
              "      <th>50%</th>\n",
              "      <td>28.000000</td>\n",
              "      <td>0.000000</td>\n",
              "      <td>0.000000</td>\n",
              "      <td>15.045800</td>\n",
              "    </tr>\n",
              "    <tr>\n",
              "      <th>75%</th>\n",
              "      <td>35.000000</td>\n",
              "      <td>1.000000</td>\n",
              "      <td>0.000000</td>\n",
              "      <td>31.387500</td>\n",
              "    </tr>\n",
              "    <tr>\n",
              "      <th>max</th>\n",
              "      <td>80.000000</td>\n",
              "      <td>8.000000</td>\n",
              "      <td>5.000000</td>\n",
              "      <td>512.329200</td>\n",
              "    </tr>\n",
              "  </tbody>\n",
              "</table>\n",
              "</div>\n",
              "      <button class=\"colab-df-convert\" onclick=\"convertToInteractive('df-75e16a17-5282-4e09-ab0e-342fcda1e72d')\"\n",
              "              title=\"Convert this dataframe to an interactive table.\"\n",
              "              style=\"display:none;\">\n",
              "        \n",
              "  <svg xmlns=\"http://www.w3.org/2000/svg\" height=\"24px\"viewBox=\"0 0 24 24\"\n",
              "       width=\"24px\">\n",
              "    <path d=\"M0 0h24v24H0V0z\" fill=\"none\"/>\n",
              "    <path d=\"M18.56 5.44l.94 2.06.94-2.06 2.06-.94-2.06-.94-.94-2.06-.94 2.06-2.06.94zm-11 1L8.5 8.5l.94-2.06 2.06-.94-2.06-.94L8.5 2.5l-.94 2.06-2.06.94zm10 10l.94 2.06.94-2.06 2.06-.94-2.06-.94-.94-2.06-.94 2.06-2.06.94z\"/><path d=\"M17.41 7.96l-1.37-1.37c-.4-.4-.92-.59-1.43-.59-.52 0-1.04.2-1.43.59L10.3 9.45l-7.72 7.72c-.78.78-.78 2.05 0 2.83L4 21.41c.39.39.9.59 1.41.59.51 0 1.02-.2 1.41-.59l7.78-7.78 2.81-2.81c.8-.78.8-2.07 0-2.86zM5.41 20L4 18.59l7.72-7.72 1.47 1.35L5.41 20z\"/>\n",
              "  </svg>\n",
              "      </button>\n",
              "      \n",
              "  <style>\n",
              "    .colab-df-container {\n",
              "      display:flex;\n",
              "      flex-wrap:wrap;\n",
              "      gap: 12px;\n",
              "    }\n",
              "\n",
              "    .colab-df-convert {\n",
              "      background-color: #E8F0FE;\n",
              "      border: none;\n",
              "      border-radius: 50%;\n",
              "      cursor: pointer;\n",
              "      display: none;\n",
              "      fill: #1967D2;\n",
              "      height: 32px;\n",
              "      padding: 0 0 0 0;\n",
              "      width: 32px;\n",
              "    }\n",
              "\n",
              "    .colab-df-convert:hover {\n",
              "      background-color: #E2EBFA;\n",
              "      box-shadow: 0px 1px 2px rgba(60, 64, 67, 0.3), 0px 1px 3px 1px rgba(60, 64, 67, 0.15);\n",
              "      fill: #174EA6;\n",
              "    }\n",
              "\n",
              "    [theme=dark] .colab-df-convert {\n",
              "      background-color: #3B4455;\n",
              "      fill: #D2E3FC;\n",
              "    }\n",
              "\n",
              "    [theme=dark] .colab-df-convert:hover {\n",
              "      background-color: #434B5C;\n",
              "      box-shadow: 0px 1px 3px 1px rgba(0, 0, 0, 0.15);\n",
              "      filter: drop-shadow(0px 1px 2px rgba(0, 0, 0, 0.3));\n",
              "      fill: #FFFFFF;\n",
              "    }\n",
              "  </style>\n",
              "\n",
              "      <script>\n",
              "        const buttonEl =\n",
              "          document.querySelector('#df-75e16a17-5282-4e09-ab0e-342fcda1e72d button.colab-df-convert');\n",
              "        buttonEl.style.display =\n",
              "          google.colab.kernel.accessAllowed ? 'block' : 'none';\n",
              "\n",
              "        async function convertToInteractive(key) {\n",
              "          const element = document.querySelector('#df-75e16a17-5282-4e09-ab0e-342fcda1e72d');\n",
              "          const dataTable =\n",
              "            await google.colab.kernel.invokeFunction('convertToInteractive',\n",
              "                                                     [key], {});\n",
              "          if (!dataTable) return;\n",
              "\n",
              "          const docLinkHtml = 'Like what you see? Visit the ' +\n",
              "            '<a target=\"_blank\" href=https://colab.research.google.com/notebooks/data_table.ipynb>data table notebook</a>'\n",
              "            + ' to learn more about interactive tables.';\n",
              "          element.innerHTML = '';\n",
              "          dataTable['output_type'] = 'display_data';\n",
              "          await google.colab.output.renderOutput(dataTable, element);\n",
              "          const docLink = document.createElement('div');\n",
              "          docLink.innerHTML = docLinkHtml;\n",
              "          element.appendChild(docLink);\n",
              "        }\n",
              "      </script>\n",
              "    </div>\n",
              "  </div>\n",
              "  "
            ]
          },
          "metadata": {},
          "execution_count": 113
        }
      ]
    },
    {
      "cell_type": "markdown",
      "source": [
        "Step 5: Analysing Age of Passengers"
      ],
      "metadata": {
        "id": "h1TA6Bb_bmBN"
      }
    },
    {
      "cell_type": "code",
      "source": [
        "reading.age.hist(bins=20)\n",
        "print(reading.age.mean())"
      ],
      "metadata": {
        "colab": {
          "base_uri": "https://localhost:8080/"
        },
        "id": "wWabrEM8cGnP",
        "outputId": "ef0b45a8-4cab-4c73-e76c-f02ccb0c7940"
      },
      "execution_count": null,
      "outputs": [
        {
          "output_type": "stream",
          "name": "stdout",
          "text": [
            "29.631307814992027\n"
          ]
        },
        {
          "output_type": "display_data",
          "data": {
            "text/plain": [
              "<Figure size 432x288 with 1 Axes>"
            ],
            "image/png": "[encoded data removed]"
          },
          "metadata": {
            "needs_background": "light"
          }
        }
      ]
    },
    {
      "cell_type": "markdown",
      "source": [
        "Inference 1: Avg age of the passengers is btw 20-30"
      ],
      "metadata": {
        "id": "ZYwk4-yCcL3R"
      }
    },
    {
      "cell_type": "markdown",
      "source": [
        "Step 5: Analysing Sex count of Passengers"
      ],
      "metadata": {
        "id": "-f_qmORYcfbm"
      }
    },
    {
      "cell_type": "code",
      "source": [
        "count=reading.sex.value_counts()\n",
        "count.plot(kind='barh')"
      ],
      "metadata": {
        "colab": {
          "base_uri": "https://localhost:8080/"
        },
        "id": "IwJDIlpEctaY",
        "outputId": "ef647ac2-a169-41ba-e814-7cad3c2a9e6c"
      },
      "execution_count": null,
      "outputs": [
        {
          "output_type": "execute_result",
          "data": {
            "text/plain": [
              "<matplotlib.axes._subplots.AxesSubplot at 0x7fa51fcb6390>"
            ]
          },
          "metadata": {},
          "execution_count": 115
        },
        {
          "output_type": "display_data",
          "data": {
            "text/plain": [
              "<Figure size 432x288 with 1 Axes>"
            ],
            "image/png": "[encoded data removed]"
          },
          "metadata": {
            "needs_background": "light"
          }
        }
      ]
    },
    {
      "cell_type": "markdown",
      "source": [
        "Inference 2: There are twice as males as in females"
      ],
      "metadata": {
        "id": "2lRHyKGedKFb"
      }
    },
    {
      "cell_type": "markdown",
      "source": [
        "Step 6: Analysing Class of Passengers"
      ],
      "metadata": {
        "id": "kutosps9d1TK"
      }
    },
    {
      "cell_type": "code",
      "source": [
        "reading['class'].value_counts().plot(kind='barh')"
      ],
      "metadata": {
        "colab": {
          "base_uri": "https://localhost:8080/"
        },
        "id": "kakRMnpBd-F2",
        "outputId": "582768ff-7052-4ab4-b97d-c4141b96d9b5"
      },
      "execution_count": null,
      "outputs": [
        {
          "output_type": "execute_result",
          "data": {
            "text/plain": [
              "<matplotlib.axes._subplots.AxesSubplot at 0x7fa51e63c090>"
            ]
          },
          "metadata": {},
          "execution_count": 116
        },
        {
          "output_type": "display_data",
          "data": {
            "text/plain": [
              "<Figure size 432x288 with 1 Axes>"
            ],
            "image/png": "[encoded data removed]"
          },
          "metadata": {
            "needs_background": "light"
          }
        }
      ]
    },
    {
      "cell_type": "markdown",
      "source": [
        "Inference 3: Majority of passengers are 3rd class"
      ],
      "metadata": {
        "id": "qBDMXQ7ZeISS"
      }
    },
    {
      "cell_type": "markdown",
      "source": [
        "Step 7: Analysis our required prediction of survived"
      ],
      "metadata": {
        "id": "ATfsT97Iew0n"
      }
    },
    {
      "cell_type": "code",
      "source": [
        "pd.concat([reading,reading_survivors],axis=1).groupby('sex').survived.mean().plot(kind='barh').set_xlabel('survived')"
      ],
      "metadata": {
        "colab": {
          "base_uri": "https://localhost:8080/"
        },
        "id": "O1JsLOcBfYtQ",
        "outputId": "a3153334-6e86-4440-a73a-c303dc981d2f"
      },
      "execution_count": null,
      "outputs": [
        {
          "output_type": "execute_result",
          "data": {
            "text/plain": [
              "Text(0.5, 0, 'survived')"
            ]
          },
          "metadata": {},
          "execution_count": 117
        },
        {
          "output_type": "display_data",
          "data": {
            "text/plain": [
              "<Figure size 432x288 with 1 Axes>"
            ],
            "image/png": "[encoded data removed]"
          },
          "metadata": {
            "needs_background": "light"
          }
        }
      ]
    },
    {
      "cell_type": "markdown",
      "source": [
        "Inference 4:Females have a Higher chance of surviving than males\n",
        "(Due to ladies and children policy)\n"
      ],
      "metadata": {
        "id": "14n8yBCcfsz-"
      }
    },
    {
      "cell_type": "markdown",
      "source": [
        "Step 8: Creating our Featured Column/Unique Column for data Analysis"
      ],
      "metadata": {
        "id": "29v9IcDSgUrf"
      }
    },
    {
      "cell_type": "code",
      "source": [
        "CC = ['sex', 'n_siblings_spouses', 'parch', 'class', 'deck',\n",
        "                       'embark_town', 'alone']\n",
        "NC = ['age', 'fare']\n",
        "\n",
        "fc =[]\n",
        "for x in CC:\n",
        "  voc = reading[x].unique()\n",
        "  fc.append(tf.feature_column.categorical_column_with_vocabulary_list(x,voc))\n",
        "for y in NC:\n",
        "  fc.append(tf.feature_column.numeric_column(y, dtype=tf.float32))\n",
        "print(fc)"
      ],
      "metadata": {
        "colab": {
          "base_uri": "https://localhost:8080/"
        },
        "id": "fyK1LkHFgfp0",
        "outputId": "5d95b992-bdae-40e6-9769-5f4d1787d7dc"
      },
      "execution_count": null,
      "outputs": [
        {
          "output_type": "stream",
          "name": "stdout",
          "text": [
            "[VocabularyListCategoricalColumn(key='sex', vocabulary_list=('male', 'female'), dtype=tf.string, default_value=-1, num_oov_buckets=0), VocabularyListCategoricalColumn(key='n_siblings_spouses', vocabulary_list=(1, 0, 3, 4, 2, 5, 8), dtype=tf.int64, default_value=-1, num_oov_buckets=0), VocabularyListCategoricalColumn(key='parch', vocabulary_list=(0, 1, 2, 5, 3, 4), dtype=tf.int64, default_value=-1, num_oov_buckets=0), VocabularyListCategoricalColumn(key='class', vocabulary_list=('Third', 'First', 'Second'), dtype=tf.string, default_value=-1, num_oov_buckets=0), VocabularyListCategoricalColumn(key='deck', vocabulary_list=('unknown', 'C', 'G', 'A', 'B', 'D', 'F', 'E'), dtype=tf.string, default_value=-1, num_oov_buckets=0), VocabularyListCategoricalColumn(key='embark_town', vocabulary_list=('Southampton', 'Cherbourg', 'Queenstown', 'unknown'), dtype=tf.string, default_value=-1, num_oov_buckets=0), VocabularyListCategoricalColumn(key='alone', vocabulary_list=('n', 'y'), dtype=tf.string, default_value=-1, num_oov_buckets=0), NumericColumn(key='age', shape=(1,), default_value=None, dtype=tf.float32, normalizer_fn=None), NumericColumn(key='fare', shape=(1,), default_value=None, dtype=tf.float32, normalizer_fn=None)]\n"
          ]
        }
      ]
    },
    {
      "cell_type": "markdown",
      "source": [
        "We Tend to load the Data in batches when we are dealing with large no of datasets. We tend to use epoch(a stream of one dataset). Since we are gonna load the same data agian and again we are gonna make our own input function"
      ],
      "metadata": {
        "id": "HcnlBc6w4ZFz"
      }
    },
    {
      "cell_type": "markdown",
      "source": [
        "Step 9: Input Function"
      ],
      "metadata": {
        "id": "GLrvVrjCJSbQ"
      }
    },
    {
      "cell_type": "code",
      "source": [
        "from tensorflow._api.v2.compat.v1 import train\n",
        "def makeinpfun(data,label,epochs = 10,shuffle=True,batchsize=32):\n",
        "  def input_function():\n",
        "    ds = tf.data.Dataset.from_tensor_slices((dict(data),label))#creating a dataset fro given data\n",
        "    if shuffle:\n",
        "      ds = ds.shuffle(1000)#shuffles the data\n",
        "    ds = ds.batch(batchsize).repeat(epochs)#converts data to batches and repeats \n",
        "    return ds\n",
        "  return input_function\n",
        "\n",
        "train_input = makeinpfun(reading,readingcheck)\n",
        "eval_input = makeinpfun(evaluation,evalcheck)\n"
      ],
      "metadata": {
        "id": "fYJ2eih140Gd"
      },
      "execution_count": null,
      "outputs": []
    },
    {
      "cell_type": "markdown",
      "source": [
        "Step 10: Creating the linear estimator(easy af!)"
      ],
      "metadata": {
        "id": "_mF8llrD78P6"
      }
    },
    {
      "cell_type": "code",
      "source": [
        "lin_est = tf.estimator.LinearClassifier(feature_columns=fc)\n"
      ],
      "metadata": {
        "colab": {
          "base_uri": "https://localhost:8080/"
        },
        "id": "XNULF_uu72f2",
        "outputId": "2745a1c8-80d4-4761-bc84-869e1c2d046e"
      },
      "execution_count": null,
      "outputs": [
        {
          "output_type": "stream",
          "name": "stdout",
          "text": [
            "INFO:tensorflow:Using default config.\n",
            "WARNING:tensorflow:Using temporary folder as model directory: /tmp/tmp08mvc39n\n",
            "INFO:tensorflow:Using config: {'_model_dir': '/tmp/tmp08mvc39n', '_tf_random_seed': None, '_save_summary_steps': 100, '_save_checkpoints_steps': None, '_save_checkpoints_secs': 600, '_session_config': allow_soft_placement: true\n",
            "graph_options {\n",
            "  rewrite_options {\n",
            "    meta_optimizer_iterations: ONE\n",
            "  }\n",
            "}\n",
            ", '_keep_checkpoint_max': 5, '_keep_checkpoint_every_n_hours': 10000, '_log_step_count_steps': 100, '_train_distribute': None, '_device_fn': None, '_protocol': None, '_eval_distribute': None, '_experimental_distribute': None, '_experimental_max_worker_delay_secs': None, '_session_creation_timeout_secs': 7200, '_checkpoint_save_graph_def': True, '_service': None, '_cluster_spec': ClusterSpec({}), '_task_type': 'worker', '_task_id': 0, '_global_id_in_cluster': 0, '_master': '', '_evaluation_master': '', '_is_chief': True, '_num_ps_replicas': 0, '_num_worker_replicas': 1}\n"
          ]
        }
      ]
    },
    {
      "cell_type": "markdown",
      "source": [
        "Step 11: Training the model"
      ],
      "metadata": {
        "id": "ze4bsQdQ8hkF"
      }
    },
    {
      "cell_type": "code",
      "source": [
        "lin_est.train(train_input)"
      ],
      "metadata": {
        "colab": {
          "base_uri": "https://localhost:8080/"
        },
        "id": "7Q7vD-J28j5w",
        "outputId": "56da4575-6535-42f2-c5b3-d003300694d7"
      },
      "execution_count": null,
      "outputs": [
        {
          "output_type": "stream",
          "name": "stdout",
          "text": [
            "INFO:tensorflow:Calling model_fn.\n"
          ]
        },
        {
          "output_type": "stream",
          "name": "stderr",
          "text": [
            "/usr/local/lib/python3.7/dist-packages/tensorflow_estimator/python/estimator/canned/linear.py:1478: UserWarning: `layer.add_variable` is deprecated and will be removed in a future version. Please use `layer.add_weight` method instead.\n",
            "  getter=tf.compat.v1.get_variable)\n"
          ]
        },
        {
          "output_type": "stream",
          "name": "stdout",
          "text": [
            "INFO:tensorflow:Done calling model_fn.\n",
            "INFO:tensorflow:Create CheckpointSaverHook.\n",
            "INFO:tensorflow:Graph was finalized.\n",
            "INFO:tensorflow:Running local_init_op.\n",
            "INFO:tensorflow:Done running local_init_op.\n",
            "INFO:tensorflow:Calling checkpoint listeners before saving checkpoint 0...\n",
            "INFO:tensorflow:Saving checkpoints for 0 into /tmp/tmp08mvc39n/model.ckpt.\n",
            "INFO:tensorflow:Calling checkpoint listeners after saving checkpoint 0...\n",
            "INFO:tensorflow:loss = 0.6931472, step = 0\n",
            "INFO:tensorflow:global_step/sec: 211.95\n",
            "INFO:tensorflow:loss = 0.61399764, step = 100 (0.474 sec)\n",
            "INFO:tensorflow:Calling checkpoint listeners before saving checkpoint 200...\n",
            "INFO:tensorflow:Saving checkpoints for 200 into /tmp/tmp08mvc39n/model.ckpt.\n",
            "INFO:tensorflow:Calling checkpoint listeners after saving checkpoint 200...\n",
            "INFO:tensorflow:Loss for final step: 0.45549494.\n"
          ]
        },
        {
          "output_type": "execute_result",
          "data": {
            "text/plain": [
              "<tensorflow_estimator.python.estimator.canned.linear.LinearClassifierV2 at 0x7fa51e7c46d0>"
            ]
          },
          "metadata": {},
          "execution_count": 121
        }
      ]
    },
    {
      "cell_type": "markdown",
      "source": [
        "Step 12: Checking accuracy"
      ],
      "metadata": {
        "id": "Jc7o-U6H9d4s"
      }
    },
    {
      "cell_type": "code",
      "source": [
        "result = lin_est.evaluate(eval_input) # finds the statistical values of the dataset\n",
        "clear_output()\n",
        "print(result['accuracy'])"
      ],
      "metadata": {
        "colab": {
          "base_uri": "https://localhost:8080/"
        },
        "id": "N8xgeMcc9nh6",
        "outputId": "26425eb8-609f-4a2e-db02-45c30f8889d6"
      },
      "execution_count": null,
      "outputs": [
        {
          "output_type": "stream",
          "name": "stdout",
          "text": [
            "0.7689394\n"
          ]
        }
      ]
    },
    {
      "cell_type": "markdown",
      "source": [
        "Step 13: Extracting the Data"
      ],
      "metadata": {
        "id": "pVsVU7Fq-k__"
      }
    },
    {
      "cell_type": "code",
      "source": [
        "result = list(lin_est.predict(eval_input))\n",
        "i = 2\n",
        "clear_output()\n",
        "print(evaluation.loc[i])\n",
        "print(evalcheck.loc[i])\n",
        "print(result[i]['probabilities'][1]*100)"
      ],
      "metadata": {
        "colab": {
          "base_uri": "https://localhost:8080/"
        },
        "id": "fwjfLsvT-vzM",
        "outputId": "0a54925a-be37-462a-b0f1-60e21e6ebcde"
      },
      "execution_count": null,
      "outputs": [
        {
          "output_type": "stream",
          "name": "stdout",
          "text": [
            "sex                        female\n",
            "age                          58.0\n",
            "n_siblings_spouses              0\n",
            "parch                           0\n",
            "fare                        26.55\n",
            "class                       First\n",
            "deck                            C\n",
            "embark_town           Southampton\n",
            "alone                           y\n",
            "Name: 2, dtype: object\n",
            "1\n",
            "7.349919527769089\n"
          ]
        }
      ]
    },
    {
      "cell_type": "markdown",
      "source": [
        "# **Core Learning Algorthims 2:Classification**\n",
        "\n",
        "---\n",
        "\n"
      ],
      "metadata": {
        "id": "GmCVYlIJ-oL5"
      }
    },
    {
      "cell_type": "markdown",
      "source": [
        "2. Classification: Unlike linear Regression that predicts the output based on the numerical values plots on an n dimensional graph, Classification is going to seperate all these values based on features or cahracterstics of the data. "
      ],
      "metadata": {
        "id": "vgmg0pg-BOSh"
      }
    },
    {
      "cell_type": "markdown",
      "source": [
        "Predicting the Flower species \n",
        "This specific dataset seperates flowers into 3 different classes of species.\n",
        "- Setosa\n",
        "- Versicolor\n",
        "- Virginica\n",
        "\n",
        "The information about each flower is the following.\n",
        "- sepal length\n",
        "- sepal width\n",
        "- petal length\n",
        "- petal width"
      ],
      "metadata": {
        "id": "U_aMHzTEKR-R"
      }
    },
    {
      "cell_type": "code",
      "source": [
        "Columns = ['SepalLength', 'SepalWidth', 'PetalLength', 'PetalWidth', 'Species']\n",
        "Species = ['Setosa', 'Versicolor', 'Virginica']"
      ],
      "metadata": {
        "id": "KGo3nFNiK5Ud"
      },
      "execution_count": null,
      "outputs": []
    },
    {
      "cell_type": "markdown",
      "source": [
        "Step 1: Loading the DataSet of Flowers"
      ],
      "metadata": {
        "id": "1npy0Lz0KtbD"
      }
    },
    {
      "cell_type": "code",
      "source": [
        "#keras utilities allows us to read files and retrieve them from a cloud or our device\n",
        "train_path = tf.keras.utils.get_file(\n",
        "    \"iris_training.csv\", \"https://storage.googleapis.com/download.tensorflow.org/data/iris_training.csv\")\n",
        "test_path = tf.keras.utils.get_file(\n",
        "    \"iris_test.csv\", \"https://storage.googleapis.com/download.tensorflow.org/data/iris_test.csv\")\n",
        "#These are Prestored in the drive u can copy the above lines directly\n",
        "\n",
        "#reading only the required column data\n",
        "train = pd.read_csv(train_path, names=Columns, header=0)\n",
        "test = pd.read_csv(test_path, names=Columns, header=0)\n",
        "# Here we use keras (a module inside of TensorFlow) to grab our datasets and read them into a pandas dataframe"
      ],
      "metadata": {
        "id": "vdIeMpR-LJP1"
      },
      "execution_count": null,
      "outputs": []
    },
    {
      "cell_type": "markdown",
      "source": [
        "Check the data"
      ],
      "metadata": {
        "id": "yji4i-8dL38u"
      }
    },
    {
      "cell_type": "code",
      "source": [
        "train.head()"
      ],
      "metadata": {
        "colab": {
          "base_uri": "https://localhost:8080/",
          "height": 206
        },
        "id": "v7lvdxy7L51W",
        "outputId": "140e514d-0e8d-45b1-c123-e84959e60e98"
      },
      "execution_count": null,
      "outputs": [
        {
          "output_type": "execute_result",
          "data": {
            "text/plain": [
              "   SepalLength  SepalWidth  PetalLength  PetalWidth  Species\n",
              "0          6.4         2.8          5.6         2.2        2\n",
              "1          5.0         2.3          3.3         1.0        1\n",
              "2          4.9         2.5          4.5         1.7        2\n",
              "3          4.9         3.1          1.5         0.1        0\n",
              "4          5.7         3.8          1.7         0.3        0"
            ],
            "text/html": [
              "\n",
              "  <div id=\"df-f25e896d-cb6c-4eac-ba65-55638a5f27cb\">\n",
              "    <div class=\"colab-df-container\">\n",
              "      <div>\n",
              "<style scoped>\n",
              "    .dataframe tbody tr th:only-of-type {\n",
              "        vertical-align: middle;\n",
              "    }\n",
              "\n",
              "    .dataframe tbody tr th {\n",
              "        vertical-align: top;\n",
              "    }\n",
              "\n",
              "    .dataframe thead th {\n",
              "        text-align: right;\n",
              "    }\n",
              "</style>\n",
              "<table border=\"1\" class=\"dataframe\">\n",
              "  <thead>\n",
              "    <tr style=\"text-align: right;\">\n",
              "      <th></th>\n",
              "      <th>SepalLength</th>\n",
              "      <th>SepalWidth</th>\n",
              "      <th>PetalLength</th>\n",
              "      <th>PetalWidth</th>\n",
              "      <th>Species</th>\n",
              "    </tr>\n",
              "  </thead>\n",
              "  <tbody>\n",
              "    <tr>\n",
              "      <th>0</th>\n",
              "      <td>6.4</td>\n",
              "      <td>2.8</td>\n",
              "      <td>5.6</td>\n",
              "      <td>2.2</td>\n",
              "      <td>2</td>\n",
              "    </tr>\n",
              "    <tr>\n",
              "      <th>1</th>\n",
              "      <td>5.0</td>\n",
              "      <td>2.3</td>\n",
              "      <td>3.3</td>\n",
              "      <td>1.0</td>\n",
              "      <td>1</td>\n",
              "    </tr>\n",
              "    <tr>\n",
              "      <th>2</th>\n",
              "      <td>4.9</td>\n",
              "      <td>2.5</td>\n",
              "      <td>4.5</td>\n",
              "      <td>1.7</td>\n",
              "      <td>2</td>\n",
              "    </tr>\n",
              "    <tr>\n",
              "      <th>3</th>\n",
              "      <td>4.9</td>\n",
              "      <td>3.1</td>\n",
              "      <td>1.5</td>\n",
              "      <td>0.1</td>\n",
              "      <td>0</td>\n",
              "    </tr>\n",
              "    <tr>\n",
              "      <th>4</th>\n",
              "      <td>5.7</td>\n",
              "      <td>3.8</td>\n",
              "      <td>1.7</td>\n",
              "      <td>0.3</td>\n",
              "      <td>0</td>\n",
              "    </tr>\n",
              "  </tbody>\n",
              "</table>\n",
              "</div>\n",
              "      <button class=\"colab-df-convert\" onclick=\"convertToInteractive('df-f25e896d-cb6c-4eac-ba65-55638a5f27cb')\"\n",
              "              title=\"Convert this dataframe to an interactive table.\"\n",
              "              style=\"display:none;\">\n",
              "        \n",
              "  <svg xmlns=\"http://www.w3.org/2000/svg\" height=\"24px\"viewBox=\"0 0 24 24\"\n",
              "       width=\"24px\">\n",
              "    <path d=\"M0 0h24v24H0V0z\" fill=\"none\"/>\n",
              "    <path d=\"M18.56 5.44l.94 2.06.94-2.06 2.06-.94-2.06-.94-.94-2.06-.94 2.06-2.06.94zm-11 1L8.5 8.5l.94-2.06 2.06-.94-2.06-.94L8.5 2.5l-.94 2.06-2.06.94zm10 10l.94 2.06.94-2.06 2.06-.94-2.06-.94-.94-2.06-.94 2.06-2.06.94z\"/><path d=\"M17.41 7.96l-1.37-1.37c-.4-.4-.92-.59-1.43-.59-.52 0-1.04.2-1.43.59L10.3 9.45l-7.72 7.72c-.78.78-.78 2.05 0 2.83L4 21.41c.39.39.9.59 1.41.59.51 0 1.02-.2 1.41-.59l7.78-7.78 2.81-2.81c.8-.78.8-2.07 0-2.86zM5.41 20L4 18.59l7.72-7.72 1.47 1.35L5.41 20z\"/>\n",
              "  </svg>\n",
              "      </button>\n",
              "      \n",
              "  <style>\n",
              "    .colab-df-container {\n",
              "      display:flex;\n",
              "      flex-wrap:wrap;\n",
              "      gap: 12px;\n",
              "    }\n",
              "\n",
              "    .colab-df-convert {\n",
              "      background-color: #E8F0FE;\n",
              "      border: none;\n",
              "      border-radius: 50%;\n",
              "      cursor: pointer;\n",
              "      display: none;\n",
              "      fill: #1967D2;\n",
              "      height: 32px;\n",
              "      padding: 0 0 0 0;\n",
              "      width: 32px;\n",
              "    }\n",
              "\n",
              "    .colab-df-convert:hover {\n",
              "      background-color: #E2EBFA;\n",
              "      box-shadow: 0px 1px 2px rgba(60, 64, 67, 0.3), 0px 1px 3px 1px rgba(60, 64, 67, 0.15);\n",
              "      fill: #174EA6;\n",
              "    }\n",
              "\n",
              "    [theme=dark] .colab-df-convert {\n",
              "      background-color: #3B4455;\n",
              "      fill: #D2E3FC;\n",
              "    }\n",
              "\n",
              "    [theme=dark] .colab-df-convert:hover {\n",
              "      background-color: #434B5C;\n",
              "      box-shadow: 0px 1px 3px 1px rgba(0, 0, 0, 0.15);\n",
              "      filter: drop-shadow(0px 1px 2px rgba(0, 0, 0, 0.3));\n",
              "      fill: #FFFFFF;\n",
              "    }\n",
              "  </style>\n",
              "\n",
              "      <script>\n",
              "        const buttonEl =\n",
              "          document.querySelector('#df-f25e896d-cb6c-4eac-ba65-55638a5f27cb button.colab-df-convert');\n",
              "        buttonEl.style.display =\n",
              "          google.colab.kernel.accessAllowed ? 'block' : 'none';\n",
              "\n",
              "        async function convertToInteractive(key) {\n",
              "          const element = document.querySelector('#df-f25e896d-cb6c-4eac-ba65-55638a5f27cb');\n",
              "          const dataTable =\n",
              "            await google.colab.kernel.invokeFunction('convertToInteractive',\n",
              "                                                     [key], {});\n",
              "          if (!dataTable) return;\n",
              "\n",
              "          const docLinkHtml = 'Like what you see? Visit the ' +\n",
              "            '<a target=\"_blank\" href=https://colab.research.google.com/notebooks/data_table.ipynb>data table notebook</a>'\n",
              "            + ' to learn more about interactive tables.';\n",
              "          element.innerHTML = '';\n",
              "          dataTable['output_type'] = 'display_data';\n",
              "          await google.colab.output.renderOutput(dataTable, element);\n",
              "          const docLink = document.createElement('div');\n",
              "          docLink.innerHTML = docLinkHtml;\n",
              "          element.appendChild(docLink);\n",
              "        }\n",
              "      </script>\n",
              "    </div>\n",
              "  </div>\n",
              "  "
            ]
          },
          "metadata": {},
          "execution_count": 126
        }
      ]
    },
    {
      "cell_type": "markdown",
      "source": [
        "Step 3: Remove the Species as we wanna predict that now"
      ],
      "metadata": {
        "id": "lxcnTk5iMI66"
      }
    },
    {
      "cell_type": "code",
      "source": [
        "trainspecies = train.pop('Species')\n",
        "testspecies = test.pop('Species')\n",
        "trainspecies.head()"
      ],
      "metadata": {
        "colab": {
          "base_uri": "https://localhost:8080/"
        },
        "id": "Z3WysEMiMQEj",
        "outputId": "706965d6-4616-4c90-d153-4fde84c36342"
      },
      "execution_count": null,
      "outputs": [
        {
          "output_type": "execute_result",
          "data": {
            "text/plain": [
              "0    2\n",
              "1    1\n",
              "2    2\n",
              "3    0\n",
              "4    0\n",
              "Name: Species, dtype: int64"
            ]
          },
          "metadata": {},
          "execution_count": 127
        }
      ]
    },
    {
      "cell_type": "markdown",
      "source": [
        "Step 4: Converting our Data to Tensors Input "
      ],
      "metadata": {
        "id": "ca6vSZlKNBn2"
      }
    },
    {
      "cell_type": "code",
      "source": [
        "def inputf(features,labels,training =True,batchsize=256):\n",
        "  ds = tf.data.Dataset.from_tensor_slices((dict(features),labels))\n",
        "  if training:\n",
        "    ds = ds.shuffle(1000).repeat()\n",
        "  return ds.batch(batch_size=batchsize)\n",
        "  "
      ],
      "metadata": {
        "id": "wyxb3l5wNSiS"
      },
      "execution_count": null,
      "outputs": []
    },
    {
      "cell_type": "markdown",
      "source": [
        "Step 5: Creating our feature columns"
      ],
      "metadata": {
        "id": "CY5cDOIKOaTN"
      }
    },
    {
      "cell_type": "code",
      "source": [
        "fc = []\n",
        "for key in train.keys():\n",
        "  fc.append(tf.feature_column.numeric_column(key=key))\n",
        "print(fc)"
      ],
      "metadata": {
        "colab": {
          "base_uri": "https://localhost:8080/"
        },
        "id": "u1m4Bou-OeHX",
        "outputId": "e1eac6a5-5d4c-4d1e-e5a6-2226160c9acd"
      },
      "execution_count": null,
      "outputs": [
        {
          "output_type": "stream",
          "name": "stdout",
          "text": [
            "[NumericColumn(key='SepalLength', shape=(1,), default_value=None, dtype=tf.float32, normalizer_fn=None), NumericColumn(key='SepalWidth', shape=(1,), default_value=None, dtype=tf.float32, normalizer_fn=None), NumericColumn(key='PetalLength', shape=(1,), default_value=None, dtype=tf.float32, normalizer_fn=None), NumericColumn(key='PetalWidth', shape=(1,), default_value=None, dtype=tf.float32, normalizer_fn=None)]\n"
          ]
        }
      ]
    },
    {
      "cell_type": "markdown",
      "source": [
        "Step 6: Loading the estimator DNN (Deep Neural Network Classifier)"
      ],
      "metadata": {
        "id": "5nR7ZjgOflwA"
      }
    },
    {
      "cell_type": "code",
      "source": [
        "#DNN classifier with 2 hidden layers(30 and 10 nodes repsectively) and 3 classes\n",
        "cf = tf.estimator.DNNClassifier(\n",
        "    feature_columns=fc,\n",
        "    hidden_units=[30,10],\n",
        "    n_classes=3\n",
        ")"
      ],
      "metadata": {
        "colab": {
          "base_uri": "https://localhost:8080/"
        },
        "id": "5L2txz5HjMsx",
        "outputId": "2ae95111-12fc-4010-ad61-dad31a49fa76"
      },
      "execution_count": null,
      "outputs": [
        {
          "output_type": "stream",
          "name": "stdout",
          "text": [
            "INFO:tensorflow:Using default config.\n",
            "WARNING:tensorflow:Using temporary folder as model directory: /tmp/tmpyuk3z7mj\n",
            "INFO:tensorflow:Using config: {'_model_dir': '/tmp/tmpyuk3z7mj', '_tf_random_seed': None, '_save_summary_steps': 100, '_save_checkpoints_steps': None, '_save_checkpoints_secs': 600, '_session_config': allow_soft_placement: true\n",
            "graph_options {\n",
            "  rewrite_options {\n",
            "    meta_optimizer_iterations: ONE\n",
            "  }\n",
            "}\n",
            ", '_keep_checkpoint_max': 5, '_keep_checkpoint_every_n_hours': 10000, '_log_step_count_steps': 100, '_train_distribute': None, '_device_fn': None, '_protocol': None, '_eval_distribute': None, '_experimental_distribute': None, '_experimental_max_worker_delay_secs': None, '_session_creation_timeout_secs': 7200, '_checkpoint_save_graph_def': True, '_service': None, '_cluster_spec': ClusterSpec({}), '_task_type': 'worker', '_task_id': 0, '_global_id_in_cluster': 0, '_master': '', '_evaluation_master': '', '_is_chief': True, '_num_ps_replicas': 0, '_num_worker_replicas': 1}\n"
          ]
        }
      ]
    },
    {
      "cell_type": "markdown",
      "source": [
        "Step 7: Training the estimator"
      ],
      "metadata": {
        "id": "4Kgy2MYgjgbr"
      }
    },
    {
      "cell_type": "code",
      "source": [
        "cf.train(\n",
        "    input_fn = lambda: inputf(train,trainspecies,training=True),\n",
        "    steps=5000\n",
        ")"
      ],
      "metadata": {
        "colab": {
          "base_uri": "https://localhost:8080/"
        },
        "id": "8T5GxxuOj7G3",
        "outputId": "c3199bb4-2f6c-41ac-9b32-18afa7624cfd"
      },
      "execution_count": null,
      "outputs": [
        {
          "output_type": "stream",
          "name": "stdout",
          "text": [
            "INFO:tensorflow:Calling model_fn.\n",
            "INFO:tensorflow:Done calling model_fn.\n",
            "INFO:tensorflow:Create CheckpointSaverHook.\n",
            "INFO:tensorflow:Graph was finalized.\n",
            "INFO:tensorflow:Running local_init_op.\n",
            "INFO:tensorflow:Done running local_init_op.\n",
            "INFO:tensorflow:Calling checkpoint listeners before saving checkpoint 0...\n",
            "INFO:tensorflow:Saving checkpoints for 0 into /tmp/tmpyuk3z7mj/model.ckpt.\n",
            "INFO:tensorflow:Calling checkpoint listeners after saving checkpoint 0...\n",
            "INFO:tensorflow:loss = 1.0287976, step = 0\n",
            "INFO:tensorflow:global_step/sec: 191.305\n",
            "INFO:tensorflow:loss = 0.75102574, step = 100 (0.530 sec)\n",
            "INFO:tensorflow:global_step/sec: 262.971\n",
            "INFO:tensorflow:loss = 0.6831207, step = 200 (0.376 sec)\n",
            "INFO:tensorflow:global_step/sec: 204.911\n",
            "INFO:tensorflow:loss = 0.6354548, step = 300 (0.491 sec)\n",
            "INFO:tensorflow:global_step/sec: 219.619\n",
            "INFO:tensorflow:loss = 0.60460556, step = 400 (0.453 sec)\n",
            "INFO:tensorflow:global_step/sec: 174.735\n",
            "INFO:tensorflow:loss = 0.5646676, step = 500 (0.576 sec)\n",
            "INFO:tensorflow:global_step/sec: 150.056\n",
            "INFO:tensorflow:loss = 0.55421007, step = 600 (0.662 sec)\n",
            "INFO:tensorflow:global_step/sec: 184.221\n",
            "INFO:tensorflow:loss = 0.5297422, step = 700 (0.543 sec)\n",
            "INFO:tensorflow:global_step/sec: 145.922\n",
            "INFO:tensorflow:loss = 0.5120963, step = 800 (0.692 sec)\n",
            "INFO:tensorflow:global_step/sec: 202.43\n",
            "INFO:tensorflow:loss = 0.49819928, step = 900 (0.487 sec)\n",
            "INFO:tensorflow:global_step/sec: 214.392\n",
            "INFO:tensorflow:loss = 0.47852623, step = 1000 (0.468 sec)\n",
            "INFO:tensorflow:global_step/sec: 221.675\n",
            "INFO:tensorflow:loss = 0.45766878, step = 1100 (0.451 sec)\n",
            "INFO:tensorflow:global_step/sec: 152.631\n",
            "INFO:tensorflow:loss = 0.45341697, step = 1200 (0.654 sec)\n",
            "INFO:tensorflow:global_step/sec: 216.983\n",
            "INFO:tensorflow:loss = 0.43015388, step = 1300 (0.461 sec)\n",
            "INFO:tensorflow:global_step/sec: 126.709\n",
            "INFO:tensorflow:loss = 0.4224814, step = 1400 (0.796 sec)\n",
            "INFO:tensorflow:global_step/sec: 153.647\n",
            "INFO:tensorflow:loss = 0.4061737, step = 1500 (0.649 sec)\n",
            "INFO:tensorflow:global_step/sec: 223.801\n",
            "INFO:tensorflow:loss = 0.4019059, step = 1600 (0.451 sec)\n",
            "INFO:tensorflow:global_step/sec: 126.379\n",
            "INFO:tensorflow:loss = 0.3758974, step = 1700 (0.784 sec)\n",
            "INFO:tensorflow:global_step/sec: 137.311\n",
            "INFO:tensorflow:loss = 0.37861684, step = 1800 (0.727 sec)\n",
            "INFO:tensorflow:global_step/sec: 165.882\n",
            "INFO:tensorflow:loss = 0.3619945, step = 1900 (0.613 sec)\n",
            "INFO:tensorflow:global_step/sec: 220.551\n",
            "INFO:tensorflow:loss = 0.35722286, step = 2000 (0.451 sec)\n",
            "INFO:tensorflow:global_step/sec: 166.237\n",
            "INFO:tensorflow:loss = 0.3546, step = 2100 (0.593 sec)\n",
            "INFO:tensorflow:global_step/sec: 168.047\n",
            "INFO:tensorflow:loss = 0.34628588, step = 2200 (0.595 sec)\n",
            "INFO:tensorflow:global_step/sec: 184.643\n",
            "INFO:tensorflow:loss = 0.34668827, step = 2300 (0.547 sec)\n",
            "INFO:tensorflow:global_step/sec: 167.091\n",
            "INFO:tensorflow:loss = 0.33685714, step = 2400 (0.594 sec)\n",
            "INFO:tensorflow:global_step/sec: 206.646\n",
            "INFO:tensorflow:loss = 0.33320057, step = 2500 (0.484 sec)\n",
            "INFO:tensorflow:global_step/sec: 213.553\n",
            "INFO:tensorflow:loss = 0.3269114, step = 2600 (0.468 sec)\n",
            "INFO:tensorflow:global_step/sec: 239.155\n",
            "INFO:tensorflow:loss = 0.3222004, step = 2700 (0.418 sec)\n",
            "INFO:tensorflow:global_step/sec: 249.367\n",
            "INFO:tensorflow:loss = 0.3099652, step = 2800 (0.401 sec)\n",
            "INFO:tensorflow:global_step/sec: 202.577\n",
            "INFO:tensorflow:loss = 0.30785713, step = 2900 (0.494 sec)\n",
            "INFO:tensorflow:global_step/sec: 232.36\n",
            "INFO:tensorflow:loss = 0.30171078, step = 3000 (0.435 sec)\n",
            "INFO:tensorflow:global_step/sec: 203.064\n",
            "INFO:tensorflow:loss = 0.30256185, step = 3100 (0.487 sec)\n",
            "INFO:tensorflow:global_step/sec: 206.404\n",
            "INFO:tensorflow:loss = 0.2986089, step = 3200 (0.485 sec)\n",
            "INFO:tensorflow:global_step/sec: 176.868\n",
            "INFO:tensorflow:loss = 0.28727514, step = 3300 (0.565 sec)\n",
            "INFO:tensorflow:global_step/sec: 184.177\n",
            "INFO:tensorflow:loss = 0.2850533, step = 3400 (0.547 sec)\n",
            "INFO:tensorflow:global_step/sec: 255.731\n",
            "INFO:tensorflow:loss = 0.28633705, step = 3500 (0.392 sec)\n",
            "INFO:tensorflow:global_step/sec: 127.107\n",
            "INFO:tensorflow:loss = 0.27627343, step = 3600 (0.788 sec)\n",
            "INFO:tensorflow:global_step/sec: 183.911\n",
            "INFO:tensorflow:loss = 0.27918833, step = 3700 (0.538 sec)\n",
            "INFO:tensorflow:global_step/sec: 200.647\n",
            "INFO:tensorflow:loss = 0.26493752, step = 3800 (0.503 sec)\n",
            "INFO:tensorflow:global_step/sec: 231.373\n",
            "INFO:tensorflow:loss = 0.26433766, step = 3900 (0.433 sec)\n",
            "INFO:tensorflow:global_step/sec: 211.852\n",
            "INFO:tensorflow:loss = 0.2655785, step = 4000 (0.473 sec)\n",
            "INFO:tensorflow:global_step/sec: 228.626\n",
            "INFO:tensorflow:loss = 0.24640694, step = 4100 (0.437 sec)\n",
            "INFO:tensorflow:global_step/sec: 169.606\n",
            "INFO:tensorflow:loss = 0.25410724, step = 4200 (0.589 sec)\n",
            "INFO:tensorflow:global_step/sec: 123.82\n",
            "INFO:tensorflow:loss = 0.25592935, step = 4300 (0.804 sec)\n",
            "INFO:tensorflow:global_step/sec: 175.176\n",
            "INFO:tensorflow:loss = 0.25698417, step = 4400 (0.569 sec)\n",
            "INFO:tensorflow:global_step/sec: 253.385\n",
            "INFO:tensorflow:loss = 0.24351901, step = 4500 (0.395 sec)\n",
            "INFO:tensorflow:global_step/sec: 180.386\n",
            "INFO:tensorflow:loss = 0.23652664, step = 4600 (0.555 sec)\n",
            "INFO:tensorflow:global_step/sec: 170.759\n",
            "INFO:tensorflow:loss = 0.24669874, step = 4700 (0.585 sec)\n",
            "INFO:tensorflow:global_step/sec: 259.123\n",
            "INFO:tensorflow:loss = 0.24160206, step = 4800 (0.389 sec)\n",
            "INFO:tensorflow:global_step/sec: 159.423\n",
            "INFO:tensorflow:loss = 0.23985255, step = 4900 (0.629 sec)\n",
            "INFO:tensorflow:Calling checkpoint listeners before saving checkpoint 5000...\n",
            "INFO:tensorflow:Saving checkpoints for 5000 into /tmp/tmpyuk3z7mj/model.ckpt.\n",
            "INFO:tensorflow:Calling checkpoint listeners after saving checkpoint 5000...\n",
            "INFO:tensorflow:Loss for final step: 0.22219542.\n"
          ]
        },
        {
          "output_type": "execute_result",
          "data": {
            "text/plain": [
              "<tensorflow_estimator.python.estimator.canned.dnn.DNNClassifierV2 at 0x7fa51ecc9750>"
            ]
          },
          "metadata": {},
          "execution_count": 131
        }
      ]
    },
    {
      "cell_type": "markdown",
      "source": [
        "Step 8: Evaluate the Model"
      ],
      "metadata": {
        "id": "WXe6J0pHuhun"
      }
    },
    {
      "cell_type": "code",
      "source": [
        "result = cf.evaluate(input_fn=lambda:inputf(test,testspecies,training=False))\n",
        "clear_output()\n",
        "print('Accuracy is',result['accuracy']*100)"
      ],
      "metadata": {
        "colab": {
          "base_uri": "https://localhost:8080/"
        },
        "id": "IgRQFSI3un5n",
        "outputId": "4dacb44c-aefd-479b-d643-836d8bb1ef23"
      },
      "execution_count": null,
      "outputs": [
        {
          "output_type": "stream",
          "name": "stdout",
          "text": [
            "Accuracy is 96.66666388511658\n"
          ]
        }
      ]
    },
    {
      "cell_type": "markdown",
      "source": [
        "Step 9: Now Lets Run our predictions "
      ],
      "metadata": {
        "id": "fbZEvT1swTz1"
      }
    },
    {
      "cell_type": "code",
      "source": [
        "predictions  = list(cf.predict(input_fn=lambda:inputf(test,testspecies,training=False)))\n",
        "i = 6\n",
        "#printing the detailsof the species\n",
        "print(test.loc[i])\n",
        "#extraction location of the species\n",
        "id = predictions[i]['class_ids'][0]\n",
        "#probability of only the required species and extracted location\n",
        "probability = predictions[i]['probabilities'][id]\n",
        "print('Species is ',Species[id],'Probability:',probability)\n",
        "print('original species id',testspecies[i])\n",
        "print('predicted id',id)\n",
        "if testspecies[i]==id:\n",
        "  print(\"Prediction successful\")\n",
        "else:\n",
        "  print(\"Oops\")"
      ],
      "metadata": {
        "colab": {
          "base_uri": "https://localhost:8080/"
        },
        "id": "u6B2CERswZaM",
        "outputId": "7d3f9d26-00ac-4a55-f855-8ae9643018c7"
      },
      "execution_count": null,
      "outputs": [
        {
          "output_type": "stream",
          "name": "stdout",
          "text": [
            "INFO:tensorflow:Calling model_fn.\n",
            "INFO:tensorflow:Done calling model_fn.\n",
            "INFO:tensorflow:Graph was finalized.\n",
            "INFO:tensorflow:Restoring parameters from /tmp/tmpyuk3z7mj/model.ckpt-5000\n",
            "INFO:tensorflow:Running local_init_op.\n",
            "INFO:tensorflow:Done running local_init_op.\n",
            "SepalLength    5.5\n",
            "SepalWidth     4.2\n",
            "PetalLength    1.4\n",
            "PetalWidth     0.2\n",
            "Name: 6, dtype: float64\n",
            "Species is  Setosa Probability: 0.97755706\n",
            "original species id 0\n",
            "predicted id 0\n",
            "Prediction successful\n"
          ]
        }
      ]
    },
    {
      "cell_type": "markdown",
      "source": [
        "Step 10: User Input Prediction of the Flower"
      ],
      "metadata": {
        "id": "OyQ7Zv7OAHT_"
      }
    },
    {
      "cell_type": "code",
      "source": [
        "#reading user data\n",
        "def userinput(datass,batchsize=256):\n",
        "  return tf.data.Dataset.from_tensor_slices(dict(datass)).batch(batch_size=batchsize)\n",
        "\n",
        "features = ['SepalLength', 'SepalWidth', 'PetalLength', 'PetalWidth']\n",
        "\n",
        "predict={}\n",
        "#reading user data\n",
        "print(\"enter numerical for following\")\n",
        "for f in features:\n",
        "  valid =True\n",
        "  while valid:\n",
        "    val = input(f + \":\")\n",
        "    if not val.isdigit():\n",
        "      valid=False\n",
        "  predict[f]=[float(val)]\n",
        "    \n",
        "  \n",
        "\n",
        "prediction = cf.predict(input_fn=lambda:userinput(predict))\n",
        "#Displaying data using the data's id\n",
        "clear_output()\n",
        "for x in prediction:\n",
        "  id = x['class_ids'][0]\n",
        "  probability = x['probabilities'][id]\n",
        "\n",
        "species = Species[id]\n",
        "print(\"Species is \",species,\" probability:\",probability)"
      ],
      "metadata": {
        "colab": {
          "base_uri": "https://localhost:8080/",
          "height": 567
        },
        "id": "ab1SwmB5_-_U",
        "outputId": "d355675a-5659-44b0-bd2f-d54b99003010"
      },
      "execution_count": null,
      "outputs": [
        {
          "output_type": "stream",
          "name": "stdout",
          "text": [
            "enter numerical for following\n"
          ]
        },
        {
          "output_type": "error",
          "ename": "KeyboardInterrupt",
          "evalue": "ignored",
          "traceback": [
            "\u001b[0;31m---------------------------------------------------------------------------\u001b[0m",
            "\u001b[0;31mKeyboardInterrupt\u001b[0m                         Traceback (most recent call last)",
            "\u001b[0;32m/usr/local/lib/python3.7/dist-packages/ipykernel/kernelbase.py\u001b[0m in \u001b[0;36m_input_request\u001b[0;34m(self, prompt, ident, parent, password)\u001b[0m\n\u001b[1;32m    728\u001b[0m             \u001b[0;32mtry\u001b[0m\u001b[0;34m:\u001b[0m\u001b[0;34m\u001b[0m\u001b[0;34m\u001b[0m\u001b[0m\n\u001b[0;32m--> 729\u001b[0;31m                 \u001b[0mident\u001b[0m\u001b[0;34m,\u001b[0m \u001b[0mreply\u001b[0m \u001b[0;34m=\u001b[0m \u001b[0mself\u001b[0m\u001b[0;34m.\u001b[0m\u001b[0msession\u001b[0m\u001b[0;34m.\u001b[0m\u001b[0mrecv\u001b[0m\u001b[0;34m(\u001b[0m\u001b[0mself\u001b[0m\u001b[0;34m.\u001b[0m\u001b[0mstdin_socket\u001b[0m\u001b[0;34m,\u001b[0m \u001b[0;36m0\u001b[0m\u001b[0;34m)\u001b[0m\u001b[0;34m\u001b[0m\u001b[0;34m\u001b[0m\u001b[0m\n\u001b[0m\u001b[1;32m    730\u001b[0m             \u001b[0;32mexcept\u001b[0m \u001b[0mException\u001b[0m\u001b[0;34m:\u001b[0m\u001b[0;34m\u001b[0m\u001b[0;34m\u001b[0m\u001b[0m\n",
            "\u001b[0;32m/usr/local/lib/python3.7/dist-packages/jupyter_client/session.py\u001b[0m in \u001b[0;36mrecv\u001b[0;34m(self, socket, mode, content, copy)\u001b[0m\n\u001b[1;32m    802\u001b[0m         \u001b[0;32mtry\u001b[0m\u001b[0;34m:\u001b[0m\u001b[0;34m\u001b[0m\u001b[0;34m\u001b[0m\u001b[0m\n\u001b[0;32m--> 803\u001b[0;31m             \u001b[0mmsg_list\u001b[0m \u001b[0;34m=\u001b[0m \u001b[0msocket\u001b[0m\u001b[0;34m.\u001b[0m\u001b[0mrecv_multipart\u001b[0m\u001b[0;34m(\u001b[0m\u001b[0mmode\u001b[0m\u001b[0;34m,\u001b[0m \u001b[0mcopy\u001b[0m\u001b[0;34m=\u001b[0m\u001b[0mcopy\u001b[0m\u001b[0;34m)\u001b[0m\u001b[0;34m\u001b[0m\u001b[0;34m\u001b[0m\u001b[0m\n\u001b[0m\u001b[1;32m    804\u001b[0m         \u001b[0;32mexcept\u001b[0m \u001b[0mzmq\u001b[0m\u001b[0;34m.\u001b[0m\u001b[0mZMQError\u001b[0m \u001b[0;32mas\u001b[0m \u001b[0me\u001b[0m\u001b[0;34m:\u001b[0m\u001b[0;34m\u001b[0m\u001b[0;34m\u001b[0m\u001b[0m\n",
            "\u001b[0;32m/usr/local/lib/python3.7/dist-packages/zmq/sugar/socket.py\u001b[0m in \u001b[0;36mrecv_multipart\u001b[0;34m(self, flags, copy, track)\u001b[0m\n\u001b[1;32m    624\u001b[0m         \"\"\"\n\u001b[0;32m--> 625\u001b[0;31m         \u001b[0mparts\u001b[0m \u001b[0;34m=\u001b[0m \u001b[0;34m[\u001b[0m\u001b[0mself\u001b[0m\u001b[0;34m.\u001b[0m\u001b[0mrecv\u001b[0m\u001b[0;34m(\u001b[0m\u001b[0mflags\u001b[0m\u001b[0;34m,\u001b[0m \u001b[0mcopy\u001b[0m\u001b[0;34m=\u001b[0m\u001b[0mcopy\u001b[0m\u001b[0;34m,\u001b[0m \u001b[0mtrack\u001b[0m\u001b[0;34m=\u001b[0m\u001b[0mtrack\u001b[0m\u001b[0;34m)\u001b[0m\u001b[0;34m]\u001b[0m\u001b[0;34m\u001b[0m\u001b[0;34m\u001b[0m\u001b[0m\n\u001b[0m\u001b[1;32m    626\u001b[0m         \u001b[0;31m# have first part already, only loop while more to receive\u001b[0m\u001b[0;34m\u001b[0m\u001b[0;34m\u001b[0m\u001b[0;34m\u001b[0m\u001b[0m\n",
            "\u001b[0;32mzmq/backend/cython/socket.pyx\u001b[0m in \u001b[0;36mzmq.backend.cython.socket.Socket.recv\u001b[0;34m()\u001b[0m\n",
            "\u001b[0;32mzmq/backend/cython/socket.pyx\u001b[0m in \u001b[0;36mzmq.backend.cython.socket.Socket.recv\u001b[0;34m()\u001b[0m\n",
            "\u001b[0;32mzmq/backend/cython/socket.pyx\u001b[0m in \u001b[0;36mzmq.backend.cython.socket._recv_copy\u001b[0;34m()\u001b[0m\n",
            "\u001b[0;32m/usr/local/lib/python3.7/dist-packages/zmq/backend/cython/checkrc.pxd\u001b[0m in \u001b[0;36mzmq.backend.cython.checkrc._check_rc\u001b[0;34m()\u001b[0m\n",
            "\u001b[0;31mKeyboardInterrupt\u001b[0m: ",
            "\nDuring handling of the above exception, another exception occurred:\n",
            "\u001b[0;31mKeyboardInterrupt\u001b[0m                         Traceback (most recent call last)",
            "\u001b[0;32m<ipython-input-134-dd44e137bd72>\u001b[0m in \u001b[0;36m<module>\u001b[0;34m()\u001b[0m\n\u001b[1;32m     11\u001b[0m   \u001b[0mvalid\u001b[0m \u001b[0;34m=\u001b[0m\u001b[0;32mTrue\u001b[0m\u001b[0;34m\u001b[0m\u001b[0;34m\u001b[0m\u001b[0m\n\u001b[1;32m     12\u001b[0m   \u001b[0;32mwhile\u001b[0m \u001b[0mvalid\u001b[0m\u001b[0;34m:\u001b[0m\u001b[0;34m\u001b[0m\u001b[0;34m\u001b[0m\u001b[0m\n\u001b[0;32m---> 13\u001b[0;31m     \u001b[0mval\u001b[0m \u001b[0;34m=\u001b[0m \u001b[0minput\u001b[0m\u001b[0;34m(\u001b[0m\u001b[0mf\u001b[0m \u001b[0;34m+\u001b[0m \u001b[0;34m\":\"\u001b[0m\u001b[0;34m)\u001b[0m\u001b[0;34m\u001b[0m\u001b[0;34m\u001b[0m\u001b[0m\n\u001b[0m\u001b[1;32m     14\u001b[0m     \u001b[0;32mif\u001b[0m \u001b[0;32mnot\u001b[0m \u001b[0mval\u001b[0m\u001b[0;34m.\u001b[0m\u001b[0misdigit\u001b[0m\u001b[0;34m(\u001b[0m\u001b[0;34m)\u001b[0m\u001b[0;34m:\u001b[0m\u001b[0;34m\u001b[0m\u001b[0;34m\u001b[0m\u001b[0m\n\u001b[1;32m     15\u001b[0m       \u001b[0mvalid\u001b[0m\u001b[0;34m=\u001b[0m\u001b[0;32mFalse\u001b[0m\u001b[0;34m\u001b[0m\u001b[0;34m\u001b[0m\u001b[0m\n",
            "\u001b[0;32m/usr/local/lib/python3.7/dist-packages/ipykernel/kernelbase.py\u001b[0m in \u001b[0;36mraw_input\u001b[0;34m(self, prompt)\u001b[0m\n\u001b[1;32m    702\u001b[0m             \u001b[0mself\u001b[0m\u001b[0;34m.\u001b[0m\u001b[0m_parent_ident\u001b[0m\u001b[0;34m,\u001b[0m\u001b[0;34m\u001b[0m\u001b[0;34m\u001b[0m\u001b[0m\n\u001b[1;32m    703\u001b[0m             \u001b[0mself\u001b[0m\u001b[0;34m.\u001b[0m\u001b[0m_parent_header\u001b[0m\u001b[0;34m,\u001b[0m\u001b[0;34m\u001b[0m\u001b[0;34m\u001b[0m\u001b[0m\n\u001b[0;32m--> 704\u001b[0;31m             \u001b[0mpassword\u001b[0m\u001b[0;34m=\u001b[0m\u001b[0;32mFalse\u001b[0m\u001b[0;34m,\u001b[0m\u001b[0;34m\u001b[0m\u001b[0;34m\u001b[0m\u001b[0m\n\u001b[0m\u001b[1;32m    705\u001b[0m         )\n\u001b[1;32m    706\u001b[0m \u001b[0;34m\u001b[0m\u001b[0m\n",
            "\u001b[0;32m/usr/local/lib/python3.7/dist-packages/ipykernel/kernelbase.py\u001b[0m in \u001b[0;36m_input_request\u001b[0;34m(self, prompt, ident, parent, password)\u001b[0m\n\u001b[1;32m    732\u001b[0m             \u001b[0;32mexcept\u001b[0m \u001b[0mKeyboardInterrupt\u001b[0m\u001b[0;34m:\u001b[0m\u001b[0;34m\u001b[0m\u001b[0;34m\u001b[0m\u001b[0m\n\u001b[1;32m    733\u001b[0m                 \u001b[0;31m# re-raise KeyboardInterrupt, to truncate traceback\u001b[0m\u001b[0;34m\u001b[0m\u001b[0;34m\u001b[0m\u001b[0;34m\u001b[0m\u001b[0m\n\u001b[0;32m--> 734\u001b[0;31m                 \u001b[0;32mraise\u001b[0m \u001b[0mKeyboardInterrupt\u001b[0m\u001b[0;34m\u001b[0m\u001b[0;34m\u001b[0m\u001b[0m\n\u001b[0m\u001b[1;32m    735\u001b[0m             \u001b[0;32melse\u001b[0m\u001b[0;34m:\u001b[0m\u001b[0;34m\u001b[0m\u001b[0;34m\u001b[0m\u001b[0m\n\u001b[1;32m    736\u001b[0m                 \u001b[0;32mbreak\u001b[0m\u001b[0;34m\u001b[0m\u001b[0;34m\u001b[0m\u001b[0m\n",
            "\u001b[0;31mKeyboardInterrupt\u001b[0m: "
          ]
        }
      ]
    },
    {
      "cell_type": "markdown",
      "source": [
        "# **Core Learning Algorthims 3:Hidden Markov Model**"
      ],
      "metadata": {
        "id": "c91gj6cMfN3y"
      }
    },
    {
      "cell_type": "markdown",
      "source": [
        "1. Hidden Markov Model runs on the basis of probability distribution. And is widely used to predict Future outputs."
      ],
      "metadata": {
        "id": "ABc_2P7KguN_"
      }
    },
    {
      "cell_type": "code",
      "source": [
        "import tensorflow_probability as tfp\n",
        "import tensorflow as tf\n",
        "%tensorflow_version 2.x"
      ],
      "metadata": {
        "id": "yqYhcFKwhpEN"
      },
      "execution_count": null,
      "outputs": []
    },
    {
      "cell_type": "markdown",
      "source": [
        "1. Cold days are encoded by a 0 and hot days are encoded by a 1.\n",
        "2. The first day in our sequence has an 80% chance of being cold.\n",
        "3. A cold day has a 30% chance of being followed by a hot day.\n",
        "4. A hot day has a 20% chance of being followed by a cold day.\n",
        "5. On each day the temperature is normally distributed with mean and standard deviation 0 and 5 on a cold day and mean and standard deviation 15 and 10 on a hot day.\n",
        "\n",
        "The Following can be seen as finite state machines, with 2 states cold and hot that tend to give certain predictions based on their probability distribution"
      ],
      "metadata": {
        "id": "Y61e03VHhzVP"
      }
    },
    {
      "cell_type": "markdown",
      "source": [
        "Step 1: Data Analysis"
      ],
      "metadata": {
        "id": "j8KL0K9UkQVJ"
      }
    },
    {
      "cell_type": "code",
      "source": [
        "tfd = tfp.distributions #shortcut\n",
        "initial = tfd.Categorical(probs=[0.8,0.2])#pb of cold,hot (1)\n",
        "transition = tfd.Categorical(probs=[[0.7,0.3],[0.2,0.8]])#pb of cold fol.by hot and vice verse(2,3)\n",
        "observation = tfd.Normal(loc=[0.,15],scale=[5.,10.])#mean(loc) and standard deviation(scale) of observation"
      ],
      "metadata": {
        "id": "sByM2Bwni8J1"
      },
      "execution_count": null,
      "outputs": []
    },
    {
      "cell_type": "markdown",
      "source": [
        "Step 2: Creating Hidden markov model in tensorflow"
      ],
      "metadata": {
        "id": "w9slxa2Ikw5Z"
      }
    },
    {
      "cell_type": "code",
      "source": [
        "model = tfd.HiddenMarkovModel(\n",
        "    initial_distribution=initial,\n",
        "    transition_distribution=transition,\n",
        "    observation_distribution=observation,\n",
        "    num_steps=7#no of days we want to predict\n",
        ")"
      ],
      "metadata": {
        "id": "NLA-ojSPk43E"
      },
      "execution_count": null,
      "outputs": []
    },
    {
      "cell_type": "markdown",
      "source": [
        "Step 3: Finding the mean or estimated Temperature"
      ],
      "metadata": {
        "id": "5K3JRapcmMcD"
      }
    },
    {
      "cell_type": "code",
      "source": [
        "mean = model.mean()\n",
        "\n",
        "with tf.compat.v1.Session() as sess:\n",
        "  print(mean.numpy())"
      ],
      "metadata": {
        "colab": {
          "base_uri": "https://localhost:8080/"
        },
        "id": "pfGdE1gYl-1J",
        "outputId": "9dd59217-e10e-4276-e4a5-4479c654e9bf"
      },
      "execution_count": null,
      "outputs": [
        {
          "output_type": "stream",
          "name": "stdout",
          "text": [
            "[2.9999998 5.9999995 7.4999995 8.25      8.625001  8.812501  8.90625  ]\n"
          ]
        }
      ]
    },
    {
      "cell_type": "markdown",
      "source": [
        "Since there is a higher chances of it being a cold day, the following data suits well in predicting the data for 7 days "
      ],
      "metadata": {
        "id": "A42pXrveUrbW"
      }
    },
    {
      "cell_type": "markdown",
      "source": [
        "**Neural Networking**\n",
        "\n",
        "---\n",
        "\n"
      ],
      "metadata": {
        "id": "lVgtWEBaU0Fd"
      }
    },
    {
      "cell_type": "markdown",
      "source": [
        "So Neural Networking is a method primarily used to classify data based on certain criteria. As far as we have learned, We have classified data existing in just raw without extra classification(one layer). To classify data existing in many layers, we tend to go deep(many layers). We use Deep Neural Networking when we are classifying data within many layers."
      ],
      "metadata": {
        "id": "1MyDIeBDZmE0"
      }
    },
    {
      "cell_type": "markdown",
      "source": [
        "### How does it Work ?"
      ],
      "metadata": {
        "id": "Ofpfm00e6FWF"
      }
    },
    {
      "cell_type": "markdown",
      "metadata": {
        "id": "o-oMh18_j5kl"
      },
      "source": [
        "\n",
        "Before we dive into any code lets break down how a neural network works and what it does.\n",
        "\n",
        "![alt text](http://www.extremetech.com/wp-content/uploads/2015/07/NeuralNetwork.png)\n",
        "\n",
        "\n",
        "\n"
      ]
    },
    {
      "cell_type": "markdown",
      "source": [
        "So a neural network consists of \n",
        "\n",
        "1.   An Input Layer: consisting of all the inputs\n",
        "2.   Hidden Layer: consisting of classifiers based on requirement\n",
        "3.   Output Layer: Consisting of all predictable outputs\n",
        "4.   Weights: A constant value that specifies the connection btw 2 nodes of 2 layers\n",
        "5.   Bias: A constant value that exist specifically for every layer which provides linearity\n",
        "6.   Activation Function: A function that converts data of every neuron, made up of higher dimension data to a suitable range for the the next layer. Some activation functions are :\n",
        "\n",
        "- Relu (Rectified Linear Unit): Nullifies all -ve values\n",
        "\n",
        "![alt text](https://yashuseth.files.wordpress.com/2018/02/relu-function.png?w=309&h=274)\n",
        "- Tanh (Hyperbolic Tangent): Constraints the data btw -1 to +1\n",
        "\n",
        "![alt text](http://mathworld.wolfram.com/images/interactive/TanhReal.gif)\n",
        "- Sigmoid: Constraints the data btw 0 to 1\n",
        "\n",
        "![alt text](https://miro.medium.com/max/970/1*Xu7B5y9gp0iL5ooBj7LtWw.png)\n",
        "\n",
        "\n"
      ],
      "metadata": {
        "id": "2wiCXyQ-8m-I"
      }
    },
    {
      "cell_type": "markdown",
      "source": [
        "The data at each subsequent neuron is defined as the following.\n",
        "> $Y =(\\sum_{i=0}^n w_i x_i) + b$\n",
        "\n",
        "> $w$ stands for the weight of each connection to the neuron\n",
        "\n",
        "> $x$ stands for the value of the connected neuron from the previous value\n",
        "\n",
        "> $b$ stands for the bias at each layer, this is a constant\n",
        "\n",
        "> $n$ is the number of connections\n",
        "\n",
        "> $Y$ is the output of the current neuron\n",
        "\n",
        "> $\\sum$ stands for summation"
      ],
      "metadata": {
        "id": "MpISOe0G8NNW"
      }
    },
    {
      "cell_type": "markdown",
      "source": [
        "Now since we have extracted the data of each layer, we wanna classify these layers based on certain conditions or funtions. Hence to obtain the output we define an Activation Function to perform these tasks.Once we give a predefined activation Function, we even give random weights and biases. Once we train the model, it will automatically reassign the accurate values of wieights and biases by a process called Back Propagation.\n",
        "\n",
        "> $Y =F((\\sum_{i=0}^n w_i x_i) + b)$\n"
      ],
      "metadata": {
        "id": "p6ZUphcK-W55"
      }
    },
    {
      "cell_type": "markdown",
      "source": [
        "**Loss/Cost Function**\n",
        "\n",
        "This provides us a data abt how much the output has deviated from the original output.\n",
        "\n",
        "Some errors we know are mean square error,mean absolute error, and hinge loss"
      ],
      "metadata": {
        "id": "3BarjZ2qzqhs"
      }
    },
    {
      "cell_type": "markdown",
      "source": [
        "### How to Determine the weights and biases:Gradient Descent"
      ],
      "metadata": {
        "id": "QglqN_vgf58y"
      }
    },
    {
      "cell_type": "markdown",
      "source": [
        "Gradient Descent is a function that traces back the path taken by every neuron creating an n-layer dimension matrix, which inturn solved to give us the most accurate values of weights and biases. "
      ],
      "metadata": {
        "id": "ZKidUeO7gGJh"
      }
    },
    {
      "cell_type": "markdown",
      "source": [
        "**Optimizer**\n",
        "\n",
        "Function that implements backpropagation like:\n",
        "1. Gradient Descent\n",
        "2. Stochastic Gradient Descent\n",
        "3. Mini-Batch Gradient Descent\n",
        "4. Momentum\n",
        "5. Nesterov Accelerated Gradient\n"
      ],
      "metadata": {
        "id": "Gw578b8pijwe"
      }
    },
    {
      "cell_type": "markdown",
      "source": [
        "### Now Lets Finally Create our Neural Network From Scratch Using Keras"
      ],
      "metadata": {
        "id": "JjWw0iyDjDDk"
      }
    },
    {
      "cell_type": "markdown",
      "source": [
        "Step 1: Setup"
      ],
      "metadata": {
        "id": "3TPMl4VsOX3L"
      }
    },
    {
      "cell_type": "code",
      "source": [
        "import tensorflow as tf\n",
        "from tensorflow import keras\n",
        "import numpy as np\n",
        "import matplotlib.pyplot as plt\n",
        "\n"
      ],
      "metadata": {
        "id": "8I173-_VjjFF"
      },
      "execution_count": 1,
      "outputs": []
    },
    {
      "cell_type": "markdown",
      "source": [
        "Step 2: Loading the Dataset\n",
        "So in the model we will be loading a pre-existing fashion MNIST Dataset from keras"
      ],
      "metadata": {
        "id": "Q6gnzr1ZObvo"
      }
    },
    {
      "cell_type": "code",
      "source": [
        "fmnist = keras.datasets.fashion_mnist\n",
        "#loading the data into testing a training process\n",
        "(train,trainlabels),(test,testlabels) = fmnist.load_data()"
      ],
      "metadata": {
        "colab": {
          "base_uri": "https://localhost:8080/"
        },
        "id": "efjwtlc-x-8d",
        "outputId": "8d003ae7-58fa-4a51-d977-c81e50f691d0"
      },
      "execution_count": 2,
      "outputs": [
        {
          "output_type": "stream",
          "name": "stdout",
          "text": [
            "Downloading data from https://storage.googleapis.com/tensorflow/tf-keras-datasets/train-labels-idx1-ubyte.gz\n",
            "32768/29515 [=================================] - 0s 0us/step\n",
            "40960/29515 [=========================================] - 0s 0us/step\n",
            "Downloading data from https://storage.googleapis.com/tensorflow/tf-keras-datasets/train-images-idx3-ubyte.gz\n",
            "26427392/26421880 [==============================] - 1s 0us/step\n",
            "26435584/26421880 [==============================] - 1s 0us/step\n",
            "Downloading data from https://storage.googleapis.com/tensorflow/tf-keras-datasets/t10k-labels-idx1-ubyte.gz\n",
            "16384/5148 [===============================================================================================] - 0s 0us/step\n",
            "Downloading data from https://storage.googleapis.com/tensorflow/tf-keras-datasets/t10k-images-idx3-ubyte.gz\n",
            "4423680/4422102 [==============================] - 0s 0us/step\n",
            "4431872/4422102 [==============================] - 0s 0us/step\n"
          ]
        }
      ]
    },
    {
      "cell_type": "code",
      "source": [
        "train.shape\n"
      ],
      "metadata": {
        "colab": {
          "base_uri": "https://localhost:8080/"
        },
        "id": "A_v-gLcHPj7i",
        "outputId": "0b365d5d-d4f5-4155-8013-38056d5071b7"
      },
      "execution_count": 5,
      "outputs": [
        {
          "output_type": "execute_result",
          "data": {
            "text/plain": [
              "(60000, 28, 28)"
            ]
          },
          "metadata": {},
          "execution_count": 5
        }
      ]
    },
    {
      "cell_type": "code",
      "source": [
        "test.shape"
      ],
      "metadata": {
        "colab": {
          "base_uri": "https://localhost:8080/"
        },
        "id": "qSshdZdpPq3o",
        "outputId": "970a30c4-6812-4397-97b5-5156ab11b512"
      },
      "execution_count": 6,
      "outputs": [
        {
          "output_type": "execute_result",
          "data": {
            "text/plain": [
              "(10000, 28, 28)"
            ]
          },
          "metadata": {},
          "execution_count": 6
        }
      ]
    },
    {
      "cell_type": "markdown",
      "source": [
        "So there are 60000 training images of 28x28 pixels and  10000 training images of 28x28 pixels"
      ],
      "metadata": {
        "id": "wEHQinQaPtoV"
      }
    },
    {
      "cell_type": "markdown",
      "source": [
        "Step 3: Providing class names"
      ],
      "metadata": {
        "id": "Pw-BDwSuRqlZ"
      }
    },
    {
      "cell_type": "code",
      "source": [
        "class_names = ['T-shirt/top', 'Trouser', 'Pullover', 'Dress', 'Coat','Sandal', 'Shirt', 'Sneaker', 'Bag', 'Ankle boot']"
      ],
      "metadata": {
        "id": "PFJfqS-8RBA7"
      },
      "execution_count": 10,
      "outputs": []
    },
    {
      "cell_type": "markdown",
      "source": [
        "Step 4: Previewing our images"
      ],
      "metadata": {
        "id": "DMGfiO89R3hC"
      }
    },
    {
      "cell_type": "code",
      "source": [
        "plt.figure()\n",
        "plt.imshow(train[6])\n"
      ],
      "metadata": {
        "colab": {
          "base_uri": "https://localhost:8080/",
          "height": 282
        },
        "id": "h0r_D_e_R8UH",
        "outputId": "e2c9a6e3-63ab-4bee-bf9e-ec8e551b8652"
      },
      "execution_count": 15,
      "outputs": [
        {
          "output_type": "execute_result",
          "data": {
            "text/plain": [
              "<matplotlib.image.AxesImage at 0x7fede154b190>"
            ]
          },
          "metadata": {},
          "execution_count": 15
        },
        {
          "output_type": "display_data",
          "data": {
            "text/plain": [
              "<Figure size 432x288 with 1 Axes>"
            ],
            "image/png": "[encoded data removed]"
          },
          "metadata": {
            "needs_background": "light"
          }
        }
      ]
    },
    {
      "cell_type": "markdown",
      "source": [
        "Step 5: Data Preprocessing"
      ],
      "metadata": {
        "id": "IZ5Vg-_SSm5i"
      }
    },
    {
      "cell_type": "markdown",
      "source": [
        "Each pixel of an image is represented by a grayscale number (0-255) where 0 is black and 255 is white. So to constraint all the values between 0 and 1 we divide the entire array by 255"
      ],
      "metadata": {
        "id": "nwXXoBtSSyQU"
      }
    },
    {
      "cell_type": "code",
      "source": [
        "train = train/255.0\n",
        "test = test/255.0"
      ],
      "metadata": {
        "id": "1bLX-gOeSprf"
      },
      "execution_count": 16,
      "outputs": []
    },
    {
      "cell_type": "markdown",
      "source": [
        "Step 6: Building the Model Using Keras"
      ],
      "metadata": {
        "id": "AnusE8kKTUXr"
      }
    },
    {
      "cell_type": "code",
      "source": [
        "model  = keras.Sequential([\n",
        "                           keras.layers.Flatten(input_shape=(28,28)),\n",
        "                           keras.layers.Dense(128,activation='relu'),\n",
        "                           keras.layers.Dense(10,activation='softmax')\n",
        "])"
      ],
      "metadata": {
        "id": "U4YNZO_ETUGO"
      },
      "execution_count": 19,
      "outputs": []
    },
    {
      "cell_type": "markdown",
      "source": [
        "1. Layer 1: This is our input layer which is flatten and reshaped into a 28x28 array (784 neurons)\n",
        "2. Layer 2: This is our only Hidden Layer which is dense(meaning connected to every neuron of the previous layer. There are 128 neurons in this layer and the activation function is rectify linear unit.\n",
        "3. Layer 3: This is our Output layer which is also dense and is made of 10 neurons representing 10 classes that we have taken in this dataset. Activation function is softmax which returns the probability distribution of the output."
      ],
      "metadata": {
        "id": "_4kDrSmqbo6h"
      }
    },
    {
      "cell_type": "markdown",
      "source": [
        "Step 7: Compiling this model "
      ],
      "metadata": {
        "id": "74slYyYVdZep"
      }
    },
    {
      "cell_type": "code",
      "source": [
        "model.compile(optimizer='adam',loss='sparse_categorical_crossentropy',metrics=['accuracy'])"
      ],
      "metadata": {
        "id": "X8ZLNH3qeG65"
      },
      "execution_count": 20,
      "outputs": []
    },
    {
      "cell_type": "markdown",
      "source": [
        "Step 8: Training the data using fit"
      ],
      "metadata": {
        "id": "OBHdAc4de5D8"
      }
    },
    {
      "cell_type": "code",
      "source": [
        "model.fit(train,trainlabels,epochs=10)"
      ],
      "metadata": {
        "colab": {
          "base_uri": "https://localhost:8080/"
        },
        "id": "SazwFGX0e9LB",
        "outputId": "fd8c5a81-b3c7-4951-8071-98030a7155ff"
      },
      "execution_count": 21,
      "outputs": [
        {
          "output_type": "stream",
          "name": "stdout",
          "text": [
            "Epoch 1/10\n",
            "1875/1875 [==============================] - 16s 8ms/step - loss: 0.4960 - accuracy: 0.8271\n",
            "Epoch 2/10\n",
            "1875/1875 [==============================] - 14s 8ms/step - loss: 0.3770 - accuracy: 0.8632\n",
            "Epoch 3/10\n",
            "1875/1875 [==============================] - 11s 6ms/step - loss: 0.3403 - accuracy: 0.8761\n",
            "Epoch 4/10\n",
            "1875/1875 [==============================] - 9s 5ms/step - loss: 0.3155 - accuracy: 0.8842\n",
            "Epoch 5/10\n",
            "1875/1875 [==============================] - 9s 5ms/step - loss: 0.2978 - accuracy: 0.8896\n",
            "Epoch 6/10\n",
            "1875/1875 [==============================] - 8s 4ms/step - loss: 0.2833 - accuracy: 0.8966\n",
            "Epoch 7/10\n",
            "1875/1875 [==============================] - 8s 4ms/step - loss: 0.2699 - accuracy: 0.9000\n",
            "Epoch 8/10\n",
            "1875/1875 [==============================] - 10s 6ms/step - loss: 0.2595 - accuracy: 0.9037\n",
            "Epoch 9/10\n",
            "1875/1875 [==============================] - 9s 5ms/step - loss: 0.2496 - accuracy: 0.9065\n",
            "Epoch 10/10\n",
            "1875/1875 [==============================] - 8s 4ms/step - loss: 0.2415 - accuracy: 0.9093\n"
          ]
        },
        {
          "output_type": "execute_result",
          "data": {
            "text/plain": [
              "<keras.callbacks.History at 0x7fede11fb550>"
            ]
          },
          "metadata": {},
          "execution_count": 21
        }
      ]
    },
    {
      "cell_type": "markdown",
      "source": [
        "Step 9: Finding the Accuracy"
      ],
      "metadata": {
        "id": "YDQQLryrfnOS"
      }
    },
    {
      "cell_type": "code",
      "source": [
        "testl,testac = model.evaluate(test,testlabels,verbose=1)#verbose means\n",
        "print(testac)"
      ],
      "metadata": {
        "colab": {
          "base_uri": "https://localhost:8080/"
        },
        "id": "9Ras7EaUfuBX",
        "outputId": "9f5db726-b46e-45bf-c1a2-746bdeb156ee"
      },
      "execution_count": 22,
      "outputs": [
        {
          "output_type": "stream",
          "name": "stdout",
          "text": [
            "313/313 [==============================] - 4s 11ms/step - loss: 0.3278 - accuracy: 0.8863\n",
            "0.8863000273704529\n"
          ]
        }
      ]
    },
    {
      "cell_type": "markdown",
      "source": [
        "So now we see that the accuracy changes from 0.9093 to 0.8863 this is because the machine has seen the data many times(epoch) So it tends to remember the data. and when given new data it tends to get confused. This is called Overfitting"
      ],
      "metadata": {
        "id": "ZJjNLwBsgQbE"
      }
    },
    {
      "cell_type": "markdown",
      "source": [
        "Step 10: Predicting "
      ],
      "metadata": {
        "id": "EWG0TaQRhXUh"
      }
    },
    {
      "cell_type": "code",
      "source": [
        "pred = model.predict(test)\n",
        "#image we want to find\n",
        "imageno = 44\n",
        "#every image has a 10 class probability distribution and we select the max using numpy\n",
        "classno = np.argmax(pred[imageno])\n",
        "print(class_names[classno])\n",
        "plt.figure()\n",
        "plt.imshow(test[imageno])"
      ],
      "metadata": {
        "colab": {
          "base_uri": "https://localhost:8080/",
          "height": 300
        },
        "id": "hv1AaNwkhUC3",
        "outputId": "c16e3b94-15a6-408e-a30d-539e286f5060"
      },
      "execution_count": 26,
      "outputs": [
        {
          "output_type": "stream",
          "name": "stdout",
          "text": [
            "Shirt\n"
          ]
        },
        {
          "output_type": "execute_result",
          "data": {
            "text/plain": [
              "<matplotlib.image.AxesImage at 0x7feddcca8950>"
            ]
          },
          "metadata": {},
          "execution_count": 26
        },
        {
          "output_type": "display_data",
          "data": {
            "text/plain": [
              "<Figure size 432x288 with 1 Axes>"
            ],
            "image/png": "[encoded data removed]"
          },
          "metadata": {
            "needs_background": "light"
          }
        }
      ]
    }
  ]
}