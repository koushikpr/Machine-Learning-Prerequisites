{
  "nbformat": 4,
  "nbformat_minor": 0,
  "metadata": {
    "colab": {
      "name": "Neural Networking.ipynb",
      "provenance": [],
      "collapsed_sections": [],
      "authorship_tag": "ABX9TyPt5I16/C7d1AJ5XQyc5Zzl",
      "include_colab_link": true
    },
    "kernelspec": {
      "name": "python3",
      "display_name": "Python 3"
    },
    "language_info": {
      "name": "python"
    }
  },
  "cells": [
    {
      "cell_type": "markdown",
      "metadata": {
        "id": "view-in-github",
        "colab_type": "text"
      },
      "source": [
        "<a href=\"https://colab.research.google.com/github/koushikpr/Machine-Learning-Prerequisites/blob/Neural-Networking/Neural_Networking.ipynb\" target=\"_parent\"><img src=\"https://colab.research.google.com/assets/colab-badge.svg\" alt=\"Open In Colab\"/></a>"
      ]
    },
    {
      "cell_type": "code",
      "execution_count": null,
      "metadata": {
        "id": "GT_TDLP6fRtm"
      },
      "outputs": [],
      "source": [
        ""
      ]
    },
    {
      "cell_type": "markdown",
      "source": [
        "# **Neural Networking**\n",
        "\n",
        "---\n",
        "\n"
      ],
      "metadata": {
        "id": "lVgtWEBaU0Fd"
      }
    },
    {
      "cell_type": "markdown",
      "source": [
        "So Neural Networking is a method primarily used to classify data based on certain criteria. As far as we have learned, We have classified data existing in just raw without extra classification(one layer). To classify data existing in many layers, we tend to go deep(many layers). We use Deep Neural Networking when we are classifying data within many layers."
      ],
      "metadata": {
        "id": "1MyDIeBDZmE0"
      }
    },
    {
      "cell_type": "markdown",
      "source": [
        "### How does it Work ?"
      ],
      "metadata": {
        "id": "Ofpfm00e6FWF"
      }
    },
    {
      "cell_type": "markdown",
      "metadata": {
        "id": "o-oMh18_j5kl"
      },
      "source": [
        "\n",
        "Before we dive into any code lets break down how a neural network works and what it does.\n",
        "\n",
        "![alt text](http://www.extremetech.com/wp-content/uploads/2015/07/NeuralNetwork.png)\n",
        "\n",
        "\n",
        "\n"
      ]
    },
    {
      "cell_type": "markdown",
      "source": [
        "So a neural network consists of \n",
        "\n",
        "1.   An Input Layer: consisting of all the inputs\n",
        "2.   Hidden Layer: consisting of classifiers based on requirement\n",
        "3.   Output Layer: Consisting of all predictable outputs\n",
        "4.   Weights: A constant value that specifies the connection btw 2 nodes of 2 layers\n",
        "5.   Bias: A constant value that exist specifically for every layer which provides linearity\n",
        "6.   Activation Function: A function that converts data of every neuron, made up of higher dimension data to a suitable range for the the next layer. Some activation functions are :\n",
        "\n",
        "- Relu (Rectified Linear Unit): Nullifies all -ve values\n",
        "\n",
        "![alt text](https://yashuseth.files.wordpress.com/2018/02/relu-function.png?w=309&h=274)\n",
        "- Tanh (Hyperbolic Tangent): Constraints the data btw -1 to +1\n",
        "\n",
        "![alt text](http://mathworld.wolfram.com/images/interactive/TanhReal.gif)\n",
        "- Sigmoid: Constraints the data btw 0 to 1\n",
        "\n",
        "![alt text](https://miro.medium.com/max/970/1*Xu7B5y9gp0iL5ooBj7LtWw.png)\n",
        "\n",
        "\n"
      ],
      "metadata": {
        "id": "2wiCXyQ-8m-I"
      }
    },
    {
      "cell_type": "markdown",
      "source": [
        "The data at each subsequent neuron is defined as the following.\n",
        "> $Y =(\\sum_{i=0}^n w_i x_i) + b$\n",
        "\n",
        "> $w$ stands for the weight of each connection to the neuron\n",
        "\n",
        "> $x$ stands for the value of the connected neuron from the previous value\n",
        "\n",
        "> $b$ stands for the bias at each layer, this is a constant\n",
        "\n",
        "> $n$ is the number of connections\n",
        "\n",
        "> $Y$ is the output of the current neuron\n",
        "\n",
        "> $\\sum$ stands for summation"
      ],
      "metadata": {
        "id": "MpISOe0G8NNW"
      }
    },
    {
      "cell_type": "markdown",
      "source": [
        "Now since we have extracted the data of each layer, we wanna classify these layers based on certain conditions or funtions. Hence to obtain the output we define an Activation Function to perform these tasks.Once we give a predefined activation Function, we even give random weights and biases. Once we train the model, it will automatically reassign the accurate values of wieights and biases by a process called Back Propagation.\n",
        "\n",
        "> $Y =F((\\sum_{i=0}^n w_i x_i) + b)$\n"
      ],
      "metadata": {
        "id": "p6ZUphcK-W55"
      }
    },
    {
      "cell_type": "markdown",
      "source": [
        "**Loss/Cost Function**\n",
        "\n",
        "This provides us a data abt how much the output has deviated from the original output.\n",
        "\n",
        "Some errors we know are mean square error,mean absolute error, and hinge loss"
      ],
      "metadata": {
        "id": "3BarjZ2qzqhs"
      }
    },
    {
      "cell_type": "markdown",
      "source": [
        "### How to Determine the weights and biases:Gradient Descent"
      ],
      "metadata": {
        "id": "QglqN_vgf58y"
      }
    },
    {
      "cell_type": "markdown",
      "source": [
        "Gradient Descent is a function that traces back the path taken by every neuron creating an n-layer dimension matrix, which inturn solved to give us the most accurate values of weights and biases. "
      ],
      "metadata": {
        "id": "ZKidUeO7gGJh"
      }
    },
    {
      "cell_type": "markdown",
      "source": [
        "**Optimizer**\n",
        "\n",
        "Function that implements backpropagation like:\n",
        "1. Gradient Descent\n",
        "2. Stochastic Gradient Descent\n",
        "3. Mini-Batch Gradient Descent\n",
        "4. Momentum\n",
        "5. Nesterov Accelerated Gradient\n"
      ],
      "metadata": {
        "id": "Gw578b8pijwe"
      }
    },
    {
      "cell_type": "markdown",
      "source": [
        "### Now Lets Finally Create our Neural Network From Scratch Using Keras"
      ],
      "metadata": {
        "id": "JjWw0iyDjDDk"
      }
    },
    {
      "cell_type": "markdown",
      "source": [
        "Step 1: Setup"
      ],
      "metadata": {
        "id": "3TPMl4VsOX3L"
      }
    },
    {
      "cell_type": "code",
      "source": [
        "import tensorflow as tf\n",
        "from tensorflow import keras\n",
        "import numpy as np\n",
        "import matplotlib.pyplot as plt\n",
        "\n"
      ],
      "metadata": {
        "id": "8I173-_VjjFF"
      },
      "execution_count": null,
      "outputs": []
    },
    {
      "cell_type": "markdown",
      "source": [
        "Step 2: Loading the Dataset\n",
        "So in the model we will be loading a pre-existing fashion MNIST Dataset from keras"
      ],
      "metadata": {
        "id": "Q6gnzr1ZObvo"
      }
    },
    {
      "cell_type": "code",
      "source": [
        "fmnist = keras.datasets.fashion_mnist\n",
        "#loading the data into testing a training process\n",
        "(train,trainlabels),(test,testlabels) = fmnist.load_data()"
      ],
      "metadata": {
        "colab": {
          "base_uri": "https://localhost:8080/"
        },
        "id": "efjwtlc-x-8d",
        "outputId": "8d003ae7-58fa-4a51-d977-c81e50f691d0"
      },
      "execution_count": null,
      "outputs": [
        {
          "output_type": "stream",
          "name": "stdout",
          "text": [
            "Downloading data from https://storage.googleapis.com/tensorflow/tf-keras-datasets/train-labels-idx1-ubyte.gz\n",
            "32768/29515 [=================================] - 0s 0us/step\n",
            "40960/29515 [=========================================] - 0s 0us/step\n",
            "Downloading data from https://storage.googleapis.com/tensorflow/tf-keras-datasets/train-images-idx3-ubyte.gz\n",
            "26427392/26421880 [==============================] - 1s 0us/step\n",
            "26435584/26421880 [==============================] - 1s 0us/step\n",
            "Downloading data from https://storage.googleapis.com/tensorflow/tf-keras-datasets/t10k-labels-idx1-ubyte.gz\n",
            "16384/5148 [===============================================================================================] - 0s 0us/step\n",
            "Downloading data from https://storage.googleapis.com/tensorflow/tf-keras-datasets/t10k-images-idx3-ubyte.gz\n",
            "4423680/4422102 [==============================] - 0s 0us/step\n",
            "4431872/4422102 [==============================] - 0s 0us/step\n"
          ]
        }
      ]
    },
    {
      "cell_type": "code",
      "source": [
        "train.shape\n"
      ],
      "metadata": {
        "colab": {
          "base_uri": "https://localhost:8080/"
        },
        "id": "A_v-gLcHPj7i",
        "outputId": "0b365d5d-d4f5-4155-8013-38056d5071b7"
      },
      "execution_count": null,
      "outputs": [
        {
          "output_type": "execute_result",
          "data": {
            "text/plain": [
              "(60000, 28, 28)"
            ]
          },
          "metadata": {},
          "execution_count": 5
        }
      ]
    },
    {
      "cell_type": "code",
      "source": [
        "test.shape"
      ],
      "metadata": {
        "colab": {
          "base_uri": "https://localhost:8080/"
        },
        "id": "qSshdZdpPq3o",
        "outputId": "970a30c4-6812-4397-97b5-5156ab11b512"
      },
      "execution_count": null,
      "outputs": [
        {
          "output_type": "execute_result",
          "data": {
            "text/plain": [
              "(10000, 28, 28)"
            ]
          },
          "metadata": {},
          "execution_count": 6
        }
      ]
    },
    {
      "cell_type": "markdown",
      "source": [
        "So there are 60000 training images of 28x28 pixels and  10000 training images of 28x28 pixels"
      ],
      "metadata": {
        "id": "wEHQinQaPtoV"
      }
    },
    {
      "cell_type": "markdown",
      "source": [
        "Step 3: Providing class names"
      ],
      "metadata": {
        "id": "Pw-BDwSuRqlZ"
      }
    },
    {
      "cell_type": "code",
      "source": [
        "class_names = ['T-shirt/top', 'Trouser', 'Pullover', 'Dress', 'Coat','Sandal', 'Shirt', 'Sneaker', 'Bag', 'Ankle boot']"
      ],
      "metadata": {
        "id": "PFJfqS-8RBA7"
      },
      "execution_count": null,
      "outputs": []
    },
    {
      "cell_type": "markdown",
      "source": [
        "Step 4: Previewing our images"
      ],
      "metadata": {
        "id": "DMGfiO89R3hC"
      }
    },
    {
      "cell_type": "code",
      "source": [
        "plt.figure()\n",
        "plt.imshow(train[6])\n"
      ],
      "metadata": {
        "colab": {
          "base_uri": "https://localhost:8080/",
          "height": 282
        },
        "id": "h0r_D_e_R8UH",
        "outputId": "e2c9a6e3-63ab-4bee-bf9e-ec8e551b8652"
      },
      "execution_count": null,
      "outputs": [
        {
          "output_type": "execute_result",
          "data": {
            "text/plain": [
              "<matplotlib.image.AxesImage at 0x7fede154b190>"
            ]
          },
          "metadata": {},
          "execution_count": 15
        },
        {
          "output_type": "display_data",
          "data": {
            "text/plain": [
              "<Figure size 432x288 with 1 Axes>"
            ],
            "image/png": "[encoded data removed]"
          },
          "metadata": {
            "needs_background": "light"
          }
        }
      ]
    },
    {
      "cell_type": "markdown",
      "source": [
        "Step 5: Data Preprocessing"
      ],
      "metadata": {
        "id": "IZ5Vg-_SSm5i"
      }
    },
    {
      "cell_type": "markdown",
      "source": [
        "Each pixel of an image is represented by a grayscale number (0-255) where 0 is black and 255 is white. So to constraint all the values between 0 and 1 we divide the entire array by 255"
      ],
      "metadata": {
        "id": "nwXXoBtSSyQU"
      }
    },
    {
      "cell_type": "code",
      "source": [
        "train = train/255.0\n",
        "test = test/255.0"
      ],
      "metadata": {
        "id": "1bLX-gOeSprf"
      },
      "execution_count": null,
      "outputs": []
    },
    {
      "cell_type": "markdown",
      "source": [
        "Step 6: Building the Model Using Keras"
      ],
      "metadata": {
        "id": "AnusE8kKTUXr"
      }
    },
    {
      "cell_type": "code",
      "source": [
        "model  = keras.Sequential([\n",
        "                           keras.layers.Flatten(input_shape=(28,28)),\n",
        "                           keras.layers.Dense(128,activation='relu'),\n",
        "                           keras.layers.Dense(10,activation='softmax')\n",
        "])"
      ],
      "metadata": {
        "id": "U4YNZO_ETUGO"
      },
      "execution_count": null,
      "outputs": []
    },
    {
      "cell_type": "markdown",
      "source": [
        "1. Layer 1: This is our input layer which is flatten and reshaped into a 28x28 array (784 neurons)\n",
        "2. Layer 2: This is our only Hidden Layer which is dense(meaning connected to every neuron of the previous layer. There are 128 neurons in this layer and the activation function is rectify linear unit.\n",
        "3. Layer 3: This is our Output layer which is also dense and is made of 10 neurons representing 10 classes that we have taken in this dataset. Activation function is softmax which returns the probability distribution of the output."
      ],
      "metadata": {
        "id": "_4kDrSmqbo6h"
      }
    },
    {
      "cell_type": "markdown",
      "source": [
        "Step 7: Compiling this model "
      ],
      "metadata": {
        "id": "74slYyYVdZep"
      }
    },
    {
      "cell_type": "code",
      "source": [
        "model.compile(optimizer='adam',loss='sparse_categorical_crossentropy',metrics=['accuracy'])"
      ],
      "metadata": {
        "id": "X8ZLNH3qeG65"
      },
      "execution_count": null,
      "outputs": []
    },
    {
      "cell_type": "markdown",
      "source": [
        "Step 8: Training the data using fit"
      ],
      "metadata": {
        "id": "OBHdAc4de5D8"
      }
    },
    {
      "cell_type": "code",
      "source": [
        "model.fit(train,trainlabels,epochs=10)"
      ],
      "metadata": {
        "colab": {
          "base_uri": "https://localhost:8080/"
        },
        "id": "SazwFGX0e9LB",
        "outputId": "fd8c5a81-b3c7-4951-8071-98030a7155ff"
      },
      "execution_count": null,
      "outputs": [
        {
          "output_type": "stream",
          "name": "stdout",
          "text": [
            "Epoch 1/10\n",
            "1875/1875 [==============================] - 16s 8ms/step - loss: 0.4960 - accuracy: 0.8271\n",
            "Epoch 2/10\n",
            "1875/1875 [==============================] - 14s 8ms/step - loss: 0.3770 - accuracy: 0.8632\n",
            "Epoch 3/10\n",
            "1875/1875 [==============================] - 11s 6ms/step - loss: 0.3403 - accuracy: 0.8761\n",
            "Epoch 4/10\n",
            "1875/1875 [==============================] - 9s 5ms/step - loss: 0.3155 - accuracy: 0.8842\n",
            "Epoch 5/10\n",
            "1875/1875 [==============================] - 9s 5ms/step - loss: 0.2978 - accuracy: 0.8896\n",
            "Epoch 6/10\n",
            "1875/1875 [==============================] - 8s 4ms/step - loss: 0.2833 - accuracy: 0.8966\n",
            "Epoch 7/10\n",
            "1875/1875 [==============================] - 8s 4ms/step - loss: 0.2699 - accuracy: 0.9000\n",
            "Epoch 8/10\n",
            "1875/1875 [==============================] - 10s 6ms/step - loss: 0.2595 - accuracy: 0.9037\n",
            "Epoch 9/10\n",
            "1875/1875 [==============================] - 9s 5ms/step - loss: 0.2496 - accuracy: 0.9065\n",
            "Epoch 10/10\n",
            "1875/1875 [==============================] - 8s 4ms/step - loss: 0.2415 - accuracy: 0.9093\n"
          ]
        },
        {
          "output_type": "execute_result",
          "data": {
            "text/plain": [
              "<keras.callbacks.History at 0x7fede11fb550>"
            ]
          },
          "metadata": {},
          "execution_count": 21
        }
      ]
    },
    {
      "cell_type": "markdown",
      "source": [
        "Step 9: Finding the Accuracy"
      ],
      "metadata": {
        "id": "YDQQLryrfnOS"
      }
    },
    {
      "cell_type": "code",
      "source": [
        "testl,testac = model.evaluate(test,testlabels,verbose=1)#verbose means\n",
        "print(testac)"
      ],
      "metadata": {
        "colab": {
          "base_uri": "https://localhost:8080/"
        },
        "id": "9Ras7EaUfuBX",
        "outputId": "9f5db726-b46e-45bf-c1a2-746bdeb156ee"
      },
      "execution_count": null,
      "outputs": [
        {
          "output_type": "stream",
          "name": "stdout",
          "text": [
            "313/313 [==============================] - 4s 11ms/step - loss: 0.3278 - accuracy: 0.8863\n",
            "0.8863000273704529\n"
          ]
        }
      ]
    },
    {
      "cell_type": "markdown",
      "source": [
        "So now we see that the accuracy changes from 0.9093 to 0.8863 this is because the machine has seen the data many times(epoch) So it tends to remember the data. and when given new data it tends to get confused. This is called Overfitting"
      ],
      "metadata": {
        "id": "ZJjNLwBsgQbE"
      }
    },
    {
      "cell_type": "markdown",
      "source": [
        "Step 10: Predicting "
      ],
      "metadata": {
        "id": "EWG0TaQRhXUh"
      }
    },
    {
      "cell_type": "code",
      "source": [
        "pred = model.predict(test)\n",
        "#image we want to find\n",
        "imageno = 44\n",
        "#every image has a 10 class probability distribution and we select the max using numpy\n",
        "classno = np.argmax(pred[imageno])\n",
        "print(class_names[classno])\n",
        "plt.figure()\n",
        "plt.imshow(test[imageno])"
      ],
      "metadata": {
        "colab": {
          "base_uri": "https://localhost:8080/",
          "height": 300
        },
        "id": "hv1AaNwkhUC3",
        "outputId": "c16e3b94-15a6-408e-a30d-539e286f5060"
      },
      "execution_count": null,
      "outputs": [
        {
          "output_type": "stream",
          "name": "stdout",
          "text": [
            "Shirt\n"
          ]
        },
        {
          "output_type": "execute_result",
          "data": {
            "text/plain": [
              "<matplotlib.image.AxesImage at 0x7feddcca8950>"
            ]
          },
          "metadata": {},
          "execution_count": 26
        },
        {
          "output_type": "display_data",
          "data": {
            "text/plain": [
              "<Figure size 432x288 with 1 Axes>"
            ],
            "image/png": "[encoded data removed]"
          },
          "metadata": {
            "needs_background": "light"
          }
        }
      ]
    }
  ]
}