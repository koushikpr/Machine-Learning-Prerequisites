{
  "nbformat": 4,
  "nbformat_minor": 0,
  "metadata": {
    "colab": {
      "name": "Hidden Markov Model.ipynb",
      "provenance": [],
      "collapsed_sections": [],
      "authorship_tag": "ABX9TyOvw82aKNEMj/H0I8uGh9Y7",
      "include_colab_link": true
    },
    "kernelspec": {
      "name": "python3",
      "display_name": "Python 3"
    },
    "language_info": {
      "name": "python"
    }
  },
  "cells": [
    {
      "cell_type": "markdown",
      "metadata": {
        "id": "view-in-github",
        "colab_type": "text"
      },
      "source": [
        "<a href=\"https://colab.research.google.com/github/koushikpr/Machine-Learning-Prerequisites/blob/Hidden-Markov-Model/Hidden_Markov_Model.ipynb\" target=\"_parent\"><img src=\"https://colab.research.google.com/assets/colab-badge.svg\" alt=\"Open In Colab\"/></a>"
      ]
    },
    {
      "cell_type": "markdown",
      "source": [
        "# **Hidden Markov Model**"
      ],
      "metadata": {
        "id": "c91gj6cMfN3y"
      }
    },
    {
      "cell_type": "markdown",
      "source": [
        "1. Hidden Markov Model runs on the basis of probability distribution. And is widely used to predict Future outputs."
      ],
      "metadata": {
        "id": "ABc_2P7KguN_"
      }
    },
    {
      "cell_type": "code",
      "source": [
        "import tensorflow_probability as tfp\n",
        "import tensorflow as tf\n",
        "%tensorflow_version 2.x"
      ],
      "metadata": {
        "id": "yqYhcFKwhpEN"
      },
      "execution_count": null,
      "outputs": []
    },
    {
      "cell_type": "markdown",
      "source": [
        "1. Cold days are encoded by a 0 and hot days are encoded by a 1.\n",
        "2. The first day in our sequence has an 80% chance of being cold.\n",
        "3. A cold day has a 30% chance of being followed by a hot day.\n",
        "4. A hot day has a 20% chance of being followed by a cold day.\n",
        "5. On each day the temperature is normally distributed with mean and standard deviation 0 and 5 on a cold day and mean and standard deviation 15 and 10 on a hot day.\n",
        "\n",
        "The Following can be seen as finite state machines, with 2 states cold and hot that tend to give certain predictions based on their probability distribution"
      ],
      "metadata": {
        "id": "Y61e03VHhzVP"
      }
    },
    {
      "cell_type": "markdown",
      "source": [
        "Step 1: Data Analysis"
      ],
      "metadata": {
        "id": "j8KL0K9UkQVJ"
      }
    },
    {
      "cell_type": "code",
      "source": [
        "tfd = tfp.distributions #shortcut\n",
        "initial = tfd.Categorical(probs=[0.8,0.2])#pb of cold,hot (1)\n",
        "transition = tfd.Categorical(probs=[[0.7,0.3],[0.2,0.8]])#pb of cold fol.by hot and vice verse(2,3)\n",
        "observation = tfd.Normal(loc=[0.,15],scale=[5.,10.])#mean(loc) and standard deviation(scale) of observation"
      ],
      "metadata": {
        "id": "sByM2Bwni8J1"
      },
      "execution_count": null,
      "outputs": []
    },
    {
      "cell_type": "markdown",
      "source": [
        "Step 2: Creating Hidden markov model in tensorflow"
      ],
      "metadata": {
        "id": "w9slxa2Ikw5Z"
      }
    },
    {
      "cell_type": "code",
      "source": [
        "model = tfd.HiddenMarkovModel(\n",
        "    initial_distribution=initial,\n",
        "    transition_distribution=transition,\n",
        "    observation_distribution=observation,\n",
        "    num_steps=7#no of days we want to predict\n",
        ")"
      ],
      "metadata": {
        "id": "NLA-ojSPk43E"
      },
      "execution_count": null,
      "outputs": []
    },
    {
      "cell_type": "markdown",
      "source": [
        "Step 3: Finding the mean or estimated Temperature"
      ],
      "metadata": {
        "id": "5K3JRapcmMcD"
      }
    },
    {
      "cell_type": "code",
      "source": [
        "mean = model.mean()\n",
        "\n",
        "with tf.compat.v1.Session() as sess:\n",
        "  print(mean.numpy())"
      ],
      "metadata": {
        "colab": {
          "base_uri": "https://localhost:8080/"
        },
        "id": "pfGdE1gYl-1J",
        "outputId": "9dd59217-e10e-4276-e4a5-4479c654e9bf"
      },
      "execution_count": null,
      "outputs": [
        {
          "output_type": "stream",
          "name": "stdout",
          "text": [
            "[2.9999998 5.9999995 7.4999995 8.25      8.625001  8.812501  8.90625  ]\n"
          ]
        }
      ]
    },
    {
      "cell_type": "markdown",
      "source": [
        "Since there is a higher chances of it being a cold day, the following data suits well in predicting the data for 7 days "
      ],
      "metadata": {
        "id": "A42pXrveUrbW"
      }
    }
  ]
}