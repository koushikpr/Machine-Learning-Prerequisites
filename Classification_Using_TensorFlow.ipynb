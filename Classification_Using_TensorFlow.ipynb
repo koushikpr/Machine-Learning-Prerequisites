{
  "nbformat": 4,
  "nbformat_minor": 0,
  "metadata": {
    "colab": {
      "name": "Classification Using TensorFlow.ipynb",
      "provenance": [],
      "collapsed_sections": [],
      "authorship_tag": "ABX9TyMWcmpMwTqCz6Iinse14W+f",
      "include_colab_link": true
    },
    "kernelspec": {
      "name": "python3",
      "display_name": "Python 3"
    },
    "language_info": {
      "name": "python"
    }
  },
  "cells": [
    {
      "cell_type": "markdown",
      "metadata": {
        "id": "view-in-github",
        "colab_type": "text"
      },
      "source": [
        "<a href=\"https://colab.research.google.com/github/koushikpr/Machine-Learning-Prerequisites/blob/Classification/Classification_Using_TensorFlow.ipynb\" target=\"_parent\"><img src=\"https://colab.research.google.com/assets/colab-badge.svg\" alt=\"Open In Colab\"/></a>"
      ]
    },
    {
      "cell_type": "code",
      "execution_count": 2,
      "metadata": {
        "id": "SVukoWc7N67t"
      },
      "outputs": [],
      "source": [
        "from __future__ import absolute_import, division, print_function, unicode_literals\n",
        "\n",
        "import numpy as np\n",
        "import pandas as pd\n",
        "import matplotlib.pyplot as plt\n",
        "from IPython.display import clear_output\n",
        "from six.moves import urllib\n",
        "\n",
        "import tensorflow.compat.v2.feature_column as fc\n",
        "import tensorflow as tf"
      ]
    },
    {
      "cell_type": "markdown",
      "source": [
        "# **Classification**\n",
        "\n",
        "---\n",
        "\n"
      ],
      "metadata": {
        "id": "GmCVYlIJ-oL5"
      }
    },
    {
      "cell_type": "markdown",
      "source": [
        "2. Classification: Unlike linear Regression that predicts the output based on the numerical values plots on an n dimensional graph, Classification is going to seperate all these values based on features or cahracterstics of the data. "
      ],
      "metadata": {
        "id": "vgmg0pg-BOSh"
      }
    },
    {
      "cell_type": "markdown",
      "source": [
        "Predicting the Flower species \n",
        "This specific dataset seperates flowers into 3 different classes of species.\n",
        "- Setosa\n",
        "- Versicolor\n",
        "- Virginica\n",
        "\n",
        "The information about each flower is the following.\n",
        "- sepal length\n",
        "- sepal width\n",
        "- petal length\n",
        "- petal width"
      ],
      "metadata": {
        "id": "U_aMHzTEKR-R"
      }
    },
    {
      "cell_type": "code",
      "source": [
        "Columns = ['SepalLength', 'SepalWidth', 'PetalLength', 'PetalWidth', 'Species']\n",
        "Species = ['Setosa', 'Versicolor', 'Virginica']"
      ],
      "metadata": {
        "id": "KGo3nFNiK5Ud"
      },
      "execution_count": 3,
      "outputs": []
    },
    {
      "cell_type": "markdown",
      "source": [
        "Step 1: Loading the DataSet of Flowers"
      ],
      "metadata": {
        "id": "1npy0Lz0KtbD"
      }
    },
    {
      "cell_type": "code",
      "source": [
        "#keras utilities allows us to read files and retrieve them from a cloud or our device\n",
        "train_path = tf.keras.utils.get_file(\n",
        "    \"iris_training.csv\", \"https://storage.googleapis.com/download.tensorflow.org/data/iris_training.csv\")\n",
        "test_path = tf.keras.utils.get_file(\n",
        "    \"iris_test.csv\", \"https://storage.googleapis.com/download.tensorflow.org/data/iris_test.csv\")\n",
        "#These are Prestored in the drive u can copy the above lines directly\n",
        "\n",
        "#reading only the required column data\n",
        "train = pd.read_csv(train_path, names=Columns, header=0)\n",
        "test = pd.read_csv(test_path, names=Columns, header=0)\n",
        "# Here we use keras (a module inside of TensorFlow) to grab our datasets and read them into a pandas dataframe"
      ],
      "metadata": {
        "id": "vdIeMpR-LJP1",
        "colab": {
          "base_uri": "https://localhost:8080/"
        },
        "outputId": "4171a6f3-c968-4869-ecfe-f58f547f0d1f"
      },
      "execution_count": 4,
      "outputs": [
        {
          "output_type": "stream",
          "name": "stdout",
          "text": [
            "Downloading data from https://storage.googleapis.com/download.tensorflow.org/data/iris_training.csv\n",
            "16384/2194 [================================================================================================================================================================================================================================] - 0s 0us/step\n",
            "Downloading data from https://storage.googleapis.com/download.tensorflow.org/data/iris_test.csv\n",
            "16384/573 [=========================================================================================================================================================================================================================================================================================================================================================================================================================================================================================================================================================================================================================================================================================================================================================================================================================================================================================] - 0s 0us/step\n"
          ]
        }
      ]
    },
    {
      "cell_type": "markdown",
      "source": [
        "Check the data"
      ],
      "metadata": {
        "id": "yji4i-8dL38u"
      }
    },
    {
      "cell_type": "code",
      "source": [
        "train.head()"
      ],
      "metadata": {
        "colab": {
          "base_uri": "https://localhost:8080/",
          "height": 206
        },
        "id": "v7lvdxy7L51W",
        "outputId": "ec3515ca-89b2-499c-b4b6-a59b5740f535"
      },
      "execution_count": 5,
      "outputs": [
        {
          "output_type": "execute_result",
          "data": {
            "text/plain": [
              "   SepalLength  SepalWidth  PetalLength  PetalWidth  Species\n",
              "0          6.4         2.8          5.6         2.2        2\n",
              "1          5.0         2.3          3.3         1.0        1\n",
              "2          4.9         2.5          4.5         1.7        2\n",
              "3          4.9         3.1          1.5         0.1        0\n",
              "4          5.7         3.8          1.7         0.3        0"
            ],
            "text/html": [
              "\n",
              "  <div id=\"df-dd02183e-e9b0-49d3-97c0-ce00bf1a3b89\">\n",
              "    <div class=\"colab-df-container\">\n",
              "      <div>\n",
              "<style scoped>\n",
              "    .dataframe tbody tr th:only-of-type {\n",
              "        vertical-align: middle;\n",
              "    }\n",
              "\n",
              "    .dataframe tbody tr th {\n",
              "        vertical-align: top;\n",
              "    }\n",
              "\n",
              "    .dataframe thead th {\n",
              "        text-align: right;\n",
              "    }\n",
              "</style>\n",
              "<table border=\"1\" class=\"dataframe\">\n",
              "  <thead>\n",
              "    <tr style=\"text-align: right;\">\n",
              "      <th></th>\n",
              "      <th>SepalLength</th>\n",
              "      <th>SepalWidth</th>\n",
              "      <th>PetalLength</th>\n",
              "      <th>PetalWidth</th>\n",
              "      <th>Species</th>\n",
              "    </tr>\n",
              "  </thead>\n",
              "  <tbody>\n",
              "    <tr>\n",
              "      <th>0</th>\n",
              "      <td>6.4</td>\n",
              "      <td>2.8</td>\n",
              "      <td>5.6</td>\n",
              "      <td>2.2</td>\n",
              "      <td>2</td>\n",
              "    </tr>\n",
              "    <tr>\n",
              "      <th>1</th>\n",
              "      <td>5.0</td>\n",
              "      <td>2.3</td>\n",
              "      <td>3.3</td>\n",
              "      <td>1.0</td>\n",
              "      <td>1</td>\n",
              "    </tr>\n",
              "    <tr>\n",
              "      <th>2</th>\n",
              "      <td>4.9</td>\n",
              "      <td>2.5</td>\n",
              "      <td>4.5</td>\n",
              "      <td>1.7</td>\n",
              "      <td>2</td>\n",
              "    </tr>\n",
              "    <tr>\n",
              "      <th>3</th>\n",
              "      <td>4.9</td>\n",
              "      <td>3.1</td>\n",
              "      <td>1.5</td>\n",
              "      <td>0.1</td>\n",
              "      <td>0</td>\n",
              "    </tr>\n",
              "    <tr>\n",
              "      <th>4</th>\n",
              "      <td>5.7</td>\n",
              "      <td>3.8</td>\n",
              "      <td>1.7</td>\n",
              "      <td>0.3</td>\n",
              "      <td>0</td>\n",
              "    </tr>\n",
              "  </tbody>\n",
              "</table>\n",
              "</div>\n",
              "      <button class=\"colab-df-convert\" onclick=\"convertToInteractive('df-dd02183e-e9b0-49d3-97c0-ce00bf1a3b89')\"\n",
              "              title=\"Convert this dataframe to an interactive table.\"\n",
              "              style=\"display:none;\">\n",
              "        \n",
              "  <svg xmlns=\"http://www.w3.org/2000/svg\" height=\"24px\"viewBox=\"0 0 24 24\"\n",
              "       width=\"24px\">\n",
              "    <path d=\"M0 0h24v24H0V0z\" fill=\"none\"/>\n",
              "    <path d=\"M18.56 5.44l.94 2.06.94-2.06 2.06-.94-2.06-.94-.94-2.06-.94 2.06-2.06.94zm-11 1L8.5 8.5l.94-2.06 2.06-.94-2.06-.94L8.5 2.5l-.94 2.06-2.06.94zm10 10l.94 2.06.94-2.06 2.06-.94-2.06-.94-.94-2.06-.94 2.06-2.06.94z\"/><path d=\"M17.41 7.96l-1.37-1.37c-.4-.4-.92-.59-1.43-.59-.52 0-1.04.2-1.43.59L10.3 9.45l-7.72 7.72c-.78.78-.78 2.05 0 2.83L4 21.41c.39.39.9.59 1.41.59.51 0 1.02-.2 1.41-.59l7.78-7.78 2.81-2.81c.8-.78.8-2.07 0-2.86zM5.41 20L4 18.59l7.72-7.72 1.47 1.35L5.41 20z\"/>\n",
              "  </svg>\n",
              "      </button>\n",
              "      \n",
              "  <style>\n",
              "    .colab-df-container {\n",
              "      display:flex;\n",
              "      flex-wrap:wrap;\n",
              "      gap: 12px;\n",
              "    }\n",
              "\n",
              "    .colab-df-convert {\n",
              "      background-color: #E8F0FE;\n",
              "      border: none;\n",
              "      border-radius: 50%;\n",
              "      cursor: pointer;\n",
              "      display: none;\n",
              "      fill: #1967D2;\n",
              "      height: 32px;\n",
              "      padding: 0 0 0 0;\n",
              "      width: 32px;\n",
              "    }\n",
              "\n",
              "    .colab-df-convert:hover {\n",
              "      background-color: #E2EBFA;\n",
              "      box-shadow: 0px 1px 2px rgba(60, 64, 67, 0.3), 0px 1px 3px 1px rgba(60, 64, 67, 0.15);\n",
              "      fill: #174EA6;\n",
              "    }\n",
              "\n",
              "    [theme=dark] .colab-df-convert {\n",
              "      background-color: #3B4455;\n",
              "      fill: #D2E3FC;\n",
              "    }\n",
              "\n",
              "    [theme=dark] .colab-df-convert:hover {\n",
              "      background-color: #434B5C;\n",
              "      box-shadow: 0px 1px 3px 1px rgba(0, 0, 0, 0.15);\n",
              "      filter: drop-shadow(0px 1px 2px rgba(0, 0, 0, 0.3));\n",
              "      fill: #FFFFFF;\n",
              "    }\n",
              "  </style>\n",
              "\n",
              "      <script>\n",
              "        const buttonEl =\n",
              "          document.querySelector('#df-dd02183e-e9b0-49d3-97c0-ce00bf1a3b89 button.colab-df-convert');\n",
              "        buttonEl.style.display =\n",
              "          google.colab.kernel.accessAllowed ? 'block' : 'none';\n",
              "\n",
              "        async function convertToInteractive(key) {\n",
              "          const element = document.querySelector('#df-dd02183e-e9b0-49d3-97c0-ce00bf1a3b89');\n",
              "          const dataTable =\n",
              "            await google.colab.kernel.invokeFunction('convertToInteractive',\n",
              "                                                     [key], {});\n",
              "          if (!dataTable) return;\n",
              "\n",
              "          const docLinkHtml = 'Like what you see? Visit the ' +\n",
              "            '<a target=\"_blank\" href=https://colab.research.google.com/notebooks/data_table.ipynb>data table notebook</a>'\n",
              "            + ' to learn more about interactive tables.';\n",
              "          element.innerHTML = '';\n",
              "          dataTable['output_type'] = 'display_data';\n",
              "          await google.colab.output.renderOutput(dataTable, element);\n",
              "          const docLink = document.createElement('div');\n",
              "          docLink.innerHTML = docLinkHtml;\n",
              "          element.appendChild(docLink);\n",
              "        }\n",
              "      </script>\n",
              "    </div>\n",
              "  </div>\n",
              "  "
            ]
          },
          "metadata": {},
          "execution_count": 5
        }
      ]
    },
    {
      "cell_type": "markdown",
      "source": [
        "Step 3: Remove the Species as we wanna predict that now"
      ],
      "metadata": {
        "id": "lxcnTk5iMI66"
      }
    },
    {
      "cell_type": "code",
      "source": [
        "trainspecies = train.pop('Species')\n",
        "testspecies = test.pop('Species')\n",
        "trainspecies.head()"
      ],
      "metadata": {
        "colab": {
          "base_uri": "https://localhost:8080/"
        },
        "id": "Z3WysEMiMQEj",
        "outputId": "2b8cdf86-0a7d-488c-f10b-60c0f05ea962"
      },
      "execution_count": 6,
      "outputs": [
        {
          "output_type": "execute_result",
          "data": {
            "text/plain": [
              "0    2\n",
              "1    1\n",
              "2    2\n",
              "3    0\n",
              "4    0\n",
              "Name: Species, dtype: int64"
            ]
          },
          "metadata": {},
          "execution_count": 6
        }
      ]
    },
    {
      "cell_type": "markdown",
      "source": [
        "Step 4: Converting our Data to Tensors Input "
      ],
      "metadata": {
        "id": "ca6vSZlKNBn2"
      }
    },
    {
      "cell_type": "code",
      "source": [
        "def inputf(features,labels,training =True,batchsize=256):\n",
        "  ds = tf.data.Dataset.from_tensor_slices((dict(features),labels))\n",
        "  if training:\n",
        "    ds = ds.shuffle(1000).repeat()\n",
        "  return ds.batch(batch_size=batchsize)\n",
        "  "
      ],
      "metadata": {
        "id": "wyxb3l5wNSiS"
      },
      "execution_count": 7,
      "outputs": []
    },
    {
      "cell_type": "markdown",
      "source": [
        "Step 5: Creating our feature columns"
      ],
      "metadata": {
        "id": "CY5cDOIKOaTN"
      }
    },
    {
      "cell_type": "code",
      "source": [
        "fc = []\n",
        "for key in train.keys():\n",
        "  fc.append(tf.feature_column.numeric_column(key=key))\n",
        "print(fc)"
      ],
      "metadata": {
        "colab": {
          "base_uri": "https://localhost:8080/"
        },
        "id": "u1m4Bou-OeHX",
        "outputId": "64c98278-f5e1-4a6d-f15b-2bebc75cbd28"
      },
      "execution_count": 8,
      "outputs": [
        {
          "output_type": "stream",
          "name": "stdout",
          "text": [
            "[NumericColumn(key='SepalLength', shape=(1,), default_value=None, dtype=tf.float32, normalizer_fn=None), NumericColumn(key='SepalWidth', shape=(1,), default_value=None, dtype=tf.float32, normalizer_fn=None), NumericColumn(key='PetalLength', shape=(1,), default_value=None, dtype=tf.float32, normalizer_fn=None), NumericColumn(key='PetalWidth', shape=(1,), default_value=None, dtype=tf.float32, normalizer_fn=None)]\n"
          ]
        }
      ]
    },
    {
      "cell_type": "markdown",
      "source": [
        "Step 6: Loading the estimator DNN (Deep Neural Network Classifier)"
      ],
      "metadata": {
        "id": "5nR7ZjgOflwA"
      }
    },
    {
      "cell_type": "code",
      "source": [
        "#DNN classifier with 2 hidden layers(30 and 10 nodes repsectively) and 3 classes\n",
        "cf = tf.estimator.DNNClassifier(\n",
        "    feature_columns=fc,\n",
        "    hidden_units=[30,10],\n",
        "    n_classes=3\n",
        ")"
      ],
      "metadata": {
        "colab": {
          "base_uri": "https://localhost:8080/"
        },
        "id": "5L2txz5HjMsx",
        "outputId": "4fc76a4f-6316-467b-8fc7-0071a784829a"
      },
      "execution_count": 9,
      "outputs": [
        {
          "output_type": "stream",
          "name": "stdout",
          "text": [
            "INFO:tensorflow:Using default config.\n",
            "WARNING:tensorflow:Using temporary folder as model directory: /tmp/tmpy8ih6hh3\n",
            "INFO:tensorflow:Using config: {'_model_dir': '/tmp/tmpy8ih6hh3', '_tf_random_seed': None, '_save_summary_steps': 100, '_save_checkpoints_steps': None, '_save_checkpoints_secs': 600, '_session_config': allow_soft_placement: true\n",
            "graph_options {\n",
            "  rewrite_options {\n",
            "    meta_optimizer_iterations: ONE\n",
            "  }\n",
            "}\n",
            ", '_keep_checkpoint_max': 5, '_keep_checkpoint_every_n_hours': 10000, '_log_step_count_steps': 100, '_train_distribute': None, '_device_fn': None, '_protocol': None, '_eval_distribute': None, '_experimental_distribute': None, '_experimental_max_worker_delay_secs': None, '_session_creation_timeout_secs': 7200, '_checkpoint_save_graph_def': True, '_service': None, '_cluster_spec': ClusterSpec({}), '_task_type': 'worker', '_task_id': 0, '_global_id_in_cluster': 0, '_master': '', '_evaluation_master': '', '_is_chief': True, '_num_ps_replicas': 0, '_num_worker_replicas': 1}\n"
          ]
        }
      ]
    },
    {
      "cell_type": "markdown",
      "source": [
        "Step 7: Training the estimator"
      ],
      "metadata": {
        "id": "4Kgy2MYgjgbr"
      }
    },
    {
      "cell_type": "code",
      "source": [
        "cf.train(\n",
        "    input_fn = lambda: inputf(train,trainspecies,training=True),\n",
        "    steps=5000\n",
        ")"
      ],
      "metadata": {
        "colab": {
          "base_uri": "https://localhost:8080/"
        },
        "id": "8T5GxxuOj7G3",
        "outputId": "796e3c4c-111c-41ca-c4c0-a432be66c0ba"
      },
      "execution_count": 10,
      "outputs": [
        {
          "output_type": "stream",
          "name": "stdout",
          "text": [
            "WARNING:tensorflow:From /usr/local/lib/python3.7/dist-packages/tensorflow/python/training/training_util.py:397: Variable.initialized_value (from tensorflow.python.ops.variables) is deprecated and will be removed in a future version.\n",
            "Instructions for updating:\n",
            "Use Variable.read_value. Variables in 2.X are initialized automatically both in eager and graph (inside tf.defun) contexts.\n",
            "INFO:tensorflow:Calling model_fn.\n",
            "WARNING:tensorflow:From /usr/local/lib/python3.7/dist-packages/keras/optimizer_v2/adagrad.py:84: calling Constant.__init__ (from tensorflow.python.ops.init_ops) with dtype is deprecated and will be removed in a future version.\n",
            "Instructions for updating:\n",
            "Call initializer instance with the dtype argument instead of passing it to the constructor\n",
            "INFO:tensorflow:Done calling model_fn.\n",
            "INFO:tensorflow:Create CheckpointSaverHook.\n",
            "INFO:tensorflow:Graph was finalized.\n",
            "INFO:tensorflow:Running local_init_op.\n",
            "INFO:tensorflow:Done running local_init_op.\n",
            "INFO:tensorflow:Calling checkpoint listeners before saving checkpoint 0...\n",
            "INFO:tensorflow:Saving checkpoints for 0 into /tmp/tmpy8ih6hh3/model.ckpt.\n",
            "INFO:tensorflow:Calling checkpoint listeners after saving checkpoint 0...\n",
            "INFO:tensorflow:loss = 1.1588073, step = 0\n",
            "INFO:tensorflow:global_step/sec: 171.918\n",
            "INFO:tensorflow:loss = 0.9767457, step = 100 (0.589 sec)\n",
            "INFO:tensorflow:global_step/sec: 251.272\n",
            "INFO:tensorflow:loss = 0.9300238, step = 200 (0.398 sec)\n",
            "INFO:tensorflow:global_step/sec: 201.844\n",
            "INFO:tensorflow:loss = 0.8918424, step = 300 (0.495 sec)\n",
            "INFO:tensorflow:global_step/sec: 168.106\n",
            "INFO:tensorflow:loss = 0.82649684, step = 400 (0.592 sec)\n",
            "INFO:tensorflow:global_step/sec: 198.555\n",
            "INFO:tensorflow:loss = 0.7857441, step = 500 (0.507 sec)\n",
            "INFO:tensorflow:global_step/sec: 225.512\n",
            "INFO:tensorflow:loss = 0.7494993, step = 600 (0.443 sec)\n",
            "INFO:tensorflow:global_step/sec: 230.727\n",
            "INFO:tensorflow:loss = 0.72200483, step = 700 (0.432 sec)\n",
            "INFO:tensorflow:global_step/sec: 203.968\n",
            "INFO:tensorflow:loss = 0.6937463, step = 800 (0.487 sec)\n",
            "INFO:tensorflow:global_step/sec: 224.481\n",
            "INFO:tensorflow:loss = 0.6721952, step = 900 (0.454 sec)\n",
            "INFO:tensorflow:global_step/sec: 196.67\n",
            "INFO:tensorflow:loss = 0.63906634, step = 1000 (0.502 sec)\n",
            "INFO:tensorflow:global_step/sec: 242.034\n",
            "INFO:tensorflow:loss = 0.6298938, step = 1100 (0.413 sec)\n",
            "INFO:tensorflow:global_step/sec: 214.702\n",
            "INFO:tensorflow:loss = 0.61935914, step = 1200 (0.476 sec)\n",
            "INFO:tensorflow:global_step/sec: 186.491\n",
            "INFO:tensorflow:loss = 0.6052033, step = 1300 (0.525 sec)\n",
            "INFO:tensorflow:global_step/sec: 188.91\n",
            "INFO:tensorflow:loss = 0.58655727, step = 1400 (0.529 sec)\n",
            "INFO:tensorflow:global_step/sec: 177.578\n",
            "INFO:tensorflow:loss = 0.5660896, step = 1500 (0.563 sec)\n",
            "INFO:tensorflow:global_step/sec: 137.253\n",
            "INFO:tensorflow:loss = 0.55091876, step = 1600 (0.728 sec)\n",
            "INFO:tensorflow:global_step/sec: 176.171\n",
            "INFO:tensorflow:loss = 0.54574984, step = 1700 (0.568 sec)\n",
            "INFO:tensorflow:global_step/sec: 140.006\n",
            "INFO:tensorflow:loss = 0.5367377, step = 1800 (0.724 sec)\n",
            "INFO:tensorflow:global_step/sec: 202.856\n",
            "INFO:tensorflow:loss = 0.53003424, step = 1900 (0.485 sec)\n",
            "INFO:tensorflow:global_step/sec: 194.081\n",
            "INFO:tensorflow:loss = 0.5254868, step = 2000 (0.524 sec)\n",
            "INFO:tensorflow:global_step/sec: 189.217\n",
            "INFO:tensorflow:loss = 0.5157238, step = 2100 (0.522 sec)\n",
            "INFO:tensorflow:global_step/sec: 230.09\n",
            "INFO:tensorflow:loss = 0.5134855, step = 2200 (0.436 sec)\n",
            "INFO:tensorflow:global_step/sec: 214.803\n",
            "INFO:tensorflow:loss = 0.49055645, step = 2300 (0.466 sec)\n",
            "INFO:tensorflow:global_step/sec: 264.234\n",
            "INFO:tensorflow:loss = 0.48554242, step = 2400 (0.374 sec)\n",
            "INFO:tensorflow:global_step/sec: 354.853\n",
            "INFO:tensorflow:loss = 0.4715762, step = 2500 (0.284 sec)\n",
            "INFO:tensorflow:global_step/sec: 387.289\n",
            "INFO:tensorflow:loss = 0.4822336, step = 2600 (0.255 sec)\n",
            "INFO:tensorflow:global_step/sec: 374.879\n",
            "INFO:tensorflow:loss = 0.4693498, step = 2700 (0.268 sec)\n",
            "INFO:tensorflow:global_step/sec: 382.373\n",
            "INFO:tensorflow:loss = 0.458916, step = 2800 (0.261 sec)\n",
            "INFO:tensorflow:global_step/sec: 374.763\n",
            "INFO:tensorflow:loss = 0.46675742, step = 2900 (0.267 sec)\n",
            "INFO:tensorflow:global_step/sec: 372.201\n",
            "INFO:tensorflow:loss = 0.44911793, step = 3000 (0.272 sec)\n",
            "INFO:tensorflow:global_step/sec: 379.853\n",
            "INFO:tensorflow:loss = 0.4392122, step = 3100 (0.259 sec)\n",
            "INFO:tensorflow:global_step/sec: 389.585\n",
            "INFO:tensorflow:loss = 0.45736068, step = 3200 (0.260 sec)\n",
            "INFO:tensorflow:global_step/sec: 391.995\n",
            "INFO:tensorflow:loss = 0.437182, step = 3300 (0.255 sec)\n",
            "INFO:tensorflow:global_step/sec: 373.67\n",
            "INFO:tensorflow:loss = 0.44300508, step = 3400 (0.266 sec)\n",
            "INFO:tensorflow:global_step/sec: 361.324\n",
            "INFO:tensorflow:loss = 0.43194994, step = 3500 (0.280 sec)\n",
            "INFO:tensorflow:global_step/sec: 364.896\n",
            "INFO:tensorflow:loss = 0.43178898, step = 3600 (0.274 sec)\n",
            "INFO:tensorflow:global_step/sec: 404.305\n",
            "INFO:tensorflow:loss = 0.4287797, step = 3700 (0.247 sec)\n",
            "INFO:tensorflow:global_step/sec: 384.072\n",
            "INFO:tensorflow:loss = 0.41067845, step = 3800 (0.257 sec)\n",
            "INFO:tensorflow:global_step/sec: 364.038\n",
            "INFO:tensorflow:loss = 0.4121862, step = 3900 (0.279 sec)\n",
            "INFO:tensorflow:global_step/sec: 376.187\n",
            "INFO:tensorflow:loss = 0.4076046, step = 4000 (0.263 sec)\n",
            "INFO:tensorflow:global_step/sec: 399.273\n",
            "INFO:tensorflow:loss = 0.406267, step = 4100 (0.252 sec)\n",
            "INFO:tensorflow:global_step/sec: 359.421\n",
            "INFO:tensorflow:loss = 0.4065651, step = 4200 (0.276 sec)\n",
            "INFO:tensorflow:global_step/sec: 382.405\n",
            "INFO:tensorflow:loss = 0.41054767, step = 4300 (0.264 sec)\n",
            "INFO:tensorflow:global_step/sec: 386.01\n",
            "INFO:tensorflow:loss = 0.3992527, step = 4400 (0.255 sec)\n",
            "INFO:tensorflow:global_step/sec: 361.163\n",
            "INFO:tensorflow:loss = 0.39649528, step = 4500 (0.277 sec)\n",
            "INFO:tensorflow:global_step/sec: 411.341\n",
            "INFO:tensorflow:loss = 0.39081794, step = 4600 (0.247 sec)\n",
            "INFO:tensorflow:global_step/sec: 360.641\n",
            "INFO:tensorflow:loss = 0.3971808, step = 4700 (0.275 sec)\n",
            "INFO:tensorflow:global_step/sec: 389.799\n",
            "INFO:tensorflow:loss = 0.3846761, step = 4800 (0.259 sec)\n",
            "INFO:tensorflow:global_step/sec: 395.222\n",
            "INFO:tensorflow:loss = 0.37550044, step = 4900 (0.255 sec)\n",
            "INFO:tensorflow:Calling checkpoint listeners before saving checkpoint 5000...\n",
            "INFO:tensorflow:Saving checkpoints for 5000 into /tmp/tmpy8ih6hh3/model.ckpt.\n",
            "INFO:tensorflow:Calling checkpoint listeners after saving checkpoint 5000...\n",
            "INFO:tensorflow:Loss for final step: 0.37236717.\n"
          ]
        },
        {
          "output_type": "execute_result",
          "data": {
            "text/plain": [
              "<tensorflow_estimator.python.estimator.canned.dnn.DNNClassifierV2 at 0x7f447d4f0690>"
            ]
          },
          "metadata": {},
          "execution_count": 10
        }
      ]
    },
    {
      "cell_type": "markdown",
      "source": [
        "Step 8: Evaluate the Model"
      ],
      "metadata": {
        "id": "WXe6J0pHuhun"
      }
    },
    {
      "cell_type": "code",
      "source": [
        "result = cf.evaluate(input_fn=lambda:inputf(test,testspecies,training=False))\n",
        "clear_output()\n",
        "print('Accuracy is',result['accuracy']*100)"
      ],
      "metadata": {
        "colab": {
          "base_uri": "https://localhost:8080/"
        },
        "id": "IgRQFSI3un5n",
        "outputId": "71068eb9-2926-4815-ce4f-991106e6d1df"
      },
      "execution_count": 11,
      "outputs": [
        {
          "output_type": "stream",
          "name": "stdout",
          "text": [
            "Accuracy is 93.33333373069763\n"
          ]
        }
      ]
    },
    {
      "cell_type": "markdown",
      "source": [
        "Step 9: Now Lets Run our predictions "
      ],
      "metadata": {
        "id": "fbZEvT1swTz1"
      }
    },
    {
      "cell_type": "code",
      "source": [
        "predictions  = list(cf.predict(input_fn=lambda:inputf(test,testspecies,training=False)))\n",
        "i = 33\n",
        "#printing the detailsof the species\n",
        "print(test.loc[i])\n",
        "#extraction location of the species\n",
        "id = predictions[i]['class_ids'][0]\n",
        "#probability of only the required species and extracted location\n",
        "probability = predictions[i]['probabilities'][id]\n",
        "print('Species is ',Species[id],'Probability:',probability)\n",
        "print('original species id',testspecies[i])\n",
        "print('predicted id',id)\n",
        "if testspecies[i]==id:\n",
        "  print(\"Prediction successful\")\n",
        "else:\n",
        "  print(\"Oops\")"
      ],
      "metadata": {
        "colab": {
          "base_uri": "https://localhost:8080/"
        },
        "id": "u6B2CERswZaM",
        "outputId": "413c5baf-0791-48c6-b9d1-d65ff2370b04"
      },
      "execution_count": 14,
      "outputs": [
        {
          "output_type": "stream",
          "name": "stdout",
          "text": [
            "INFO:tensorflow:Calling model_fn.\n",
            "INFO:tensorflow:Done calling model_fn.\n",
            "INFO:tensorflow:Graph was finalized.\n",
            "INFO:tensorflow:Restoring parameters from /tmp/tmpy8ih6hh3/model.ckpt-5000\n",
            "INFO:tensorflow:Running local_init_op.\n",
            "INFO:tensorflow:Done running local_init_op.\n",
            "SepalLength    5.9\n",
            "SepalWidth     3.0\n",
            "PetalLength    4.2\n",
            "PetalWidth     1.5\n",
            "Name: 0, dtype: float64\n",
            "Species is  Versicolor Probability: 0.531227\n",
            "original species id 1\n",
            "predicted id 1\n",
            "Prediction successful\n"
          ]
        }
      ]
    },
    {
      "cell_type": "markdown",
      "source": [
        "Step 10: User Input Prediction of the Flower"
      ],
      "metadata": {
        "id": "OyQ7Zv7OAHT_"
      }
    },
    {
      "cell_type": "code",
      "source": [
        "#reading user data\n",
        "def userinput(datass,batchsize=256):\n",
        "  return tf.data.Dataset.from_tensor_slices(dict(datass)).batch(batch_size=batchsize)\n",
        "\n",
        "features = ['SepalLength', 'SepalWidth', 'PetalLength', 'PetalWidth']\n",
        "\n",
        "predict={}\n",
        "#reading user data\n",
        "print(\"enter numerical for following\")\n",
        "for f in features:\n",
        "  valid =True\n",
        "  while valid:\n",
        "    val = input(f + \":\")\n",
        "    if not val.isdigit():\n",
        "      valid=False\n",
        "  predict[f]=[float(val)]\n",
        "    \n",
        "  \n",
        "\n",
        "prediction = cf.predict(input_fn=lambda:userinput(predict))\n",
        "#Displaying data using the data's id\n",
        "clear_output()\n",
        "for x in prediction:\n",
        "  id = x['class_ids'][0]\n",
        "  probability = x['probabilities'][id]\n",
        "\n",
        "species = Species[id]\n",
        "print(\"Species is \",species,\" probability:\",probability)"
      ],
      "metadata": {
        "colab": {
          "base_uri": "https://localhost:8080/"
        },
        "id": "ab1SwmB5_-_U",
        "outputId": "878ef1cf-66d1-4eef-de66-cbc5f98d1b3d"
      },
      "execution_count": 13,
      "outputs": [
        {
          "output_type": "stream",
          "name": "stdout",
          "text": [
            "INFO:tensorflow:Calling model_fn.\n",
            "INFO:tensorflow:Done calling model_fn.\n",
            "INFO:tensorflow:Graph was finalized.\n",
            "INFO:tensorflow:Restoring parameters from /tmp/tmpy8ih6hh3/model.ckpt-5000\n",
            "INFO:tensorflow:Running local_init_op.\n",
            "INFO:tensorflow:Done running local_init_op.\n",
            "Species is  Virginica  probability: 0.8312264\n"
          ]
        }
      ]
    }
  ]
}