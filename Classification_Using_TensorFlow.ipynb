{
  "nbformat": 4,
  "nbformat_minor": 0,
  "metadata": {
    "colab": {
      "name": "Classification Using TensorFlow.ipynb",
      "provenance": [],
      "collapsed_sections": [],
      "authorship_tag": "ABX9TyNcpia39oOzBAf3byUjCfXx",
      "include_colab_link": true
    },
    "kernelspec": {
      "name": "python3",
      "display_name": "Python 3"
    },
    "language_info": {
      "name": "python"
    }
  },
  "cells": [
    {
      "cell_type": "markdown",
      "metadata": {
        "id": "view-in-github",
        "colab_type": "text"
      },
      "source": [
        "<a href=\"https://colab.research.google.com/github/koushikpr/Machine-Learning-Prerequisites/blob/Classification/Classification_Using_TensorFlow.ipynb\" target=\"_parent\"><img src=\"https://colab.research.google.com/assets/colab-badge.svg\" alt=\"Open In Colab\"/></a>"
      ]
    },
    {
      "cell_type": "code",
      "execution_count": null,
      "metadata": {
        "id": "SVukoWc7N67t"
      },
      "outputs": [],
      "source": [
        "from __future__ import absolute_import, division, print_function, unicode_literals\n",
        "\n",
        "import numpy as np\n",
        "import pandas as pd\n",
        "import matplotlib.pyplot as plt\n",
        "from IPython.display import clear_output\n",
        "from six.moves import urllib\n",
        "\n",
        "import tensorflow.compat.v2.feature_column as fc\n",
        "import tensorflow as tf"
      ]
    },
    {
      "cell_type": "markdown",
      "source": [
        "# **Classification**\n",
        "\n",
        "---\n",
        "\n"
      ],
      "metadata": {
        "id": "GmCVYlIJ-oL5"
      }
    },
    {
      "cell_type": "markdown",
      "source": [
        "2. Classification: Unlike linear Regression that predicts the output based on the numerical values plots on an n dimensional graph, Classification is going to seperate all these values based on features or cahracterstics of the data. "
      ],
      "metadata": {
        "id": "vgmg0pg-BOSh"
      }
    },
    {
      "cell_type": "markdown",
      "source": [
        "Predicting the Flower species \n",
        "This specific dataset seperates flowers into 3 different classes of species.\n",
        "- Setosa\n",
        "- Versicolor\n",
        "- Virginica\n",
        "\n",
        "The information about each flower is the following.\n",
        "- sepal length\n",
        "- sepal width\n",
        "- petal length\n",
        "- petal width"
      ],
      "metadata": {
        "id": "U_aMHzTEKR-R"
      }
    },
    {
      "cell_type": "code",
      "source": [
        "Columns = ['SepalLength', 'SepalWidth', 'PetalLength', 'PetalWidth', 'Species']\n",
        "Species = ['Setosa', 'Versicolor', 'Virginica']"
      ],
      "metadata": {
        "id": "KGo3nFNiK5Ud"
      },
      "execution_count": null,
      "outputs": []
    },
    {
      "cell_type": "markdown",
      "source": [
        "Step 1: Loading the DataSet of Flowers"
      ],
      "metadata": {
        "id": "1npy0Lz0KtbD"
      }
    },
    {
      "cell_type": "code",
      "source": [
        "#keras utilities allows us to read files and retrieve them from a cloud or our device\n",
        "train_path = tf.keras.utils.get_file(\n",
        "    \"iris_training.csv\", \"https://storage.googleapis.com/download.tensorflow.org/data/iris_training.csv\")\n",
        "test_path = tf.keras.utils.get_file(\n",
        "    \"iris_test.csv\", \"https://storage.googleapis.com/download.tensorflow.org/data/iris_test.csv\")\n",
        "#These are Prestored in the drive u can copy the above lines directly\n",
        "\n",
        "#reading only the required column data\n",
        "train = pd.read_csv(train_path, names=Columns, header=0)\n",
        "test = pd.read_csv(test_path, names=Columns, header=0)\n",
        "# Here we use keras (a module inside of TensorFlow) to grab our datasets and read them into a pandas dataframe"
      ],
      "metadata": {
        "id": "vdIeMpR-LJP1"
      },
      "execution_count": null,
      "outputs": []
    },
    {
      "cell_type": "markdown",
      "source": [
        "Check the data"
      ],
      "metadata": {
        "id": "yji4i-8dL38u"
      }
    },
    {
      "cell_type": "code",
      "source": [
        "train.head()"
      ],
      "metadata": {
        "colab": {
          "base_uri": "https://localhost:8080/",
          "height": 206
        },
        "id": "v7lvdxy7L51W",
        "outputId": "dd93c64c-12f1-4898-c8ed-be282d4aab0b"
      },
      "execution_count": null,
      "outputs": [
        {
          "output_type": "execute_result",
          "data": {
            "text/plain": [
              "   SepalLength  SepalWidth  PetalLength  PetalWidth  Species\n",
              "0          6.4         2.8          5.6         2.2        2\n",
              "1          5.0         2.3          3.3         1.0        1\n",
              "2          4.9         2.5          4.5         1.7        2\n",
              "3          4.9         3.1          1.5         0.1        0\n",
              "4          5.7         3.8          1.7         0.3        0"
            ],
            "text/html": [
              "\n",
              "  <div id=\"df-279d80d1-9499-442b-9f6a-cf0ea586ee45\">\n",
              "    <div class=\"colab-df-container\">\n",
              "      <div>\n",
              "<style scoped>\n",
              "    .dataframe tbody tr th:only-of-type {\n",
              "        vertical-align: middle;\n",
              "    }\n",
              "\n",
              "    .dataframe tbody tr th {\n",
              "        vertical-align: top;\n",
              "    }\n",
              "\n",
              "    .dataframe thead th {\n",
              "        text-align: right;\n",
              "    }\n",
              "</style>\n",
              "<table border=\"1\" class=\"dataframe\">\n",
              "  <thead>\n",
              "    <tr style=\"text-align: right;\">\n",
              "      <th></th>\n",
              "      <th>SepalLength</th>\n",
              "      <th>SepalWidth</th>\n",
              "      <th>PetalLength</th>\n",
              "      <th>PetalWidth</th>\n",
              "      <th>Species</th>\n",
              "    </tr>\n",
              "  </thead>\n",
              "  <tbody>\n",
              "    <tr>\n",
              "      <th>0</th>\n",
              "      <td>6.4</td>\n",
              "      <td>2.8</td>\n",
              "      <td>5.6</td>\n",
              "      <td>2.2</td>\n",
              "      <td>2</td>\n",
              "    </tr>\n",
              "    <tr>\n",
              "      <th>1</th>\n",
              "      <td>5.0</td>\n",
              "      <td>2.3</td>\n",
              "      <td>3.3</td>\n",
              "      <td>1.0</td>\n",
              "      <td>1</td>\n",
              "    </tr>\n",
              "    <tr>\n",
              "      <th>2</th>\n",
              "      <td>4.9</td>\n",
              "      <td>2.5</td>\n",
              "      <td>4.5</td>\n",
              "      <td>1.7</td>\n",
              "      <td>2</td>\n",
              "    </tr>\n",
              "    <tr>\n",
              "      <th>3</th>\n",
              "      <td>4.9</td>\n",
              "      <td>3.1</td>\n",
              "      <td>1.5</td>\n",
              "      <td>0.1</td>\n",
              "      <td>0</td>\n",
              "    </tr>\n",
              "    <tr>\n",
              "      <th>4</th>\n",
              "      <td>5.7</td>\n",
              "      <td>3.8</td>\n",
              "      <td>1.7</td>\n",
              "      <td>0.3</td>\n",
              "      <td>0</td>\n",
              "    </tr>\n",
              "  </tbody>\n",
              "</table>\n",
              "</div>\n",
              "      <button class=\"colab-df-convert\" onclick=\"convertToInteractive('df-279d80d1-9499-442b-9f6a-cf0ea586ee45')\"\n",
              "              title=\"Convert this dataframe to an interactive table.\"\n",
              "              style=\"display:none;\">\n",
              "        \n",
              "  <svg xmlns=\"http://www.w3.org/2000/svg\" height=\"24px\"viewBox=\"0 0 24 24\"\n",
              "       width=\"24px\">\n",
              "    <path d=\"M0 0h24v24H0V0z\" fill=\"none\"/>\n",
              "    <path d=\"M18.56 5.44l.94 2.06.94-2.06 2.06-.94-2.06-.94-.94-2.06-.94 2.06-2.06.94zm-11 1L8.5 8.5l.94-2.06 2.06-.94-2.06-.94L8.5 2.5l-.94 2.06-2.06.94zm10 10l.94 2.06.94-2.06 2.06-.94-2.06-.94-.94-2.06-.94 2.06-2.06.94z\"/><path d=\"M17.41 7.96l-1.37-1.37c-.4-.4-.92-.59-1.43-.59-.52 0-1.04.2-1.43.59L10.3 9.45l-7.72 7.72c-.78.78-.78 2.05 0 2.83L4 21.41c.39.39.9.59 1.41.59.51 0 1.02-.2 1.41-.59l7.78-7.78 2.81-2.81c.8-.78.8-2.07 0-2.86zM5.41 20L4 18.59l7.72-7.72 1.47 1.35L5.41 20z\"/>\n",
              "  </svg>\n",
              "      </button>\n",
              "      \n",
              "  <style>\n",
              "    .colab-df-container {\n",
              "      display:flex;\n",
              "      flex-wrap:wrap;\n",
              "      gap: 12px;\n",
              "    }\n",
              "\n",
              "    .colab-df-convert {\n",
              "      background-color: #E8F0FE;\n",
              "      border: none;\n",
              "      border-radius: 50%;\n",
              "      cursor: pointer;\n",
              "      display: none;\n",
              "      fill: #1967D2;\n",
              "      height: 32px;\n",
              "      padding: 0 0 0 0;\n",
              "      width: 32px;\n",
              "    }\n",
              "\n",
              "    .colab-df-convert:hover {\n",
              "      background-color: #E2EBFA;\n",
              "      box-shadow: 0px 1px 2px rgba(60, 64, 67, 0.3), 0px 1px 3px 1px rgba(60, 64, 67, 0.15);\n",
              "      fill: #174EA6;\n",
              "    }\n",
              "\n",
              "    [theme=dark] .colab-df-convert {\n",
              "      background-color: #3B4455;\n",
              "      fill: #D2E3FC;\n",
              "    }\n",
              "\n",
              "    [theme=dark] .colab-df-convert:hover {\n",
              "      background-color: #434B5C;\n",
              "      box-shadow: 0px 1px 3px 1px rgba(0, 0, 0, 0.15);\n",
              "      filter: drop-shadow(0px 1px 2px rgba(0, 0, 0, 0.3));\n",
              "      fill: #FFFFFF;\n",
              "    }\n",
              "  </style>\n",
              "\n",
              "      <script>\n",
              "        const buttonEl =\n",
              "          document.querySelector('#df-279d80d1-9499-442b-9f6a-cf0ea586ee45 button.colab-df-convert');\n",
              "        buttonEl.style.display =\n",
              "          google.colab.kernel.accessAllowed ? 'block' : 'none';\n",
              "\n",
              "        async function convertToInteractive(key) {\n",
              "          const element = document.querySelector('#df-279d80d1-9499-442b-9f6a-cf0ea586ee45');\n",
              "          const dataTable =\n",
              "            await google.colab.kernel.invokeFunction('convertToInteractive',\n",
              "                                                     [key], {});\n",
              "          if (!dataTable) return;\n",
              "\n",
              "          const docLinkHtml = 'Like what you see? Visit the ' +\n",
              "            '<a target=\"_blank\" href=https://colab.research.google.com/notebooks/data_table.ipynb>data table notebook</a>'\n",
              "            + ' to learn more about interactive tables.';\n",
              "          element.innerHTML = '';\n",
              "          dataTable['output_type'] = 'display_data';\n",
              "          await google.colab.output.renderOutput(dataTable, element);\n",
              "          const docLink = document.createElement('div');\n",
              "          docLink.innerHTML = docLinkHtml;\n",
              "          element.appendChild(docLink);\n",
              "        }\n",
              "      </script>\n",
              "    </div>\n",
              "  </div>\n",
              "  "
            ]
          },
          "metadata": {},
          "execution_count": 38
        }
      ]
    },
    {
      "cell_type": "markdown",
      "source": [
        "Step 3: Remove the Species as we wanna predict that now"
      ],
      "metadata": {
        "id": "lxcnTk5iMI66"
      }
    },
    {
      "cell_type": "code",
      "source": [
        "trainspecies = train.pop('Species')\n",
        "testspecies = test.pop('Species')\n",
        "trainspecies.head()"
      ],
      "metadata": {
        "colab": {
          "base_uri": "https://localhost:8080/"
        },
        "id": "Z3WysEMiMQEj",
        "outputId": "431020d5-6a92-43f5-8c25-e1de07246ec8"
      },
      "execution_count": null,
      "outputs": [
        {
          "output_type": "execute_result",
          "data": {
            "text/plain": [
              "0    2\n",
              "1    1\n",
              "2    2\n",
              "3    0\n",
              "4    0\n",
              "5    0\n",
              "6    0\n",
              "7    2\n",
              "8    1\n",
              "9    0\n",
              "Name: Species, dtype: int64"
            ]
          },
          "metadata": {},
          "execution_count": 46
        }
      ]
    },
    {
      "cell_type": "markdown",
      "source": [
        "Step 4: Converting our Data to Tensors Input "
      ],
      "metadata": {
        "id": "ca6vSZlKNBn2"
      }
    },
    {
      "cell_type": "code",
      "source": [
        "def inputf(features,labels,training =True,batchsize=256):\n",
        "  ds = tf.data.Dataset.from_tensor_slices((dict(features),labels))\n",
        "  if training:\n",
        "    ds = ds.shuffle(1000).repeat()\n",
        "  return ds.batch(batch_size=batchsize)\n",
        "  "
      ],
      "metadata": {
        "id": "wyxb3l5wNSiS"
      },
      "execution_count": null,
      "outputs": []
    },
    {
      "cell_type": "markdown",
      "source": [
        "Step 5: Creating our feature columns"
      ],
      "metadata": {
        "id": "CY5cDOIKOaTN"
      }
    },
    {
      "cell_type": "code",
      "source": [
        "fc = []\n",
        "for key in train.keys():\n",
        "  fc.append(tf.feature_column.numeric_column(key=key))\n",
        "print(fc)"
      ],
      "metadata": {
        "colab": {
          "base_uri": "https://localhost:8080/"
        },
        "id": "u1m4Bou-OeHX",
        "outputId": "2178170b-d87a-4e95-85af-01ec6f1fb904"
      },
      "execution_count": null,
      "outputs": [
        {
          "output_type": "stream",
          "name": "stdout",
          "text": [
            "[NumericColumn(key='SepalLength', shape=(1,), default_value=None, dtype=tf.float32, normalizer_fn=None), NumericColumn(key='SepalWidth', shape=(1,), default_value=None, dtype=tf.float32, normalizer_fn=None), NumericColumn(key='PetalLength', shape=(1,), default_value=None, dtype=tf.float32, normalizer_fn=None), NumericColumn(key='PetalWidth', shape=(1,), default_value=None, dtype=tf.float32, normalizer_fn=None)]\n"
          ]
        }
      ]
    },
    {
      "cell_type": "markdown",
      "source": [
        "Step 6: Loading the estimator DNN (Deep Neural Network Classifier)"
      ],
      "metadata": {
        "id": "5nR7ZjgOflwA"
      }
    },
    {
      "cell_type": "code",
      "source": [
        "#DNN classifier with 2 hidden layers(30 and 10 nodes repsectively) and 3 classes\n",
        "cf = tf.estimator.DNNClassifier(\n",
        "    feature_columns=fc,\n",
        "    hidden_units=[30,10],\n",
        "    n_classes=3\n",
        ")"
      ],
      "metadata": {
        "colab": {
          "base_uri": "https://localhost:8080/"
        },
        "id": "5L2txz5HjMsx",
        "outputId": "7725a8ee-5ad1-4cb0-a44b-91d85fbdfbb4"
      },
      "execution_count": null,
      "outputs": [
        {
          "output_type": "stream",
          "name": "stdout",
          "text": [
            "INFO:tensorflow:Using default config.\n",
            "WARNING:tensorflow:Using temporary folder as model directory: /tmp/tmpo3k78gnj\n",
            "INFO:tensorflow:Using config: {'_model_dir': '/tmp/tmpo3k78gnj', '_tf_random_seed': None, '_save_summary_steps': 100, '_save_checkpoints_steps': None, '_save_checkpoints_secs': 600, '_session_config': allow_soft_placement: true\n",
            "graph_options {\n",
            "  rewrite_options {\n",
            "    meta_optimizer_iterations: ONE\n",
            "  }\n",
            "}\n",
            ", '_keep_checkpoint_max': 5, '_keep_checkpoint_every_n_hours': 10000, '_log_step_count_steps': 100, '_train_distribute': None, '_device_fn': None, '_protocol': None, '_eval_distribute': None, '_experimental_distribute': None, '_experimental_max_worker_delay_secs': None, '_session_creation_timeout_secs': 7200, '_checkpoint_save_graph_def': True, '_service': None, '_cluster_spec': ClusterSpec({}), '_task_type': 'worker', '_task_id': 0, '_global_id_in_cluster': 0, '_master': '', '_evaluation_master': '', '_is_chief': True, '_num_ps_replicas': 0, '_num_worker_replicas': 1}\n"
          ]
        }
      ]
    },
    {
      "cell_type": "markdown",
      "source": [
        "Step 7: Training the estimator"
      ],
      "metadata": {
        "id": "4Kgy2MYgjgbr"
      }
    },
    {
      "cell_type": "code",
      "source": [
        "cf.train(\n",
        "    input_fn = lambda: inputf(train,trainspecies,training=True),\n",
        "    steps=5000\n",
        ")"
      ],
      "metadata": {
        "colab": {
          "base_uri": "https://localhost:8080/"
        },
        "id": "8T5GxxuOj7G3",
        "outputId": "b11042bb-5f3d-4dee-a3e1-a81ee521a9a5"
      },
      "execution_count": null,
      "outputs": [
        {
          "output_type": "stream",
          "name": "stdout",
          "text": [
            "INFO:tensorflow:Calling model_fn.\n",
            "INFO:tensorflow:Done calling model_fn.\n",
            "INFO:tensorflow:Create CheckpointSaverHook.\n",
            "INFO:tensorflow:Graph was finalized.\n",
            "INFO:tensorflow:Running local_init_op.\n",
            "INFO:tensorflow:Done running local_init_op.\n",
            "INFO:tensorflow:Calling checkpoint listeners before saving checkpoint 0...\n",
            "INFO:tensorflow:Saving checkpoints for 0 into /tmp/tmpo3k78gnj/model.ckpt.\n",
            "INFO:tensorflow:Calling checkpoint listeners after saving checkpoint 0...\n",
            "INFO:tensorflow:loss = 1.608706, step = 0\n",
            "INFO:tensorflow:global_step/sec: 329.079\n",
            "INFO:tensorflow:loss = 1.1722572, step = 100 (0.309 sec)\n",
            "INFO:tensorflow:global_step/sec: 460.305\n",
            "INFO:tensorflow:loss = 1.0776241, step = 200 (0.219 sec)\n",
            "INFO:tensorflow:global_step/sec: 398.584\n",
            "INFO:tensorflow:loss = 1.0557326, step = 300 (0.251 sec)\n",
            "INFO:tensorflow:global_step/sec: 426.101\n",
            "INFO:tensorflow:loss = 1.0201087, step = 400 (0.235 sec)\n",
            "INFO:tensorflow:global_step/sec: 393.658\n",
            "INFO:tensorflow:loss = 1.0059271, step = 500 (0.253 sec)\n",
            "INFO:tensorflow:global_step/sec: 440.749\n",
            "INFO:tensorflow:loss = 0.9993466, step = 600 (0.224 sec)\n",
            "INFO:tensorflow:global_step/sec: 405.198\n",
            "INFO:tensorflow:loss = 0.9762707, step = 700 (0.250 sec)\n",
            "INFO:tensorflow:global_step/sec: 438.501\n",
            "INFO:tensorflow:loss = 0.9634817, step = 800 (0.229 sec)\n",
            "INFO:tensorflow:global_step/sec: 405.734\n",
            "INFO:tensorflow:loss = 0.95094264, step = 900 (0.246 sec)\n",
            "INFO:tensorflow:global_step/sec: 402.204\n",
            "INFO:tensorflow:loss = 0.9468558, step = 1000 (0.249 sec)\n",
            "INFO:tensorflow:global_step/sec: 405.463\n",
            "INFO:tensorflow:loss = 0.9185516, step = 1100 (0.246 sec)\n",
            "INFO:tensorflow:global_step/sec: 407.994\n",
            "INFO:tensorflow:loss = 0.9085334, step = 1200 (0.247 sec)\n",
            "INFO:tensorflow:global_step/sec: 452.939\n",
            "INFO:tensorflow:loss = 0.90346926, step = 1300 (0.219 sec)\n",
            "INFO:tensorflow:global_step/sec: 424.289\n",
            "INFO:tensorflow:loss = 0.88650775, step = 1400 (0.237 sec)\n",
            "INFO:tensorflow:global_step/sec: 438.377\n",
            "INFO:tensorflow:loss = 0.85026085, step = 1500 (0.226 sec)\n",
            "INFO:tensorflow:global_step/sec: 409.859\n",
            "INFO:tensorflow:loss = 0.81755286, step = 1600 (0.245 sec)\n",
            "INFO:tensorflow:global_step/sec: 444.818\n",
            "INFO:tensorflow:loss = 0.8034793, step = 1700 (0.224 sec)\n",
            "INFO:tensorflow:global_step/sec: 449.477\n",
            "INFO:tensorflow:loss = 0.7854526, step = 1800 (0.223 sec)\n",
            "INFO:tensorflow:global_step/sec: 471.757\n",
            "INFO:tensorflow:loss = 0.78215766, step = 1900 (0.209 sec)\n",
            "INFO:tensorflow:global_step/sec: 397.802\n",
            "INFO:tensorflow:loss = 0.76876485, step = 2000 (0.257 sec)\n",
            "INFO:tensorflow:global_step/sec: 414.088\n",
            "INFO:tensorflow:loss = 0.74564266, step = 2100 (0.242 sec)\n",
            "INFO:tensorflow:global_step/sec: 443.803\n",
            "INFO:tensorflow:loss = 0.72109973, step = 2200 (0.220 sec)\n",
            "INFO:tensorflow:global_step/sec: 474.854\n",
            "INFO:tensorflow:loss = 0.7233275, step = 2300 (0.210 sec)\n",
            "INFO:tensorflow:global_step/sec: 420.372\n",
            "INFO:tensorflow:loss = 0.7105889, step = 2400 (0.238 sec)\n",
            "INFO:tensorflow:global_step/sec: 345.082\n",
            "INFO:tensorflow:loss = 0.7013644, step = 2500 (0.295 sec)\n",
            "INFO:tensorflow:global_step/sec: 417.988\n",
            "INFO:tensorflow:loss = 0.6765427, step = 2600 (0.238 sec)\n",
            "INFO:tensorflow:global_step/sec: 451.131\n",
            "INFO:tensorflow:loss = 0.6683899, step = 2700 (0.221 sec)\n",
            "INFO:tensorflow:global_step/sec: 430.75\n",
            "INFO:tensorflow:loss = 0.6472318, step = 2800 (0.230 sec)\n",
            "INFO:tensorflow:global_step/sec: 399.983\n",
            "INFO:tensorflow:loss = 0.6467632, step = 2900 (0.254 sec)\n",
            "INFO:tensorflow:global_step/sec: 407.398\n",
            "INFO:tensorflow:loss = 0.62865174, step = 3000 (0.245 sec)\n",
            "INFO:tensorflow:global_step/sec: 432.684\n",
            "INFO:tensorflow:loss = 0.62805784, step = 3100 (0.232 sec)\n",
            "INFO:tensorflow:global_step/sec: 406.511\n",
            "INFO:tensorflow:loss = 0.606258, step = 3200 (0.241 sec)\n",
            "INFO:tensorflow:global_step/sec: 448.489\n",
            "INFO:tensorflow:loss = 0.599947, step = 3300 (0.227 sec)\n",
            "INFO:tensorflow:global_step/sec: 451.791\n",
            "INFO:tensorflow:loss = 0.58401823, step = 3400 (0.221 sec)\n",
            "INFO:tensorflow:global_step/sec: 467.108\n",
            "INFO:tensorflow:loss = 0.5819129, step = 3500 (0.215 sec)\n",
            "INFO:tensorflow:global_step/sec: 428.646\n",
            "INFO:tensorflow:loss = 0.56151354, step = 3600 (0.239 sec)\n",
            "INFO:tensorflow:global_step/sec: 409.773\n",
            "INFO:tensorflow:loss = 0.5487629, step = 3700 (0.241 sec)\n",
            "INFO:tensorflow:global_step/sec: 353.176\n",
            "INFO:tensorflow:loss = 0.5498775, step = 3800 (0.278 sec)\n",
            "INFO:tensorflow:global_step/sec: 421.518\n",
            "INFO:tensorflow:loss = 0.5425317, step = 3900 (0.241 sec)\n",
            "INFO:tensorflow:global_step/sec: 422.013\n",
            "INFO:tensorflow:loss = 0.54577726, step = 4000 (0.234 sec)\n",
            "INFO:tensorflow:global_step/sec: 450.106\n",
            "INFO:tensorflow:loss = 0.5338595, step = 4100 (0.223 sec)\n",
            "INFO:tensorflow:global_step/sec: 394.831\n",
            "INFO:tensorflow:loss = 0.5180563, step = 4200 (0.258 sec)\n",
            "INFO:tensorflow:global_step/sec: 428.449\n",
            "INFO:tensorflow:loss = 0.51667833, step = 4300 (0.231 sec)\n",
            "INFO:tensorflow:global_step/sec: 389.774\n",
            "INFO:tensorflow:loss = 0.50299174, step = 4400 (0.253 sec)\n",
            "INFO:tensorflow:global_step/sec: 443.616\n",
            "INFO:tensorflow:loss = 0.49611342, step = 4500 (0.229 sec)\n",
            "INFO:tensorflow:global_step/sec: 410.432\n",
            "INFO:tensorflow:loss = 0.4942255, step = 4600 (0.243 sec)\n",
            "INFO:tensorflow:global_step/sec: 406.526\n",
            "INFO:tensorflow:loss = 0.49033204, step = 4700 (0.246 sec)\n",
            "INFO:tensorflow:global_step/sec: 400.912\n",
            "INFO:tensorflow:loss = 0.47976208, step = 4800 (0.250 sec)\n",
            "INFO:tensorflow:global_step/sec: 407.668\n",
            "INFO:tensorflow:loss = 0.4806654, step = 4900 (0.246 sec)\n",
            "INFO:tensorflow:Calling checkpoint listeners before saving checkpoint 5000...\n",
            "INFO:tensorflow:Saving checkpoints for 5000 into /tmp/tmpo3k78gnj/model.ckpt.\n",
            "INFO:tensorflow:Calling checkpoint listeners after saving checkpoint 5000...\n",
            "INFO:tensorflow:Loss for final step: 0.45779386.\n"
          ]
        },
        {
          "output_type": "execute_result",
          "data": {
            "text/plain": [
              "<tensorflow_estimator.python.estimator.canned.dnn.DNNClassifierV2 at 0x7fa51e7586d0>"
            ]
          },
          "metadata": {},
          "execution_count": 50
        }
      ]
    },
    {
      "cell_type": "markdown",
      "source": [
        "Step 8: Evaluate the Model"
      ],
      "metadata": {
        "id": "WXe6J0pHuhun"
      }
    },
    {
      "cell_type": "code",
      "source": [
        "result = cf.evaluate(input_fn=lambda:inputf(test,testspecies,training=False))\n",
        "clear_output()\n",
        "print('Accuracy is',result['accuracy']*100)"
      ],
      "metadata": {
        "colab": {
          "base_uri": "https://localhost:8080/"
        },
        "id": "IgRQFSI3un5n",
        "outputId": "0d4883bb-7503-4ee5-acdf-85ac6c0d30b0"
      },
      "execution_count": null,
      "outputs": [
        {
          "output_type": "stream",
          "name": "stdout",
          "text": [
            "Accuracy is 86.66666746139526\n"
          ]
        }
      ]
    },
    {
      "cell_type": "markdown",
      "source": [
        "Step 9: Now Lets Run our predictions "
      ],
      "metadata": {
        "id": "fbZEvT1swTz1"
      }
    },
    {
      "cell_type": "code",
      "source": [
        "predictions  = list(cf.predict(input_fn=lambda:inputf(test,testspecies,training=False)))\n",
        "i = 6\n",
        "#printing the detailsof the species\n",
        "print(test.loc[i])\n",
        "#extraction location of the species\n",
        "id = predictions[i]['class_ids'][0]\n",
        "#probability of only the required species and extracted location\n",
        "probability = predictions[i]['probabilities'][id]\n",
        "print('Species is ',Species[id],'Probability:',probability)\n",
        "print('original species id',testspecies[i])\n",
        "print('predicted id',id)\n",
        "if testspecies[i]==id:\n",
        "  print(\"Prediction successful\")\n",
        "else:\n",
        "  print(\"Oops\")"
      ],
      "metadata": {
        "colab": {
          "base_uri": "https://localhost:8080/"
        },
        "id": "u6B2CERswZaM",
        "outputId": "832dca39-8ef4-4846-f31a-b9e4616ec51b"
      },
      "execution_count": null,
      "outputs": [
        {
          "output_type": "stream",
          "name": "stdout",
          "text": [
            "INFO:tensorflow:Calling model_fn.\n",
            "INFO:tensorflow:Done calling model_fn.\n",
            "INFO:tensorflow:Graph was finalized.\n",
            "INFO:tensorflow:Restoring parameters from /tmp/tmpo3k78gnj/model.ckpt-5000\n",
            "INFO:tensorflow:Running local_init_op.\n",
            "INFO:tensorflow:Done running local_init_op.\n",
            "SepalLength    5.5\n",
            "SepalWidth     4.2\n",
            "PetalLength    1.4\n",
            "PetalWidth     0.2\n",
            "Name: 6, dtype: float64\n",
            "Species is  Setosa Probability: 0.8486025\n",
            "original species id 0\n",
            "predicted id 0\n",
            "Prediction successful\n"
          ]
        }
      ]
    },
    {
      "cell_type": "markdown",
      "source": [
        "Step 10: User Input Prediction of the Flower"
      ],
      "metadata": {
        "id": "OyQ7Zv7OAHT_"
      }
    },
    {
      "cell_type": "code",
      "source": [
        "#reading user data\n",
        "def userinput(datass,batchsize=256):\n",
        "  return tf.data.Dataset.from_tensor_slices(dict(datass)).batch(batch_size=batchsize)\n",
        "\n",
        "features = ['SepalLength', 'SepalWidth', 'PetalLength', 'PetalWidth']\n",
        "\n",
        "predict={}\n",
        "#reading user data\n",
        "print(\"enter numerical for following\")\n",
        "for f in features:\n",
        "  valid =True\n",
        "  while valid:\n",
        "    val = input(f + \":\")\n",
        "    if not val.isdigit():\n",
        "      valid=False\n",
        "  predict[f]=[float(val)]\n",
        "    \n",
        "  \n",
        "\n",
        "prediction = cf.predict(input_fn=lambda:userinput(predict))\n",
        "#Displaying data using the data's id\n",
        "clear_output()\n",
        "for x in prediction:\n",
        "  id = x['class_ids'][0]\n",
        "  probability = x['probabilities'][id]\n",
        "\n",
        "species = Species[id]\n",
        "print(\"Species is \",species,\" probability:\",probability)"
      ],
      "metadata": {
        "colab": {
          "base_uri": "https://localhost:8080/"
        },
        "id": "ab1SwmB5_-_U",
        "outputId": "244efad1-e827-4469-b76d-4249856d53eb"
      },
      "execution_count": null,
      "outputs": [
        {
          "output_type": "stream",
          "name": "stdout",
          "text": [
            "INFO:tensorflow:Calling model_fn.\n",
            "INFO:tensorflow:Done calling model_fn.\n",
            "INFO:tensorflow:Graph was finalized.\n",
            "INFO:tensorflow:Restoring parameters from /tmp/tmpo3k78gnj/model.ckpt-5000\n",
            "INFO:tensorflow:Running local_init_op.\n",
            "INFO:tensorflow:Done running local_init_op.\n",
            "Species is  Virginica  probability: 0.57741416\n"
          ]
        }
      ]
    }
  ]
}